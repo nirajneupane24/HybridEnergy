{
  "cells": [
    {
      "cell_type": "markdown",
      "metadata": {
        "colab_type": "text",
        "id": "view-in-github"
      },
      "source": [
        "<a href=\"https://colab.research.google.com/github/phantom-balance/HybridEnergy/blob/master/Solar_P2H2P_gaisifer.ipynb\" target=\"_parent\"><img src=\"https://colab.research.google.com/assets/colab-badge.svg\" alt=\"Open In Colab\"/></a>"
      ]
    },
    {
      "cell_type": "code",
      "execution_count": 1,
      "metadata": {
        "id": "ZRClomt1j_AG"
      },
      "outputs": [],
      "source": [
        "# pymoo used for optimization\n",
        "from IPython.display import clear_output\n",
        "!pip install pymoo\n",
        "clear_output()"
      ]
    },
    {
      "cell_type": "code",
      "execution_count": 2,
      "metadata": {
        "id": "_erlvqwNkL03"
      },
      "outputs": [],
      "source": [
        "# import necessary libraries\n",
        "import pandas as pd\n",
        "import numpy as np\n",
        "import matplotlib.pyplot as plt\n",
        "import pymoo\n",
        "from pymoo.optimize import minimize\n",
        "from pymoo.core.problem import Problem"
      ]
    },
    {
      "cell_type": "code",
      "execution_count": 14,
      "metadata": {
        "id": "ceko7VdekSH0"
      },
      "outputs": [],
      "source": [
        "# reading the hourly energy csv file \"contains hourly data for deficits, solar radiation and ambient air temperature(Jumla)\"\n",
        "df = pd.read_csv(r'C:\\Users\\Asus\\Desktop\\Gasification files\\GA\\HOURLY_DATA_new.csv')\n",
        "# df = df[0:500]\n",
        "'''\n",
        "     csv file has deficit energy in MWh, solar radiation(ghi) in W/m2, air temperature in celcius.\n",
        "    We perform the analysis in terms of KW.\n",
        "'''\n",
        "df['deficit_energy']=df['deficit_energy']*1000\n",
        "df['deficit_energy'] = df['deficit_energy'].apply(lambda x: round(x, 6))\n",
        "df['ghi']=df['ghi']/1000"
      ]
    },
    {
      "cell_type": "code",
      "execution_count": 15,
      "metadata": {
        "colab": {
          "base_uri": "https://localhost:8080/",
          "height": 300
        },
        "id": "04gFW8IokWIG",
        "outputId": "5d4062f4-48ac-43ff-d525-25f471e074f1"
      },
      "outputs": [
        {
          "data": {
            "text/html": [
              "<div>\n",
              "<style scoped>\n",
              "    .dataframe tbody tr th:only-of-type {\n",
              "        vertical-align: middle;\n",
              "    }\n",
              "\n",
              "    .dataframe tbody tr th {\n",
              "        vertical-align: top;\n",
              "    }\n",
              "\n",
              "    .dataframe thead th {\n",
              "        text-align: right;\n",
              "    }\n",
              "</style>\n",
              "<table border=\"1\" class=\"dataframe\">\n",
              "  <thead>\n",
              "    <tr style=\"text-align: right;\">\n",
              "      <th></th>\n",
              "      <th>Unnamed: 0</th>\n",
              "      <th>ghi</th>\n",
              "      <th>air_temperature</th>\n",
              "      <th>deficit_energy</th>\n",
              "    </tr>\n",
              "  </thead>\n",
              "  <tbody>\n",
              "    <tr>\n",
              "      <th>count</th>\n",
              "      <td>183960.000000</td>\n",
              "      <td>183960.000000</td>\n",
              "      <td>183960.000000</td>\n",
              "      <td>1.839600e+05</td>\n",
              "    </tr>\n",
              "    <tr>\n",
              "      <th>mean</th>\n",
              "      <td>91979.500000</td>\n",
              "      <td>0.218271</td>\n",
              "      <td>11.596737</td>\n",
              "      <td>2.363686e+05</td>\n",
              "    </tr>\n",
              "    <tr>\n",
              "      <th>std</th>\n",
              "      <td>53104.822097</td>\n",
              "      <td>0.311458</td>\n",
              "      <td>8.223487</td>\n",
              "      <td>4.957133e+05</td>\n",
              "    </tr>\n",
              "    <tr>\n",
              "      <th>min</th>\n",
              "      <td>0.000000</td>\n",
              "      <td>0.000000</td>\n",
              "      <td>-8.630000</td>\n",
              "      <td>-1.302164e+06</td>\n",
              "    </tr>\n",
              "    <tr>\n",
              "      <th>25%</th>\n",
              "      <td>45989.750000</td>\n",
              "      <td>0.000000</td>\n",
              "      <td>4.888750</td>\n",
              "      <td>-1.272546e+05</td>\n",
              "    </tr>\n",
              "    <tr>\n",
              "      <th>50%</th>\n",
              "      <td>91979.500000</td>\n",
              "      <td>0.005384</td>\n",
              "      <td>12.802500</td>\n",
              "      <td>1.943938e+05</td>\n",
              "    </tr>\n",
              "    <tr>\n",
              "      <th>75%</th>\n",
              "      <td>137969.250000</td>\n",
              "      <td>0.403645</td>\n",
              "      <td>17.676667</td>\n",
              "      <td>5.229730e+05</td>\n",
              "    </tr>\n",
              "    <tr>\n",
              "      <th>max</th>\n",
              "      <td>183959.000000</td>\n",
              "      <td>1.147850</td>\n",
              "      <td>29.931667</td>\n",
              "      <td>2.140979e+06</td>\n",
              "    </tr>\n",
              "  </tbody>\n",
              "</table>\n",
              "</div>"
            ],
            "text/plain": [
              "          Unnamed: 0            ghi  air_temperature  deficit_energy\n",
              "count  183960.000000  183960.000000    183960.000000    1.839600e+05\n",
              "mean    91979.500000       0.218271        11.596737    2.363686e+05\n",
              "std     53104.822097       0.311458         8.223487    4.957133e+05\n",
              "min         0.000000       0.000000        -8.630000   -1.302164e+06\n",
              "25%     45989.750000       0.000000         4.888750   -1.272546e+05\n",
              "50%     91979.500000       0.005384        12.802500    1.943938e+05\n",
              "75%    137969.250000       0.403645        17.676667    5.229730e+05\n",
              "max    183959.000000       1.147850        29.931667    2.140979e+06"
            ]
          },
          "execution_count": 15,
          "metadata": {},
          "output_type": "execute_result"
        }
      ],
      "source": [
        "df.describe()"
      ]
    },
    {
      "cell_type": "code",
      "execution_count": 16,
      "metadata": {
        "id": "IqOThH-PkYFf"
      },
      "outputs": [],
      "source": [
        "'''\n",
        "    All the necessary constants required for modeling.\n",
        "'''\n",
        "N = 20 # project_life\n",
        "i = 0.06 # interest_rate\n",
        "\n",
        "solar_cost_unit = 727 # usd/kW(capex)\n",
        "solar_OM = 4 # usd/kW.year(opex)\n",
        "\n",
        "CRF = (i*((1+i)**N))/(((1+i)**N)-1) # capital recovery factor\n",
        "d_f = 0.88 #derating_factor\n",
        "Gt_stc = 1 #kw/m2\n",
        "ap = -0.0035 #solar mod temp coeff of power(%/oC)\n",
        "T_cstc = 25 #oC standard temp\n",
        "NOCT = 45 #oC\n",
        "n_bat = 0.92 #round trip efficieny\n",
        "\n",
        "gasifier_cost_unit = 2300 # usd/kW(capex)\n",
        "gasifier_OM = 2 # usd/kW.year(opex)\n",
        "gasifier_CUF = 0.55 # capacity utilization factor"
      ]
    },
    {
      "cell_type": "code",
      "execution_count": 17,
      "metadata": {
        "id": "_TegXdgQkgW3"
      },
      "outputs": [],
      "source": [
        "'''\n",
        "    Calculating the Annualized system cost(ASC) and the levelised cost of energy(LCOE)\n",
        "'''\n",
        "def cost_electrolyser(electrolyser, electrolyser_elec):\n",
        "  electrolyser_cap = ((585.85+(9458.2/electrolyser)*electrolyser**0.622)*((2024/2020)**(-158.9)))\n",
        "  electrolyser_elec_op = electrolyser_elec*0.04*CRF\n",
        "  electrolyser_op = 0.04*CRF*electrolyser_cap + electrolyser_elec_op\n",
        "  electrolyser_cost = CRF*electrolyser_cap+electrolyser_op\n",
        "  return electrolyser_cost\n",
        "\n",
        "def cost_tank(tank):\n",
        "  tank_cap = tank*350\n",
        "  tank_op = tank_cap*CRF*0.01\n",
        "  tank_cost = CRF*tank_cap + tank_op\n",
        "  return tank_cost\n",
        "\n",
        "def cost_fuelcell(fuellcell):\n",
        "  fuellcell_cap = fuellcell*1600\n",
        "  fuellcell_op = fuellcell_cap*CRF*0.04\n",
        "  fuellcell_cost = CRF*fuellcell_cap + fuellcell_op\n",
        "  return fuellcell_cost\n",
        "\n",
        "def cost_pv(solar):\n",
        "  solar_cost = solar*((CRF*solar_cost_unit)+solar_OM)\n",
        "  # print(solar_cost)\n",
        "  return solar_cost\n",
        "\n",
        "def cost_gasifier(gasifier):\n",
        "  gasifier_cost = gasifier*((CRF*gasifier_cost_unit)+gasifier_OM)\n",
        "  # print(gasifier_cost)\n",
        "  return gasifier_cost\n",
        "\n",
        "def LCOE(total_energy_prod, solar, gasifier, electrolyser_elec, electrolyser, tank, fuelcell):\n",
        "  ASC = cost_pv(solar)+cost_gasifier(gasifier)+cost_electrolyser(electrolyser, electrolyser_elec)+cost_tank(tank)+cost_fuelcell(fuelcell)\n",
        "  energy_prod_per_year = total_energy_prod/N\n",
        "  lcoe = ASC/(energy_prod_per_year)\n",
        "  return ASC, lcoe\n",
        "\n",
        "def LCOH(total_hydrogen_prod, solar, electrolyser_elec, electrolyser, tank, fuelcell):\n",
        "  ASC = cost_pv(solar)+cost_electrolyser(electrolyser, electrolyser_elec)+cost_tank(tank)+cost_fuelcell(fuelcell)\n",
        "  hydrogen_prod_per_year = total_hydrogen_prod/N\n",
        "  lcoh = ASC/(hydrogen_prod_per_year)\n",
        "  return lcoh"
      ]
    },
    {
      "cell_type": "code",
      "execution_count": 19,
      "metadata": {
        "id": "Hd1ewRlDk_jF"
      },
      "outputs": [],
      "source": [
        "'''\n",
        "    Calculating the energy produced by the solar panel and gasifier.\n",
        "'''\n",
        "def solar_ene_prod(solar_rate, solar_rad, temp):\n",
        "  T_cell = temp+Gt_stc*((NOCT-20)/0.8)\n",
        "  p_op = solar_rate*d_f*(solar_rad/Gt_stc)*(1+ap*(T_cell-T_cstc))\n",
        "  return p_op\n",
        "\n",
        "def gasifier_ene_prod(gasifier_rate):\n",
        "  return gasifier_rate*gasifier_CUF"
      ]
    },
    {
      "cell_type": "code",
      "execution_count": 20,
      "metadata": {
        "id": "NliAx41tlCO5"
      },
      "outputs": [],
      "source": [
        "'''\n",
        "Calculation required for P2H2P.\n",
        "'''\n",
        "def fuel_cell_energy(fuellcell, hydrogen_lev):\n",
        "  'maximum energy produced by fuelcell'\n",
        "  rated_hr_energy = fuellcell\n",
        "  rated_h2_consumption = rated_hr_energy/(33.33*0.4)\n",
        "  if rated_h2_consumption>hydrogen_lev:\n",
        "    energy_output = rated_hr_energy*(hydrogen_lev/rated_h2_consumption)\n",
        "  else:\n",
        "    energy_output = rated_hr_energy\n",
        "\n",
        "  return energy_output\n",
        "\n",
        "def electrolyser_hydrogen(electrolyser, energy):\n",
        "  h2_prod_rated = electrolyser*0.7/39.4\n",
        "  h2_made = 0\n",
        "  if energy >= electrolyser:\n",
        "      h2_made = h2_prod_rated\n",
        "  else:\n",
        "      h2_made = (energy/electrolyser)*h2_prod_rated\n",
        "  return h2_made\n",
        "\n",
        "def fuel_cell_h2_used(energy, fuellcell):\n",
        "  rated_h2_consumed = fuellcell/(33.33*0.4)\n",
        "  if energy==fuellcell:\n",
        "    h2_consumed = rated_h2_consumed\n",
        "  else:\n",
        "    h2_consumed = (energy*rated_h2_consumed)/fuellcell\n",
        "  return h2_consumed"
      ]
    },
    {
      "cell_type": "code",
      "execution_count": 21,
      "metadata": {
        "id": "I4Thy8r9lXRA"
      },
      "outputs": [],
      "source": [
        "'''\n",
        "    Hybrid Energy system operational strategy\n",
        "'''\n",
        "def Energy_prod_(energy_def, tank_lev, tank_max, electrolyser, fuelcell,  solar_rate, solar_rad, gasifier_rate, temp):\n",
        "  energy_def=-energy_def\n",
        "  energy_prod = 0\n",
        "  energy_served = 0\n",
        "  solar_energy = 0\n",
        "  gasifier_energy = 0\n",
        "  tank_lev_up = tank_lev\n",
        "  fuelcell_supply = 0\n",
        "  hydrogen_excess = 0\n",
        "  electrolyser_ene = 0\n",
        "\n",
        "\n",
        "  solar_energy = solar_ene_prod(solar_rate, solar_rad, temp)\n",
        "  if energy_def>0:\n",
        "    '''\n",
        "    Energy deficit strategy\n",
        "    '''\n",
        "    if solar_energy-energy_def<0:\n",
        "      '''\n",
        "      Solar cannot fulfill the energy deficit.\n",
        "      Run fuelcell and gasifier.\n",
        "      '''\n",
        "      # req_energy needs to be addressed by gasifier and fuelcell\n",
        "      req_energy = energy_def-solar_energy\n",
        "      energy_served+=solar_energy\n",
        "\n",
        "      if tank_lev>0:\n",
        "        if req_energy<=(fuel_cell_energy(fuelcell, tank_lev)):\n",
        "          '''\n",
        "          req_energy met by only fuelcell\n",
        "          '''\n",
        "          fuelcell_supply = req_energy\n",
        "          energy_served+=fuelcell_supply\n",
        "          tank_lev_up = tank_lev-fuel_cell_h2_used(req_energy, fuelcell)\n",
        "\n",
        "        else:\n",
        "          '''\n",
        "          req_energy met by fuelcell and gasifier\n",
        "          '''\n",
        "          gasifier_E_req = req_energy-(fuel_cell_energy(fuelcell, tank_lev))\n",
        "          fuelcell_supply = fuel_cell_energy(fuelcell, tank_lev)\n",
        "          energy_served+=fuelcell_supply\n",
        "          tank_lev_up = tank_lev-fuel_cell_h2_used(fuelcell_supply, fuelcell)\n",
        "          gasifier_energy_op = gasifier_ene_prod(gasifier_rate)\n",
        "\n",
        "          if gasifier_energy_op>gasifier_E_req:\n",
        "            gasifier_energy = gasifier_E_req\n",
        "            energy_served+=gasifier_energy\n",
        "\n",
        "          else:\n",
        "            pass\n",
        "            '''\n",
        "            Hybrid energy system cannot fulfill the energy deficit.\n",
        "            New hybrid combination required.\n",
        "            '''\n",
        "            # print(\"# THE CURRENT SYSTEM RATING ISN'T ABLE TO FULLFIL THE DEFECIT, NEW HYBRID COMBINATION REQUIRED\")\n",
        "\n",
        "      else:\n",
        "        '''\n",
        "        req_energy met only by gasifier\n",
        "        '''\n",
        "        gasifier_energy_op = gasifier_ene_prod(gasifier_rate)\n",
        "\n",
        "        if req_energy<gasifier_energy_op:\n",
        "          gasifier_energy = req_energy\n",
        "          energy_served+=gasifier_energy\n",
        "        else:\n",
        "          pass\n",
        "          '''\n",
        "          Hybrid energy system cannot fulfill the energy deficit.\n",
        "          New hybrid combination required.\n",
        "          '''\n",
        "          # print(\"THE CURRENT SYSTEM RATING ISN'T ABLE TO FULLFIL THE DEFECIT, NEW HYBRID COMBINATION REQUIRED\")\n",
        "    else:\n",
        "      '''\n",
        "      Solar can fulfill the energy deficit.\n",
        "      Extra energy from the solar panel is used in electrolyser for hydrogen production.\n",
        "      '''\n",
        "      energy_served+=energy_def  # solar panel served the entire deficit energy\n",
        "      Ech_t = solar_energy-energy_def  # extra energy from solar used for electrolyser\n",
        "      h2_made = electrolyser_hydrogen(electrolyser, Ech_t)\n",
        "\n",
        "      if h2_made<=tank_max-tank_lev:\n",
        "        tank_lev_up = tank_lev+h2_made\n",
        "\n",
        "      else:\n",
        "        tank_lev_up = tank_max\n",
        "        hydrogen_excess = h2_made - (tank_max-tank_lev)\n",
        "\n",
        "    energy_prod = solar_energy + gasifier_energy\n",
        "\n",
        "  else :\n",
        "    '''\n",
        "    Energy surplus strategy\n",
        "    '''\n",
        "    energy_prod=solar_energy+gasifier_energy #solar energy already calculated outside loop\n",
        "    surplus_ene = abs(energy_def)#make hydrogen from this\n",
        "\n",
        "    Ech_t = 0\n",
        "    if solar_energy>=electrolyser:\n",
        "      Ech_t = solar_energy\n",
        "    else:\n",
        "      if surplus_ene+solar_energy<electrolyser:\n",
        "        Ech_t = surplus_ene+solar_energy\n",
        "        electrolyser_ene = surplus_ene\n",
        "      else:\n",
        "        Ech_t = electrolyser\n",
        "        electrolyser_ene = electrolyser-solar_energy\n",
        "\n",
        "    h2_made = electrolyser_hydrogen(electrolyser, Ech_t)\n",
        "\n",
        "    if h2_made<=tank_max-tank_lev:\n",
        "      tank_lev_up = tank_lev+h2_made\n",
        "\n",
        "    else:\n",
        "      tank_lev_up = tank_max\n",
        "      hydrogen_excess = h2_made - (tank_max-tank_lev)\n",
        "\n",
        "  return energy_served, fuelcell_supply, tank_lev_up, electrolyser_ene, solar_energy, gasifier_energy, hydrogen_excess"
      ]
    },
    {
      "cell_type": "code",
      "execution_count": 43,
      "metadata": {
        "id": "2tv9kfcFo5CC"
      },
      "outputs": [],
      "source": [
        "'''\n",
        "    Optimization for minimizing the LCOE.\n",
        "'''\n",
        "class ProblemWrapper(Problem):\n",
        "  def _evaluate(self, designs, out, *args, **kwargs):\n",
        "    res = []\n",
        "    res1 =[]\n",
        "    for design in designs:\n",
        "      # print(design)\n",
        "      solar, gasifier, electrolyser, tank, fuelcell = design\n",
        "\n",
        "      count = 0\n",
        "      Energy_prod_N = 0 #total energy throughout the project life produced\n",
        "      tank_lev = 0\n",
        "      electrolyser_elec = 0\n",
        "      hydrogen_tot = 0\n",
        "\n",
        "      for i in range(len(df)):\n",
        "        Energy_served ,fuelcell_supply, tank_lev, electrolyser_ene, solar_ene, gasifier_ene, hydrogen_sold = Energy_prod_(energy_def=df['deficit_energy'][i] , tank_lev=tank_lev ,tank_max=tank, electrolyser=electrolyser, fuelcell=fuelcell, solar_rate=solar, solar_rad=df['ghi'][i], gasifier_rate=gasifier, temp=df['air_temperature'][i])\n",
        "        electrolyser_elec+=electrolyser_ene\n",
        "        hydrogen_tot+=hydrogen_sold\n",
        "        Energy_prod_N += Energy_served\n",
        "        energy_tot = df['deficit_energy'][i]+Energy_served\n",
        "        energy_tot = round(energy_tot, 4)\n",
        "\n",
        "        if energy_tot<0 and count!=1:\n",
        "          count = 1\n",
        "          break\n",
        "\n",
        "      asc, lcoe = LCOE(Energy_prod_N, solar, gasifier, electrolyser_elec, electrolyser, tank, fuelcell)\n",
        "      res.append(lcoe)\n",
        "      res1.append(count)\n",
        "    out['F']=np.array(res)\n",
        "    out['H']=np.array(res1)\n",
        "\n",
        "problem = ProblemWrapper(n_var=5, n_obj=1, n_eq_constr=1, xl=[0,  0, 0, 0, 0], xu=[7440937, 2360000, 5469333, 293000, 1302164],vtype=int)"
      ]
    },
    {
      "cell_type": "code",
      "execution_count": 48,
      "metadata": {
        "id": "rEgGkB4jsTTE"
      },
      "outputs": [],
      "source": [
        "from pymoo.algorithms.soo.nonconvex.ga import GA\n",
        "from pymoo.operators.sampling.rnd import IntegerRandomSampling\n",
        "from pymoo.operators.crossover.sbx import SBX\n",
        "from pymoo.operators.mutation.pm import PM\n",
        "from pymoo.operators.repair.rounding import RoundingRepair\n",
        "algorithm = GA(pop_size=20,\n",
        "               sampling=IntegerRandomSampling(),\n",
        "               crossover=SBX(prob=1.0, eta=3.0, vtype=int, repair=RoundingRepair()),\n",
        "               mutation=PM(prob=1.0, eta=3.0, vtype=int, repair=RoundingRepair()),\n",
        "               eliminate_duplicate=True)\n",
        "stop_criteria = ('n_gen', 50)"
      ]
    },
    {
      "cell_type": "code",
      "execution_count": 49,
      "metadata": {
        "colab": {
          "base_uri": "https://localhost:8080/"
        },
        "id": "X0dOVoAasWr-",
        "outputId": "bfeb85ff-5098-43cd-a99a-d01264029f9c"
      },
      "outputs": [
        {
          "name": "stderr",
          "output_type": "stream",
          "text": [
            "C:\\Users\\Asus\\AppData\\Local\\Temp\\ipykernel_70024\\880116094.py:36: RuntimeWarning: divide by zero encountered in scalar divide\n",
            "  lcoe = ASC/(energy_prod_per_year)\n"
          ]
        },
        {
          "name": "stdout",
          "output_type": "stream",
          "text": [
            "=================================================================================\n",
            "n_gen  |  n_eval  |     cv_min    |     cv_avg    |     f_avg     |     f_min    \n",
            "=================================================================================\n",
            "     1 |       20 |  0.000000E+00 |  0.9499050000 |  1.4139164521 |  1.4139164521\n",
            "     2 |       40 |  0.000000E+00 |  0.7999200000 |  1.3728072821 |  1.2751716299\n",
            "     3 |       60 |  0.000000E+00 |  0.4499550000 |  1.3281350846 |  1.0980707348\n",
            "     4 |       80 |  0.000000E+00 |  0.000000E+00 |  1.3101044132 |  1.0980707348\n",
            "     5 |      100 |  0.000000E+00 |  0.000000E+00 |  1.2360993342 |  1.0130872081\n",
            "     6 |      120 |  0.000000E+00 |  0.000000E+00 |  1.1585593119 |  1.0130872081\n",
            "     7 |      140 |  0.000000E+00 |  0.000000E+00 |  1.1077443760 |  1.0130872081\n",
            "     8 |      160 |  0.000000E+00 |  0.000000E+00 |  1.0708102094 |  1.0130872081\n",
            "     9 |      180 |  0.000000E+00 |  0.000000E+00 |  1.0454242319 |  0.9566791951\n",
            "    10 |      200 |  0.000000E+00 |  0.000000E+00 |  1.0127866021 |  0.9554692905\n",
            "    11 |      220 |  0.000000E+00 |  0.000000E+00 |  0.9761604382 |  0.9461098603\n",
            "    12 |      240 |  0.000000E+00 |  0.000000E+00 |  0.9623229029 |  0.9461098603\n",
            "    13 |      260 |  0.000000E+00 |  0.000000E+00 |  0.9552507015 |  0.9258355234\n",
            "    14 |      280 |  0.000000E+00 |  0.000000E+00 |  0.9483017592 |  0.9120663730\n",
            "    15 |      300 |  0.000000E+00 |  0.000000E+00 |  0.9436872630 |  0.9120663730\n",
            "    16 |      320 |  0.000000E+00 |  0.000000E+00 |  0.9394698329 |  0.9120663730\n",
            "    17 |      340 |  0.000000E+00 |  0.000000E+00 |  0.9305401862 |  0.9120663730\n",
            "    18 |      360 |  0.000000E+00 |  0.000000E+00 |  0.9264109321 |  0.9119659510\n",
            "    19 |      380 |  0.000000E+00 |  0.000000E+00 |  0.9239578129 |  0.9119659510\n",
            "    20 |      400 |  0.000000E+00 |  0.000000E+00 |  0.9206560498 |  0.9119659510\n",
            "    21 |      420 |  0.000000E+00 |  0.000000E+00 |  0.9167190292 |  0.9119323808\n",
            "    22 |      440 |  0.000000E+00 |  0.000000E+00 |  0.9152825792 |  0.9119323808\n",
            "    23 |      460 |  0.000000E+00 |  0.000000E+00 |  0.9136432018 |  0.9119323808\n",
            "    24 |      480 |  0.000000E+00 |  0.000000E+00 |  0.9126566358 |  0.9106233918\n",
            "    25 |      500 |  0.000000E+00 |  0.000000E+00 |  0.9121274215 |  0.9106233918\n",
            "    26 |      520 |  0.000000E+00 |  0.000000E+00 |  0.9116901096 |  0.9104996484\n",
            "    27 |      540 |  0.000000E+00 |  0.000000E+00 |  0.9105054143 |  0.8902327691\n",
            "    28 |      560 |  0.000000E+00 |  0.000000E+00 |  0.9097892203 |  0.8902327691\n",
            "    29 |      580 |  0.000000E+00 |  0.000000E+00 |  0.9088458627 |  0.8902327691\n",
            "    30 |      600 |  0.000000E+00 |  0.000000E+00 |  0.9056254747 |  0.8826873096\n",
            "    31 |      620 |  0.000000E+00 |  0.000000E+00 |  0.9022634527 |  0.8826873096\n",
            "    32 |      640 |  0.000000E+00 |  0.000000E+00 |  0.8986088229 |  0.8826873096\n",
            "    33 |      660 |  0.000000E+00 |  0.000000E+00 |  0.8932657930 |  0.8826842295\n",
            "    34 |      680 |  0.000000E+00 |  0.000000E+00 |  0.8866671682 |  0.8826842295\n",
            "    35 |      700 |  0.000000E+00 |  0.000000E+00 |  0.8845736973 |  0.8826842295\n",
            "    36 |      720 |  0.000000E+00 |  0.000000E+00 |  0.8829573781 |  0.8785123155\n",
            "    37 |      740 |  0.000000E+00 |  0.000000E+00 |  0.8824181860 |  0.8785123155\n",
            "    38 |      760 |  0.000000E+00 |  0.000000E+00 |  0.8822900216 |  0.8785123155\n",
            "    39 |      780 |  0.000000E+00 |  0.000000E+00 |  0.8813724735 |  0.8784904933\n",
            "    40 |      800 |  0.000000E+00 |  0.000000E+00 |  0.8807386574 |  0.8776165513\n",
            "    41 |      820 |  0.000000E+00 |  0.000000E+00 |  0.8796364273 |  0.8776165513\n",
            "    42 |      840 |  0.000000E+00 |  0.000000E+00 |  0.8790107351 |  0.8772542579\n",
            "    43 |      860 |  0.000000E+00 |  0.000000E+00 |  0.8783685029 |  0.8772542579\n",
            "    44 |      880 |  0.000000E+00 |  0.000000E+00 |  0.8781400976 |  0.8770748233\n",
            "    45 |      900 |  0.000000E+00 |  0.000000E+00 |  0.8779162216 |  0.8770748233\n",
            "    46 |      920 |  0.000000E+00 |  0.000000E+00 |  0.8777168456 |  0.8770748233\n",
            "    47 |      940 |  0.000000E+00 |  0.000000E+00 |  0.8774222678 |  0.8769588933\n",
            "    48 |      960 |  0.000000E+00 |  0.000000E+00 |  0.8772650111 |  0.8768695472\n",
            "    49 |      980 |  0.000000E+00 |  0.000000E+00 |  0.8771356137 |  0.8768426968\n",
            "    50 |     1000 |  0.000000E+00 |  0.000000E+00 |  0.8770805171 |  0.8768426968\n",
            "CPU times: total: 31min 40s\n",
            "Wall time: 1h 29min 19s\n"
          ]
        }
      ],
      "source": [
        "%%time\n",
        "results = minimize(problem=problem,\n",
        "                   algorithm=algorithm,\n",
        "                   termination=stop_criteria,\n",
        "                   verbose=True,\n",
        "                   seed=42,\n",
        "                   save_history=True)"
      ]
    },
    {
      "cell_type": "code",
      "execution_count": 50,
      "metadata": {
        "colab": {
          "base_uri": "https://localhost:8080/"
        },
        "id": "vVVNpek4sboE",
        "outputId": "045ded41-cd94-494d-968a-ea961c7def43"
      },
      "outputs": [
        {
          "name": "stdout",
          "output_type": "stream",
          "text": [
            "Solar:2485227KW, Gasifier: 2258275KW, Electrolyser: 448286KW, Tank: 29048Kg, Fuelcell: 62857 || LCOE: [0.8768427]USD/KWh\n"
          ]
        }
      ],
      "source": [
        "'''\n",
        "Optimized results for SOO.\n",
        "'''\n",
        "solar, gasifier, electrolyser, tank, fuelcell = results.X\n",
        "print(f\"Solar:{solar}KW, Gasifier: {gasifier}KW, Electrolyser: {electrolyser}KW, Tank: {tank}Kg, Fuelcell: {fuelcell} || LCOE: {results.F}USD/KWh\")"
      ]
    },
    {
      "cell_type": "code",
      "execution_count": 51,
      "metadata": {
        "colab": {
          "base_uri": "https://localhost:8080/",
          "height": 472
        },
        "id": "PmmQyZKMsf8P",
        "outputId": "f0362f56-5363-4a4f-f0c5-ae1760488bad"
      },
      "outputs": [
        {
          "data": {
            "image/png": "[encoded data removed]",
            "text/plain": [
              "<Figure size 640x480 with 1 Axes>"
            ]
          },
          "metadata": {},
          "output_type": "display_data"
        }
      ],
      "source": [
        "'''\n",
        "Convergence plot for SOO.\n",
        "'''\n",
        "import numpy as np\n",
        "import matplotlib.pyplot as plt\n",
        "\n",
        "n_evals = np.array([e.evaluator.n_eval for e in results.history])\n",
        "opt = np.array([e.opt[0].F for e in results.history])\n",
        "\n",
        "plt.title(\"Convergence\")\n",
        "plt.plot(n_evals[4:], opt[4:], \"--\")\n",
        "plt.xlabel(\"number of function evaluations\")\n",
        "plt.ylabel(\"LCOE(USD/KWh)\")\n",
        "plt.show()"
      ]
    },
    {
      "cell_type": "code",
      "execution_count": 60,
      "metadata": {
        "colab": {
          "base_uri": "https://localhost:8080/"
        },
        "id": "emShuwtNsjLr",
        "outputId": "775aaf8b-d66e-4ece-f044-23a75e2e4550"
      },
      "outputs": [
        {
          "name": "stdout",
          "output_type": "stream",
          "text": [
            "719436440.075555 0.8768426967808973 5.769805554786776\n",
            "908455112.2256052\n",
            "36935\n",
            "9172128938.02561\n"
          ]
        }
      ],
      "source": [
        "solar, gasifier, electrolyser, tank, fuelcell  = results.X\n",
        "\n",
        "solar_array = []\n",
        "gasifier_array = []\n",
        "fuelcell_array = []\n",
        "tank_array = []\n",
        "deficit_array = []\n",
        "\n",
        "total_supply = []\n",
        "\n",
        "\n",
        "count = 0\n",
        "Energy_prod_N = 0 #total energy throughout the project life produced\n",
        "tank_lev = 0\n",
        "gasifier_up_hr = 0\n",
        "gasifier_energy = 0\n",
        "electrolyser_elec = 0\n",
        "hydrogen_tot = 0\n",
        "\n",
        "for i in range(len(df)):\n",
        "# for i in range(8760):\n",
        "  Energy_served ,fuelcell_supply, tank_lev, electrolyser_ene, solar_ene, gasifier_ene, hydrogen_sold = Energy_prod_(energy_def=df['deficit_energy'][i] , tank_lev=tank_lev ,tank_max=tank, electrolyser=electrolyser, fuelcell=fuelcell, solar_rate=solar, solar_rad=df['ghi'][i], gasifier_rate=gasifier, temp=df['air_temperature'][i])\n",
        "  electrolyser_elec+=electrolyser_ene\n",
        "  hydrogen_tot+=hydrogen_sold\n",
        "  Energy_prod_N += Energy_served\n",
        "  gasifier_energy+=gasifier_ene\n",
        "  \n",
        "  if round(gasifier_ene, 2)>0:\n",
        "    # print(gasifier_ene)\n",
        "    # print(i)\n",
        "    \n",
        "\n",
        "    gasifier_up_hr+=1\n",
        "  deficit_array.append(df['deficit_energy'][i])\n",
        "  solar_array.append(solar_ene)\n",
        "  gasifier_array.append(gasifier_ene)\n",
        "  fuelcell_array.append(fuelcell_supply)\n",
        "  tank_array.append(tank_lev)\n",
        "  total_supply.append(fuelcell_supply+gasifier_ene+solar_ene)\n",
        "\n",
        "asc, lcoe = LCOE(Energy_prod_N, solar, gasifier, electrolyser_elec, electrolyser, tank, fuelcell)\n",
        "lcoh = LCOH(hydrogen_tot, solar, electrolyser_elec, electrolyser, tank, fuelcell)\n",
        "print(asc, lcoe, lcoh)\n",
        "print(hydrogen_tot)\n",
        "print(gasifier_up_hr)\n",
        "print(gasifier_energy)"
      ]
    },
    {
      "cell_type": "code",
      "execution_count": 59,
      "metadata": {},
      "outputs": [
        {
          "data": {
            "text/plain": [
              "0.4324325158403582"
            ]
          },
          "execution_count": 59,
          "metadata": {},
          "output_type": "execute_result"
        }
      ],
      "source": [
        "gasifier_energy/(5*0.55*1000*1000000)"
      ]
    },
    {
      "cell_type": "code",
      "execution_count": 54,
      "metadata": {
        "colab": {
          "base_uri": "https://localhost:8080/",
          "height": 483
        },
        "id": "Af-qESyitAQS",
        "outputId": "33065d11-6c81-431e-afd2-344f32c6263f"
      },
      "outputs": [
        {
          "data": {
            "text/plain": [
              "<matplotlib.legend.Legend at 0x17b0cee6a90>"
            ]
          },
          "execution_count": 54,
          "metadata": {},
          "output_type": "execute_result"
        },
        {
          "data": {
            "image/png": "[encoded data removed]",
            "text/plain": [
              "<Figure size 640x480 with 1 Axes>"
            ]
          },
          "metadata": {},
          "output_type": "display_data"
        }
      ],
      "source": [
        "i = 0\n",
        "j = 100\n",
        "x = np.arange(i,j)\n",
        "plt.plot(x,solar_array[i:j], label='solar')\n",
        "plt.plot(x,gasifier_array[i:j], label='gasifier')\n",
        "plt.plot(x,fuelcell_array[i:j], label = 'fuelcellsupply')\n",
        "plt.plot(x,tank_array[i:j], label = 'tank')\n",
        "# plt.plot(x,np.add(np.array(battery_array[i:j]),-973117), label = 'battery')\n",
        "plt.plot(x,-np.array(deficit_array[i:j]), label = 'deficit/surplus')\n",
        "# plt.plot(x,np.array(deficit_array[i:j]), label = 'surplus')\n",
        "\n",
        "plt.xlabel(\"hour\")\n",
        "plt.ylabel(\"KW\")\n",
        "# plt.plot(x,total_supply[i:j], label = 'total')\n",
        "plt.grid()\n",
        "plt.legend(loc='upper right',bbox_to_anchor=(1.2,0.5))"
      ]
    }
  ],
  "metadata": {
    "colab": {
      "authorship_tag": "ABX9TyN41aB6pBQBjJAC6nfSASTQ",
      "include_colab_link": true,
      "provenance": []
    },
    "kernelspec": {
      "display_name": "Python 3",
      "name": "python3"
    },
    "language_info": {
      "codemirror_mode": {
        "name": "ipython",
        "version": 3
      },
      "file_extension": ".py",
      "mimetype": "text/x-python",
      "name": "python",
      "nbconvert_exporter": "python",
      "pygments_lexer": "ipython3",
      "version": "3.11.5"
    }
  },
  "nbformat": 4,
  "nbformat_minor": 0
}
