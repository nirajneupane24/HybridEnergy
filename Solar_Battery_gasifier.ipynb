{
  "nbformat": 4,
  "nbformat_minor": 0,
  "metadata": {
    "colab": {
      "provenance": [],
      "include_colab_link": true
    },
    "kernelspec": {
      "name": "python3",
      "display_name": "Python 3"
    },
    "language_info": {
      "name": "python"
    }
  },
  "cells": [
    {
      "cell_type": "markdown",
      "metadata": {
        "id": "view-in-github",
        "colab_type": "text"
      },
      "source": [
        "<a href=\"https://colab.research.google.com/github/phantom-balance/HybridEnergy/blob/master/Solar_Battery_gasifier.ipynb\" target=\"_parent\"><img src=\"https://colab.research.google.com/assets/colab-badge.svg\" alt=\"Open In Colab\"/></a>"
      ]
    },
    {
      "cell_type": "markdown",
      "source": [
        "#NEW"
      ],
      "metadata": {
        "id": "88mpm4EIHOGZ"
      }
    },
    {
      "cell_type": "code",
      "source": [
        "# pymoo used for optimization\n",
        "from IPython.display import clear_output\n",
        "!pip install pymoo\n",
        "clear_output()"
      ],
      "metadata": {
        "id": "iaCfZRu8HQQg"
      },
      "execution_count": 1,
      "outputs": []
    },
    {
      "cell_type": "code",
      "source": [
        "# import necessary libraries\n",
        "import pandas as pd\n",
        "import numpy as np\n",
        "import matplotlib.pyplot as plt\n",
        "import pymoo\n",
        "from pymoo.optimize import minimize\n",
        "from pymoo.core.problem import Problem"
      ],
      "metadata": {
        "id": "KbwWxfbEI2nv"
      },
      "execution_count": 3,
      "outputs": []
    },
    {
      "cell_type": "code",
      "source": [
        "# reading the hourly energy csv file \"contains hourly data for deficits, solar radiation and ambient air temperature(Jumla)\"\n",
        "df = pd.read_csv('HOURLY_DATA_new.csv')\n",
        "# df = df[0:500]\n",
        "'''\n",
        "     csv file has deficit energy in MWh, solar radiation(ghi) in W/m2, air temperature in celcius.\n",
        "    We perform the analysis in terms of KW.\n",
        "'''\n",
        "df['deficit_energy']=df['deficit_energy']*1000\n",
        "df['deficit_energy'] = df['deficit_energy'].apply(lambda x: round(x, 6))\n",
        "df['ghi']=df['ghi']/1000"
      ],
      "metadata": {
        "id": "Rlmkk5RxJGgA"
      },
      "execution_count": 4,
      "outputs": []
    },
    {
      "cell_type": "code",
      "source": [
        "df.describe()"
      ],
      "metadata": {
        "colab": {
          "base_uri": "https://localhost:8080/",
          "height": 300
        },
        "id": "vRjcjr13LI3F",
        "outputId": "2d5adba0-52c8-44fc-bb8d-59b6939da20e"
      },
      "execution_count": 5,
      "outputs": [
        {
          "output_type": "execute_result",
          "data": {
            "text/plain": [
              "          Unnamed: 0            ghi  air_temperature  deficit_energy\n",
              "count  183960.000000  183960.000000    183960.000000    1.839600e+05\n",
              "mean    91979.500000       0.218271        11.596737    2.363686e+05\n",
              "std     53104.822097       0.311458         8.223487    4.957133e+05\n",
              "min         0.000000       0.000000        -8.630000   -1.302164e+06\n",
              "25%     45989.750000       0.000000         4.888750   -1.272546e+05\n",
              "50%     91979.500000       0.005384        12.802500    1.943938e+05\n",
              "75%    137969.250000       0.403645        17.676667    5.229730e+05\n",
              "max    183959.000000       1.147850        29.931667    2.140979e+06"
            ],
            "text/html": [
              "\n",
              "  <div id=\"df-e2cc3055-4909-449e-a256-120cb3759c82\" class=\"colab-df-container\">\n",
              "    <div>\n",
              "<style scoped>\n",
              "    .dataframe tbody tr th:only-of-type {\n",
              "        vertical-align: middle;\n",
              "    }\n",
              "\n",
              "    .dataframe tbody tr th {\n",
              "        vertical-align: top;\n",
              "    }\n",
              "\n",
              "    .dataframe thead th {\n",
              "        text-align: right;\n",
              "    }\n",
              "</style>\n",
              "<table border=\"1\" class=\"dataframe\">\n",
              "  <thead>\n",
              "    <tr style=\"text-align: right;\">\n",
              "      <th></th>\n",
              "      <th>Unnamed: 0</th>\n",
              "      <th>ghi</th>\n",
              "      <th>air_temperature</th>\n",
              "      <th>deficit_energy</th>\n",
              "    </tr>\n",
              "  </thead>\n",
              "  <tbody>\n",
              "    <tr>\n",
              "      <th>count</th>\n",
              "      <td>183960.000000</td>\n",
              "      <td>183960.000000</td>\n",
              "      <td>183960.000000</td>\n",
              "      <td>1.839600e+05</td>\n",
              "    </tr>\n",
              "    <tr>\n",
              "      <th>mean</th>\n",
              "      <td>91979.500000</td>\n",
              "      <td>0.218271</td>\n",
              "      <td>11.596737</td>\n",
              "      <td>2.363686e+05</td>\n",
              "    </tr>\n",
              "    <tr>\n",
              "      <th>std</th>\n",
              "      <td>53104.822097</td>\n",
              "      <td>0.311458</td>\n",
              "      <td>8.223487</td>\n",
              "      <td>4.957133e+05</td>\n",
              "    </tr>\n",
              "    <tr>\n",
              "      <th>min</th>\n",
              "      <td>0.000000</td>\n",
              "      <td>0.000000</td>\n",
              "      <td>-8.630000</td>\n",
              "      <td>-1.302164e+06</td>\n",
              "    </tr>\n",
              "    <tr>\n",
              "      <th>25%</th>\n",
              "      <td>45989.750000</td>\n",
              "      <td>0.000000</td>\n",
              "      <td>4.888750</td>\n",
              "      <td>-1.272546e+05</td>\n",
              "    </tr>\n",
              "    <tr>\n",
              "      <th>50%</th>\n",
              "      <td>91979.500000</td>\n",
              "      <td>0.005384</td>\n",
              "      <td>12.802500</td>\n",
              "      <td>1.943938e+05</td>\n",
              "    </tr>\n",
              "    <tr>\n",
              "      <th>75%</th>\n",
              "      <td>137969.250000</td>\n",
              "      <td>0.403645</td>\n",
              "      <td>17.676667</td>\n",
              "      <td>5.229730e+05</td>\n",
              "    </tr>\n",
              "    <tr>\n",
              "      <th>max</th>\n",
              "      <td>183959.000000</td>\n",
              "      <td>1.147850</td>\n",
              "      <td>29.931667</td>\n",
              "      <td>2.140979e+06</td>\n",
              "    </tr>\n",
              "  </tbody>\n",
              "</table>\n",
              "</div>\n",
              "    <div class=\"colab-df-buttons\">\n",
              "\n",
              "  <div class=\"colab-df-container\">\n",
              "    <button class=\"colab-df-convert\" onclick=\"convertToInteractive('df-e2cc3055-4909-449e-a256-120cb3759c82')\"\n",
              "            title=\"Convert this dataframe to an interactive table.\"\n",
              "            style=\"display:none;\">\n",
              "\n",
              "  <svg xmlns=\"http://www.w3.org/2000/svg\" height=\"24px\" viewBox=\"0 -960 960 960\">\n",
              "    <path d=\"M120-120v-720h720v720H120Zm60-500h600v-160H180v160Zm220 220h160v-160H400v160Zm0 220h160v-160H400v160ZM180-400h160v-160H180v160Zm440 0h160v-160H620v160ZM180-180h160v-160H180v160Zm440 0h160v-160H620v160Z\"/>\n",
              "  </svg>\n",
              "    </button>\n",
              "\n",
              "  <style>\n",
              "    .colab-df-container {\n",
              "      display:flex;\n",
              "      gap: 12px;\n",
              "    }\n",
              "\n",
              "    .colab-df-convert {\n",
              "      background-color: #E8F0FE;\n",
              "      border: none;\n",
              "      border-radius: 50%;\n",
              "      cursor: pointer;\n",
              "      display: none;\n",
              "      fill: #1967D2;\n",
              "      height: 32px;\n",
              "      padding: 0 0 0 0;\n",
              "      width: 32px;\n",
              "    }\n",
              "\n",
              "    .colab-df-convert:hover {\n",
              "      background-color: #E2EBFA;\n",
              "      box-shadow: 0px 1px 2px rgba(60, 64, 67, 0.3), 0px 1px 3px 1px rgba(60, 64, 67, 0.15);\n",
              "      fill: #174EA6;\n",
              "    }\n",
              "\n",
              "    .colab-df-buttons div {\n",
              "      margin-bottom: 4px;\n",
              "    }\n",
              "\n",
              "    [theme=dark] .colab-df-convert {\n",
              "      background-color: #3B4455;\n",
              "      fill: #D2E3FC;\n",
              "    }\n",
              "\n",
              "    [theme=dark] .colab-df-convert:hover {\n",
              "      background-color: #434B5C;\n",
              "      box-shadow: 0px 1px 3px 1px rgba(0, 0, 0, 0.15);\n",
              "      filter: drop-shadow(0px 1px 2px rgba(0, 0, 0, 0.3));\n",
              "      fill: #FFFFFF;\n",
              "    }\n",
              "  </style>\n",
              "\n",
              "    <script>\n",
              "      const buttonEl =\n",
              "        document.querySelector('#df-e2cc3055-4909-449e-a256-120cb3759c82 button.colab-df-convert');\n",
              "      buttonEl.style.display =\n",
              "        google.colab.kernel.accessAllowed ? 'block' : 'none';\n",
              "\n",
              "      async function convertToInteractive(key) {\n",
              "        const element = document.querySelector('#df-e2cc3055-4909-449e-a256-120cb3759c82');\n",
              "        const dataTable =\n",
              "          await google.colab.kernel.invokeFunction('convertToInteractive',\n",
              "                                                    [key], {});\n",
              "        if (!dataTable) return;\n",
              "\n",
              "        const docLinkHtml = 'Like what you see? Visit the ' +\n",
              "          '<a target=\"_blank\" href=https://colab.research.google.com/notebooks/data_table.ipynb>data table notebook</a>'\n",
              "          + ' to learn more about interactive tables.';\n",
              "        element.innerHTML = '';\n",
              "        dataTable['output_type'] = 'display_data';\n",
              "        await google.colab.output.renderOutput(dataTable, element);\n",
              "        const docLink = document.createElement('div');\n",
              "        docLink.innerHTML = docLinkHtml;\n",
              "        element.appendChild(docLink);\n",
              "      }\n",
              "    </script>\n",
              "  </div>\n",
              "\n",
              "\n",
              "<div id=\"df-65fe06ec-725c-436a-a463-e5e267742974\">\n",
              "  <button class=\"colab-df-quickchart\" onclick=\"quickchart('df-65fe06ec-725c-436a-a463-e5e267742974')\"\n",
              "            title=\"Suggest charts\"\n",
              "            style=\"display:none;\">\n",
              "\n",
              "<svg xmlns=\"http://www.w3.org/2000/svg\" height=\"24px\"viewBox=\"0 0 24 24\"\n",
              "     width=\"24px\">\n",
              "    <g>\n",
              "        <path d=\"M19 3H5c-1.1 0-2 .9-2 2v14c0 1.1.9 2 2 2h14c1.1 0 2-.9 2-2V5c0-1.1-.9-2-2-2zM9 17H7v-7h2v7zm4 0h-2V7h2v10zm4 0h-2v-4h2v4z\"/>\n",
              "    </g>\n",
              "</svg>\n",
              "  </button>\n",
              "\n",
              "<style>\n",
              "  .colab-df-quickchart {\n",
              "      --bg-color: #E8F0FE;\n",
              "      --fill-color: #1967D2;\n",
              "      --hover-bg-color: #E2EBFA;\n",
              "      --hover-fill-color: #174EA6;\n",
              "      --disabled-fill-color: #AAA;\n",
              "      --disabled-bg-color: #DDD;\n",
              "  }\n",
              "\n",
              "  [theme=dark] .colab-df-quickchart {\n",
              "      --bg-color: #3B4455;\n",
              "      --fill-color: #D2E3FC;\n",
              "      --hover-bg-color: #434B5C;\n",
              "      --hover-fill-color: #FFFFFF;\n",
              "      --disabled-bg-color: #3B4455;\n",
              "      --disabled-fill-color: #666;\n",
              "  }\n",
              "\n",
              "  .colab-df-quickchart {\n",
              "    background-color: var(--bg-color);\n",
              "    border: none;\n",
              "    border-radius: 50%;\n",
              "    cursor: pointer;\n",
              "    display: none;\n",
              "    fill: var(--fill-color);\n",
              "    height: 32px;\n",
              "    padding: 0;\n",
              "    width: 32px;\n",
              "  }\n",
              "\n",
              "  .colab-df-quickchart:hover {\n",
              "    background-color: var(--hover-bg-color);\n",
              "    box-shadow: 0 1px 2px rgba(60, 64, 67, 0.3), 0 1px 3px 1px rgba(60, 64, 67, 0.15);\n",
              "    fill: var(--button-hover-fill-color);\n",
              "  }\n",
              "\n",
              "  .colab-df-quickchart-complete:disabled,\n",
              "  .colab-df-quickchart-complete:disabled:hover {\n",
              "    background-color: var(--disabled-bg-color);\n",
              "    fill: var(--disabled-fill-color);\n",
              "    box-shadow: none;\n",
              "  }\n",
              "\n",
              "  .colab-df-spinner {\n",
              "    border: 2px solid var(--fill-color);\n",
              "    border-color: transparent;\n",
              "    border-bottom-color: var(--fill-color);\n",
              "    animation:\n",
              "      spin 1s steps(1) infinite;\n",
              "  }\n",
              "\n",
              "  @keyframes spin {\n",
              "    0% {\n",
              "      border-color: transparent;\n",
              "      border-bottom-color: var(--fill-color);\n",
              "      border-left-color: var(--fill-color);\n",
              "    }\n",
              "    20% {\n",
              "      border-color: transparent;\n",
              "      border-left-color: var(--fill-color);\n",
              "      border-top-color: var(--fill-color);\n",
              "    }\n",
              "    30% {\n",
              "      border-color: transparent;\n",
              "      border-left-color: var(--fill-color);\n",
              "      border-top-color: var(--fill-color);\n",
              "      border-right-color: var(--fill-color);\n",
              "    }\n",
              "    40% {\n",
              "      border-color: transparent;\n",
              "      border-right-color: var(--fill-color);\n",
              "      border-top-color: var(--fill-color);\n",
              "    }\n",
              "    60% {\n",
              "      border-color: transparent;\n",
              "      border-right-color: var(--fill-color);\n",
              "    }\n",
              "    80% {\n",
              "      border-color: transparent;\n",
              "      border-right-color: var(--fill-color);\n",
              "      border-bottom-color: var(--fill-color);\n",
              "    }\n",
              "    90% {\n",
              "      border-color: transparent;\n",
              "      border-bottom-color: var(--fill-color);\n",
              "    }\n",
              "  }\n",
              "</style>\n",
              "\n",
              "  <script>\n",
              "    async function quickchart(key) {\n",
              "      const quickchartButtonEl =\n",
              "        document.querySelector('#' + key + ' button');\n",
              "      quickchartButtonEl.disabled = true;  // To prevent multiple clicks.\n",
              "      quickchartButtonEl.classList.add('colab-df-spinner');\n",
              "      try {\n",
              "        const charts = await google.colab.kernel.invokeFunction(\n",
              "            'suggestCharts', [key], {});\n",
              "      } catch (error) {\n",
              "        console.error('Error during call to suggestCharts:', error);\n",
              "      }\n",
              "      quickchartButtonEl.classList.remove('colab-df-spinner');\n",
              "      quickchartButtonEl.classList.add('colab-df-quickchart-complete');\n",
              "    }\n",
              "    (() => {\n",
              "      let quickchartButtonEl =\n",
              "        document.querySelector('#df-65fe06ec-725c-436a-a463-e5e267742974 button');\n",
              "      quickchartButtonEl.style.display =\n",
              "        google.colab.kernel.accessAllowed ? 'block' : 'none';\n",
              "    })();\n",
              "  </script>\n",
              "</div>\n",
              "\n",
              "    </div>\n",
              "  </div>\n"
            ],
            "application/vnd.google.colaboratory.intrinsic+json": {
              "type": "dataframe",
              "summary": "{\n  \"name\": \"df\",\n  \"rows\": 8,\n  \"fields\": [\n    {\n      \"column\": \"Unnamed: 0\",\n      \"properties\": {\n        \"dtype\": \"number\",\n        \"std\": 66299.85506375325,\n        \"min\": 0.0,\n        \"max\": 183960.0,\n        \"num_unique_values\": 7,\n        \"samples\": [\n          183960.0,\n          91979.5,\n          137969.25\n        ],\n        \"semantic_type\": \"\",\n        \"description\": \"\"\n      }\n    },\n    {\n      \"column\": \"ghi\",\n      \"properties\": {\n        \"dtype\": \"number\",\n        \"std\": 65039.5763450409,\n        \"min\": 0.0,\n        \"max\": 183960.0,\n        \"num_unique_values\": 7,\n        \"samples\": [\n          183960.0,\n          0.21827050722983257,\n          0.4036445833333333\n        ],\n        \"semantic_type\": \"\",\n        \"description\": \"\"\n      }\n    },\n    {\n      \"column\": \"air_temperature\",\n      \"properties\": {\n        \"dtype\": \"number\",\n        \"std\": 65035.819334050866,\n        \"min\": -8.629999999999999,\n        \"max\": 183960.0,\n        \"num_unique_values\": 8,\n        \"samples\": [\n          11.59673725266362,\n          12.8025,\n          183960.0\n        ],\n        \"semantic_type\": \"\",\n        \"description\": \"\"\n      }\n    },\n    {\n      \"column\": \"deficit_energy\",\n      \"properties\": {\n        \"dtype\": \"number\",\n        \"std\": 945288.0799790676,\n        \"min\": -1302163.686601,\n        \"max\": 2140978.786505,\n        \"num_unique_values\": 8,\n        \"samples\": [\n          236368.63966439466,\n          194393.80584,\n          183960.0\n        ],\n        \"semantic_type\": \"\",\n        \"description\": \"\"\n      }\n    }\n  ]\n}"
            }
          },
          "metadata": {},
          "execution_count": 5
        }
      ]
    },
    {
      "cell_type": "code",
      "source": [
        "df['deficit_energy'].sum()"
      ],
      "metadata": {
        "id": "cQXVkSLIcC9n",
        "outputId": "7b675ea6-0e1e-4990-9d38-3b6e1a7ea00b",
        "colab": {
          "base_uri": "https://localhost:8080/"
        }
      },
      "execution_count": 6,
      "outputs": [
        {
          "output_type": "execute_result",
          "data": {
            "text/plain": [
              "43482374952.66204"
            ]
          },
          "metadata": {},
          "execution_count": 6
        }
      ]
    },
    {
      "cell_type": "code",
      "source": [
        "'''\n",
        "    All the necessary constants required for modeling.\n",
        "'''\n",
        "N = 20 # project_life\n",
        "i = 0.06 # interest_rate\n",
        "\n",
        "solar_cost_unit = 727 # usd/kW(capex)\n",
        "solar_OM = 4 # usd/kW.year(opex)\n",
        "\n",
        "CRF = (i*((1+i)**N))/(((1+i)**N)-1) # capital recovery factor\n",
        "d_f = 0.88 #derating_factor\n",
        "Gt_stc = 1 #kw/m2\n",
        "ap = -0.0035 #solar mod temp coeff of power(%/oC)\n",
        "T_cstc = 25 #oC standard temp\n",
        "NOCT = 45 #oC\n",
        "n_bat = 0.92 #round trip efficieny\n",
        "\n",
        "gasifier_cost_unit = 2300 # usd/kW(capex)\n",
        "gasifier_OM = 2 # usd/kW.year(opex)\n",
        "gasifier_CUF = 0.55 # capacity utilization factor\n",
        "\n",
        "battery_cost_unit = 223.24 # usd/kW(capex)\n",
        "battery_OM_per = 1.5 # 1.5% of capex annuity(opex)"
      ],
      "metadata": {
        "id": "C8NkzT04KT4S"
      },
      "execution_count": 7,
      "outputs": []
    },
    {
      "cell_type": "code",
      "source": [
        "'''\n",
        "    Calculating the Annualized system cost(ASC) and the levelised cost of energy(LCOE)\n",
        "'''\n",
        "def cost_pv(solar):\n",
        "  solar_cost = solar*((CRF*solar_cost_unit)+solar_OM)\n",
        "  return solar_cost\n",
        "\n",
        "def cost_gasifier(gasifier):\n",
        "  gasifier_cost = gasifier*((CRF*gasifier_cost_unit)+gasifier_OM)\n",
        "  return gasifier_cost\n",
        "\n",
        "def cost_battery(battery):\n",
        "  battery_cap = battery*battery_cost_unit\n",
        "  battery_op = battery_cap*CRF*battery_OM_per/100\n",
        "  battery_cost = battery_cap*CRF+battery_op\n",
        "  return battery_cost\n",
        "\n",
        "def LCOE(total_energy_prod, solar, gasifier, battery):\n",
        "  ASC = cost_pv(solar)+cost_gasifier(gasifier)+cost_battery(battery)\n",
        "  energy_prod_per_year = total_energy_prod/N\n",
        "  lcoe = ASC/(energy_prod_per_year)\n",
        "  return ASC, lcoe"
      ],
      "metadata": {
        "id": "i7ghEDS5NH1S"
      },
      "execution_count": 8,
      "outputs": []
    },
    {
      "cell_type": "code",
      "source": [
        "'''\n",
        "    Calculating the energy produced by the solar panel and gasifier.\n",
        "'''\n",
        "def solar_ene_prod(solar_rate, solar_rad, temp):\n",
        "  T_cell = temp+Gt_stc*((NOCT-20)/0.8)\n",
        "  p_op = solar_rate*d_f*(solar_rad/Gt_stc)*(1+ap*(T_cell-T_cstc))\n",
        "  return p_op\n",
        "\n",
        "def gasifier_ene_prod(gasifier_rate):\n",
        "  return gasifier_rate*gasifier_CUF"
      ],
      "metadata": {
        "id": "6jcJHrh3OkjJ"
      },
      "execution_count": 9,
      "outputs": []
    },
    {
      "cell_type": "code",
      "source": [
        "'''\n",
        "    Hybrid Energy system operational strategy\n",
        "'''\n",
        "def Energy_prod_(energy_def, battery_E, battery_max, solar_rate, solar_rad, gasifier_rate, temp):\n",
        "  energy_def=-energy_def\n",
        "  energy_prod = 0\n",
        "  energy_served = 0\n",
        "  solar_energy = 0\n",
        "  gasifier_energy = 0\n",
        "  battery_E_up = battery_E\n",
        "  battery_supply = 0\n",
        "  solar_energy = solar_ene_prod(solar_rate, solar_rad, temp)\n",
        "\n",
        "  if energy_def>0:\n",
        "    '''\n",
        "    Energy deficit strategy\n",
        "    '''\n",
        "    if solar_energy-energy_def<0:\n",
        "      '''\n",
        "      Solar cannot fulfill the energy deficit.\n",
        "      Run battery and gasifier.\n",
        "      '''\n",
        "      # req_energy needs to be addressed by gasifier and battery\n",
        "      req_energy = energy_def-solar_energy\n",
        "      energy_served+=solar_energy\n",
        "\n",
        "      if battery_E>battery_max*0.3:\n",
        "        if req_energy<=(battery_E-battery_max*0.3):\n",
        "          '''\n",
        "          req_energy met by only battery\n",
        "          '''\n",
        "          battery_supply = req_energy\n",
        "          battery_E_up = battery_E-req_energy\n",
        "          energy_served+=battery_supply\n",
        "\n",
        "        else:\n",
        "          '''\n",
        "          req_energy met by battery and gasifier\n",
        "          '''\n",
        "          gasifier_E_req = req_energy-(battery_E-battery_max*0.3)\n",
        "          battery_supply = battery_E-0.3*battery_max\n",
        "          energy_served+=battery_supply\n",
        "          battery_E_up = 0.3*battery_max\n",
        "          gasifier_energy_op = gasifier_ene_prod(gasifier_rate)\n",
        "\n",
        "          if gasifier_energy_op>gasifier_E_req:\n",
        "            gasifier_energy = gasifier_E_req\n",
        "            energy_served+=gasifier_energy\n",
        "\n",
        "          else:\n",
        "            pass\n",
        "            '''\n",
        "            Hybrid energy system cannot fulfill the energy deficit.\n",
        "            New hybrid combination required.\n",
        "            '''\n",
        "            # print(\"# THE CURRENT SYSTEM RATING ISN'T ABLE TO FULLFIL THE DEFECIT, NEW HYBRID COMBINATION REQUIRED\")\n",
        "\n",
        "      else:\n",
        "        '''\n",
        "        req_energy met only by gasifier\n",
        "        '''\n",
        "        gasifier_energy_op = gasifier_ene_prod(gasifier_rate)\n",
        "\n",
        "        if req_energy<gasifier_energy_op:\n",
        "          gasifier_energy = req_energy\n",
        "          energy_served+=gasifier_energy\n",
        "        else:\n",
        "          pass\n",
        "          '''\n",
        "          Hybrid energy system cannot fulfill the energy deficit.\n",
        "          New hybrid combination required.\n",
        "          '''\n",
        "          # print(\"THE CURRENT SYSTEM RATING ISN'T ABLE TO FULLFIL THE DEFECIT, NEW HYBRID COMBINATION REQUIRED\")\n",
        "\n",
        "    else:\n",
        "      '''\n",
        "      Solar can fulfill the energy deficit.\n",
        "      Extra energy from the solar panel is used to charge the battery.\n",
        "      '''\n",
        "      energy_served+=energy_def # solar panel served the entire deficit energy\n",
        "      Pch_t = solar_energy-energy_def # extra energy from solar used for charging battery\n",
        "      Ech_t = Pch_t*n_bat\n",
        "\n",
        "      if Ech_t<=battery_max-battery_E:\n",
        "        #battery isn't fully charged\n",
        "        battery_E_up = battery_E+Ech_t\n",
        "\n",
        "      else:\n",
        "        #battery gets fully charged, E_dump is the remaining energy served to the grid\n",
        "        battery_E_up = battery_max\n",
        "        E_dump = Ech_t - (battery_max-battery_E)\n",
        "        energy_served+=(E_dump/n_bat)\n",
        "        Ech_t = battery_max-battery_E\n",
        "\n",
        "    energy_prod = solar_energy + gasifier_energy\n",
        "\n",
        "  else :\n",
        "    '''\n",
        "    Energy surplus strategy\n",
        "    '''\n",
        "    energy_prod=solar_energy+gasifier_energy\n",
        "    surplus_ene = abs(energy_def)\n",
        "\n",
        "    Pch_t = solar_energy\n",
        "    Ech_t = Pch_t*n_bat\n",
        "\n",
        "    if Ech_t<=battery_max-battery_E:\n",
        "      battery_E_up = battery_E+Ech_t\n",
        "\n",
        "    else:\n",
        "      battery_E_up = battery_max\n",
        "      E_dump = Ech_t - (battery_max-battery_E)\n",
        "      energy_served+=(E_dump/n_bat)\n",
        "      Ech_t = battery_max-battery_E\n",
        "\n",
        "  return energy_served, battery_supply, battery_E_up, solar_energy, gasifier_energy"
      ],
      "metadata": {
        "id": "xEYLfwTHOzbk"
      },
      "execution_count": 46,
      "outputs": []
    },
    {
      "cell_type": "code",
      "source": [
        "'''\n",
        "    Optimization for minimizing the LCOE.\n",
        "'''\n",
        "class ProblemWrapper(Problem):\n",
        "  def _evaluate(self, designs, out, *args, **kwargs):\n",
        "    res = []\n",
        "    res1 =[]\n",
        "    for design in designs:\n",
        "      solar, gasifier, battery = design\n",
        "\n",
        "      count = 0\n",
        "      Energy_prod_N = 0 #total energy throughout the project life produced\n",
        "      battery_E = battery\n",
        "\n",
        "      for i in range(len(df)):\n",
        "        n_battery_E = battery_E\n",
        "        Energy_served,battery_supply, battery_E, _, _ = Energy_prod_(energy_def=df['deficit_energy'][i] ,battery_E=battery_E ,battery_max=battery, solar_rate=solar, solar_rad=df['ghi'][i], gasifier_rate=gasifier, temp=df['air_temperature'][i])\n",
        "        Energy_prod_N += Energy_served\n",
        "        energy_tot = df['deficit_energy'][i]+Energy_served\n",
        "        energy_tot = round(energy_tot, 4)\n",
        "\n",
        "        if energy_tot<0 and count!=1:\n",
        "          count = 1\n",
        "          break\n",
        "\n",
        "      asc, lcoe = LCOE(Energy_prod_N, solar, gasifier, battery)\n",
        "      res.append(lcoe)\n",
        "      res1.append(count)\n",
        "    out['F']=np.array(res)\n",
        "    out['H']=np.array(res1)\n",
        "\n",
        "problem = ProblemWrapper(n_var=3, n_obj=1, n_eq_constr=1, xl=[0, 0, 0], xu=[7440937/2, 2367571, 7440937])"
      ],
      "metadata": {
        "id": "gSeOk1Y1UXlY"
      },
      "execution_count": 47,
      "outputs": []
    },
    {
      "cell_type": "code",
      "source": [
        "from pymoo.algorithms.soo.nonconvex.ga import GA\n",
        "from pymoo.operators.sampling.rnd import IntegerRandomSampling\n",
        "algorithm = GA(pop_size=20,\n",
        "               sampling=IntegerRandomSampling(),\n",
        "               eliminate_duplicate=True)\n",
        "stop_criteria = ('n_gen', 10)"
      ],
      "metadata": {
        "id": "p6uXTZcbVemk"
      },
      "execution_count": 50,
      "outputs": []
    },
    {
      "cell_type": "code",
      "source": [
        "%%time\n",
        "results = minimize(problem=problem,\n",
        "                   algorithm=algorithm,\n",
        "                   termination=stop_criteria,\n",
        "                   verbose=True,\n",
        "                   seed=42,\n",
        "                   save_history=True)"
      ],
      "metadata": {
        "colab": {
          "base_uri": "https://localhost:8080/"
        },
        "id": "x6ciiRrwV1Mp",
        "outputId": "b6d1ef78-5472-44b4-8e69-0a68889ad1e2"
      },
      "execution_count": 51,
      "outputs": [
        {
          "output_type": "stream",
          "name": "stdout",
          "text": [
            "=================================================================================\n",
            "n_gen  |  n_eval  |     cv_min    |     cv_avg    |     f_avg     |     f_min    \n",
            "=================================================================================\n",
            "     1 |       20 |  0.9999000000 |  0.9999000000 |             - |             -\n",
            "     2 |       40 |  0.9999000000 |  0.9999000000 |             - |             -\n",
            "     3 |       60 |  0.000000E+00 |  0.9499050000 |  0.1361767957 |  0.1361767957\n",
            "     4 |       80 |  0.000000E+00 |  0.8499150000 |  0.1411849057 |  0.1361767957\n",
            "     5 |      100 |  0.000000E+00 |  0.4999500000 |  0.1412525101 |  0.1352531165\n",
            "     6 |      120 |  0.000000E+00 |  0.000000E+00 |  0.1395886328 |  0.1346571993\n",
            "     7 |      140 |  0.000000E+00 |  0.000000E+00 |  0.1355550876 |  0.1321286460\n",
            "     8 |      160 |  0.000000E+00 |  0.000000E+00 |  0.1334940993 |  0.1292092486\n",
            "     9 |      180 |  0.000000E+00 |  0.000000E+00 |  0.1314165903 |  0.1290671787\n",
            "    10 |      200 |  0.000000E+00 |  0.000000E+00 |  0.1303172684 |  0.1278464586\n",
            "CPU times: user 10min 23s, sys: 1.54 s, total: 10min 24s\n",
            "Wall time: 10min 31s\n"
          ]
        }
      ]
    },
    {
      "cell_type": "code",
      "source": [
        "'''\n",
        "Optimized results for SOO.\n",
        "'''\n",
        "solar, gasifier, battery = results.X\n",
        "print(f\"Solar:{solar}KW, Gasifier: {gasifier}KW, Battery: {battery}KWh || LCOE: {results.F}USD/KWh\")"
      ],
      "metadata": {
        "colab": {
          "base_uri": "https://localhost:8080/"
        },
        "id": "HDUBuiJkWG7g",
        "outputId": "9677e931-a19a-4de6-c0d5-47220dc4f9fc"
      },
      "execution_count": 52,
      "outputs": [
        {
          "output_type": "stream",
          "name": "stdout",
          "text": [
            "Solar:3717620.230751795KW, Gasifier: 2209925.350228307KW, Battery: 4446649.505009017KWh || LCOE: [0.12784646]USD/KWh\n"
          ]
        }
      ]
    },
    {
      "cell_type": "code",
      "source": [
        "'''\n",
        "Convergence plot for SOO.\n",
        "'''\n",
        "import numpy as np\n",
        "import matplotlib.pyplot as plt\n",
        "\n",
        "n_evals = np.array([e.evaluator.n_eval for e in results.history])\n",
        "opt = np.array([e.opt[0].F for e in results.history])\n",
        "\n",
        "plt.title(\"Convergence\")\n",
        "plt.plot(n_evals[2:], opt[2:], \"--\")\n",
        "plt.xlabel(\"number of function evaluations\")\n",
        "plt.ylabel(\"LCOE(USD/KWh)\")\n",
        "plt.show()"
      ],
      "metadata": {
        "id": "E_YUTSPji4_o",
        "outputId": "66f95cd8-686a-445b-e12b-a7f2616ab6dd",
        "colab": {
          "base_uri": "https://localhost:8080/",
          "height": 472
        }
      },
      "execution_count": 59,
      "outputs": [
        {
          "output_type": "display_data",
          "data": {
            "text/plain": [
              "<Figure size 640x480 with 1 Axes>"
            ],
            "image/png": "[encoded data removed]"
          },
          "metadata": {}
        }
      ]
    },
    {
      "cell_type": "code",
      "source": [
        "'''\n",
        "Viewing the operation of the optimized hybrid energy system.\n",
        "'''\n",
        "solar, gasifier, battery = results.X\n",
        "\n",
        "solar_array = []\n",
        "gasifier_array = []\n",
        "battery_array = []\n",
        "battery_supply_array = []\n",
        "deficit_array = []\n",
        "\n",
        "total_supply = []\n",
        "\n",
        "count = 0\n",
        "Energy_prod_N = 0\n",
        "battery_E = battery\n",
        "for i in range(len(df)):\n",
        "\n",
        "\n",
        "  # Energy_produced = Energy_prod(solar_rate=solar, solar_rad=df['ghi'][i], gasifier_rate=gasifier, temp=df['air_temperature'][i])\n",
        "  Energy_served, battery_supply, battery_E, solar_ene, gasifier_ene = Energy_prod_(energy_def=df['deficit_energy'][i] ,battery_E=battery_E ,battery_max=battery, solar_rate=solar, solar_rad=df['ghi'][i], gasifier_rate=gasifier, temp=df['air_temperature'][i])\n",
        "  Energy_prod_N += Energy_served\n",
        "  deficit_array.append(df['deficit_energy'][i])\n",
        "  solar_array.append(solar_ene)\n",
        "  gasifier_array.append(gasifier_ene)\n",
        "  battery_supply_array.append(battery_supply)\n",
        "  battery_array.append(battery_E)\n",
        "  total_supply.append(battery_supply+gasifier_ene+solar_ene)\n",
        "\n",
        "asc, lcoe = LCOE(Energy_prod_N, solar, gasifier, battery)\n",
        "print(asc, lcoe)"
      ],
      "metadata": {
        "colab": {
          "base_uri": "https://localhost:8080/"
        },
        "id": "wCH4XnqjWRox",
        "outputId": "e895d37c-6b40-4746-9788-d320d8047f41"
      },
      "execution_count": 60,
      "outputs": [
        {
          "output_type": "stream",
          "name": "stdout",
          "text": [
            "785912711.3029163 0.12784645861894917\n"
          ]
        }
      ]
    },
    {
      "cell_type": "code",
      "source": [
        "'''\n",
        "Viewing the operation of the optimized hybrid energy system.\n",
        "'''\n",
        "i = 100 # start hour\n",
        "j = 200 # end hour\n",
        "x = np.arange(i,j)\n",
        "plt.plot(x,solar_array[i:j], label='solar')\n",
        "plt.plot(x,gasifier_array[i:j], label='gasifier')\n",
        "plt.plot(x,battery_array[i:j], label = 'battery-SOC')\n",
        "# plt.plot(x,battery_supply_array[i:j], label = 'battery')\n",
        "# plt.plot(x,-np.array(deficit_array[i:j]), label = 'deficit')\n",
        "plt.plot(x,-np.array(deficit_array[i:j]), label = 'deficit/surplus')\n",
        "# plt.plot(x,np.array(deficit_array[i:j]), label = 'surplus')\n",
        "plt.xlabel(\"hour\")\n",
        "plt.ylabel(\"KW\")\n",
        "# plt.plot(x,total_supply[i:j], label = 'total')\n",
        "plt.grid()\n",
        "plt.legend(loc='upper right',bbox_to_anchor=(1.2,0.5))"
      ],
      "metadata": {
        "colab": {
          "base_uri": "https://localhost:8080/",
          "height": 482
        },
        "id": "kmno2eoNZOIQ",
        "outputId": "158d20a4-e4c2-448e-cc36-554bba76569b"
      },
      "execution_count": 68,
      "outputs": [
        {
          "output_type": "execute_result",
          "data": {
            "text/plain": [
              "<matplotlib.legend.Legend at 0x78b68aa12980>"
            ]
          },
          "metadata": {},
          "execution_count": 68
        },
        {
          "output_type": "display_data",
          "data": {
            "text/plain": [
              "<Figure size 640x480 with 1 Axes>"
            ],
            "image/png": "[encoded data removed]"
          },
          "metadata": {}
        }
      ]
    },
    {
      "cell_type": "code",
      "source": [],
      "metadata": {
        "id": "S340Xe6b9Rgg"
      },
      "execution_count": null,
      "outputs": []
    }
  ]
}