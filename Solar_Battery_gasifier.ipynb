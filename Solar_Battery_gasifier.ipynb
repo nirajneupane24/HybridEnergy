{
  "cells": [
    {
      "cell_type": "markdown",
      "metadata": {
        "colab_type": "text",
        "id": "view-in-github"
      },
      "source": [
        "<a href=\"https://colab.research.google.com/github/phantom-balance/HybridEnergy/blob/master/Solar_Battery_gasifier.ipynb\" target=\"_parent\"><img src=\"https://colab.research.google.com/assets/colab-badge.svg\" alt=\"Open In Colab\"/></a>"
      ]
    },
    {
      "cell_type": "markdown",
      "metadata": {
        "id": "88mpm4EIHOGZ"
      },
      "source": [
        "#NEW"
      ]
    },
    {
      "cell_type": "code",
      "execution_count": 1,
      "metadata": {
        "id": "iaCfZRu8HQQg"
      },
      "outputs": [],
      "source": [
        "# pymoo used for optimization\n",
        "from IPython.display import clear_output\n",
        "!pip install pymoo\n",
        "clear_output()"
      ]
    },
    {
      "cell_type": "code",
      "execution_count": 1,
      "metadata": {
        "id": "KbwWxfbEI2nv"
      },
      "outputs": [],
      "source": [
        "# import necessary libraries\n",
        "import pandas as pd\n",
        "import numpy as np\n",
        "import matplotlib.pyplot as plt\n",
        "import pymoo\n",
        "from pymoo.optimize import minimize\n",
        "from pymoo.core.problem import Problem"
      ]
    },
    {
      "cell_type": "code",
      "execution_count": 2,
      "metadata": {
        "id": "Rlmkk5RxJGgA"
      },
      "outputs": [],
      "source": [
        "# reading the hourly energy csv file \"contains hourly data for deficits, solar radiation and ambient air temperature(Jumla)\"\n",
        "df = pd.read_csv(r'C:\\Users\\Asus\\Desktop\\Gasification files\\GA\\HOURLY_DATA_new.csv')\n",
        "# df = df[0:500]\n",
        "'''\n",
        "     csv file has deficit energy in MWh, solar radiation(ghi) in W/m2, air temperature in celcius.\n",
        "    We perform the analysis in terms of KW.\n",
        "'''\n",
        "df['deficit_energy']=df['deficit_energy']*1000\n",
        "df['deficit_energy'] = df['deficit_energy'].apply(lambda x: round(x, 6))\n",
        "df['ghi']=df['ghi']/1000"
      ]
    },
    {
      "cell_type": "code",
      "execution_count": 3,
      "metadata": {
        "colab": {
          "base_uri": "https://localhost:8080/",
          "height": 300
        },
        "id": "vRjcjr13LI3F",
        "outputId": "2d5adba0-52c8-44fc-bb8d-59b6939da20e"
      },
      "outputs": [
        {
          "data": {
            "text/html": [
              "<div>\n",
              "<style scoped>\n",
              "    .dataframe tbody tr th:only-of-type {\n",
              "        vertical-align: middle;\n",
              "    }\n",
              "\n",
              "    .dataframe tbody tr th {\n",
              "        vertical-align: top;\n",
              "    }\n",
              "\n",
              "    .dataframe thead th {\n",
              "        text-align: right;\n",
              "    }\n",
              "</style>\n",
              "<table border=\"1\" class=\"dataframe\">\n",
              "  <thead>\n",
              "    <tr style=\"text-align: right;\">\n",
              "      <th></th>\n",
              "      <th>Unnamed: 0</th>\n",
              "      <th>ghi</th>\n",
              "      <th>air_temperature</th>\n",
              "      <th>deficit_energy</th>\n",
              "    </tr>\n",
              "  </thead>\n",
              "  <tbody>\n",
              "    <tr>\n",
              "      <th>count</th>\n",
              "      <td>183960.000000</td>\n",
              "      <td>183960.000000</td>\n",
              "      <td>183960.000000</td>\n",
              "      <td>1.839600e+05</td>\n",
              "    </tr>\n",
              "    <tr>\n",
              "      <th>mean</th>\n",
              "      <td>91979.500000</td>\n",
              "      <td>0.218271</td>\n",
              "      <td>11.596737</td>\n",
              "      <td>2.363686e+05</td>\n",
              "    </tr>\n",
              "    <tr>\n",
              "      <th>std</th>\n",
              "      <td>53104.822097</td>\n",
              "      <td>0.311458</td>\n",
              "      <td>8.223487</td>\n",
              "      <td>4.957133e+05</td>\n",
              "    </tr>\n",
              "    <tr>\n",
              "      <th>min</th>\n",
              "      <td>0.000000</td>\n",
              "      <td>0.000000</td>\n",
              "      <td>-8.630000</td>\n",
              "      <td>-1.302164e+06</td>\n",
              "    </tr>\n",
              "    <tr>\n",
              "      <th>25%</th>\n",
              "      <td>45989.750000</td>\n",
              "      <td>0.000000</td>\n",
              "      <td>4.888750</td>\n",
              "      <td>-1.272546e+05</td>\n",
              "    </tr>\n",
              "    <tr>\n",
              "      <th>50%</th>\n",
              "      <td>91979.500000</td>\n",
              "      <td>0.005384</td>\n",
              "      <td>12.802500</td>\n",
              "      <td>1.943938e+05</td>\n",
              "    </tr>\n",
              "    <tr>\n",
              "      <th>75%</th>\n",
              "      <td>137969.250000</td>\n",
              "      <td>0.403645</td>\n",
              "      <td>17.676667</td>\n",
              "      <td>5.229730e+05</td>\n",
              "    </tr>\n",
              "    <tr>\n",
              "      <th>max</th>\n",
              "      <td>183959.000000</td>\n",
              "      <td>1.147850</td>\n",
              "      <td>29.931667</td>\n",
              "      <td>2.140979e+06</td>\n",
              "    </tr>\n",
              "  </tbody>\n",
              "</table>\n",
              "</div>"
            ],
            "text/plain": [
              "          Unnamed: 0            ghi  air_temperature  deficit_energy\n",
              "count  183960.000000  183960.000000    183960.000000    1.839600e+05\n",
              "mean    91979.500000       0.218271        11.596737    2.363686e+05\n",
              "std     53104.822097       0.311458         8.223487    4.957133e+05\n",
              "min         0.000000       0.000000        -8.630000   -1.302164e+06\n",
              "25%     45989.750000       0.000000         4.888750   -1.272546e+05\n",
              "50%     91979.500000       0.005384        12.802500    1.943938e+05\n",
              "75%    137969.250000       0.403645        17.676667    5.229730e+05\n",
              "max    183959.000000       1.147850        29.931667    2.140979e+06"
            ]
          },
          "execution_count": 3,
          "metadata": {},
          "output_type": "execute_result"
        }
      ],
      "source": [
        "df.describe()"
      ]
    },
    {
      "cell_type": "code",
      "execution_count": 4,
      "metadata": {
        "colab": {
          "base_uri": "https://localhost:8080/"
        },
        "id": "cQXVkSLIcC9n",
        "outputId": "7b675ea6-0e1e-4990-9d38-3b6e1a7ea00b"
      },
      "outputs": [
        {
          "data": {
            "text/plain": [
              "43482374952.66204"
            ]
          },
          "execution_count": 4,
          "metadata": {},
          "output_type": "execute_result"
        }
      ],
      "source": [
        "df['deficit_energy'].sum()"
      ]
    },
    {
      "cell_type": "code",
      "execution_count": 5,
      "metadata": {
        "id": "C8NkzT04KT4S"
      },
      "outputs": [],
      "source": [
        "'''\n",
        "    All the necessary constants required for modeling.\n",
        "'''\n",
        "N = 20 # project_life\n",
        "i = 0.06 # interest_rate\n",
        "\n",
        "solar_cost_unit = 727 # usd/kW(capex)\n",
        "solar_OM = 4 # usd/kW.year(opex)\n",
        "\n",
        "CRF = (i*((1+i)**N))/(((1+i)**N)-1) # capital recovery factor\n",
        "d_f = 0.88 #derating_factor\n",
        "Gt_stc = 1 #kw/m2\n",
        "ap = -0.0035 #solar mod temp coeff of power(%/oC)\n",
        "T_cstc = 25 #oC standard temp\n",
        "NOCT = 45 #oC\n",
        "n_bat = 0.92 #round trip efficieny\n",
        "\n",
        "gasifier_cost_unit = 2300 # usd/kW(capex)\n",
        "gasifier_OM = 2 # usd/kW.year(opex)\n",
        "gasifier_CUF = 0.55 # capacity utilization factor\n",
        "\n",
        "battery_cost_unit = 223.24 # usd/kW(capex)\n",
        "battery_OM_per = 1.5 # 1.5% of capex annuity(opex)"
      ]
    },
    {
      "cell_type": "code",
      "execution_count": 6,
      "metadata": {
        "id": "i7ghEDS5NH1S"
      },
      "outputs": [],
      "source": [
        "'''\n",
        "    Calculating the Annualized system cost(ASC) and the levelised cost of energy(LCOE)\n",
        "'''\n",
        "def cost_pv(solar):\n",
        "  solar_cost = solar*((CRF*solar_cost_unit)+solar_OM)\n",
        "  return solar_cost\n",
        "\n",
        "def cost_gasifier(gasifier):\n",
        "  gasifier_cost = gasifier*((CRF*gasifier_cost_unit)+gasifier_OM)\n",
        "  return gasifier_cost\n",
        "\n",
        "def cost_battery(battery):\n",
        "  battery_cap = battery*battery_cost_unit\n",
        "  battery_op = battery_cap*CRF*battery_OM_per/100\n",
        "  battery_cost = battery_cap*CRF+battery_op\n",
        "  return battery_cost\n",
        "\n",
        "def LCOE(total_energy_prod, solar, gasifier, battery):\n",
        "  ASC = cost_pv(solar)+cost_gasifier(gasifier)+cost_battery(battery)\n",
        "  energy_prod_per_year = total_energy_prod/N\n",
        "  lcoe = ASC/(energy_prod_per_year)\n",
        "  return ASC, lcoe"
      ]
    },
    {
      "cell_type": "code",
      "execution_count": 7,
      "metadata": {
        "id": "6jcJHrh3OkjJ"
      },
      "outputs": [],
      "source": [
        "'''\n",
        "    Calculating the energy produced by the solar panel and gasifier.\n",
        "'''\n",
        "def solar_ene_prod(solar_rate, solar_rad, temp):\n",
        "  T_cell = temp+Gt_stc*((NOCT-20)/0.8)\n",
        "  p_op = solar_rate*d_f*(solar_rad/Gt_stc)*(1+ap*(T_cell-T_cstc))\n",
        "  return p_op\n",
        "\n",
        "def gasifier_ene_prod(gasifier_rate):\n",
        "  return gasifier_rate*gasifier_CUF"
      ]
    },
    {
      "cell_type": "code",
      "execution_count": 8,
      "metadata": {
        "id": "xEYLfwTHOzbk"
      },
      "outputs": [],
      "source": [
        "'''\n",
        "    Hybrid Energy system operational strategy\n",
        "'''\n",
        "def Energy_prod_(energy_def, battery_E, battery_max, solar_rate, solar_rad, gasifier_rate, temp):\n",
        "  energy_def=-energy_def\n",
        "  energy_prod = 0\n",
        "  energy_served = 0\n",
        "  solar_energy = 0\n",
        "  gasifier_energy = 0\n",
        "  battery_E_up = battery_E\n",
        "  battery_supply = 0\n",
        "  solar_energy = solar_ene_prod(solar_rate, solar_rad, temp)\n",
        "\n",
        "  if energy_def>0:\n",
        "    '''\n",
        "    Energy deficit strategy\n",
        "    '''\n",
        "    if solar_energy-energy_def<0:\n",
        "      '''\n",
        "      Solar cannot fulfill the energy deficit.\n",
        "      Run battery and gasifier.\n",
        "      '''\n",
        "      # req_energy needs to be addressed by gasifier and battery\n",
        "      req_energy = energy_def-solar_energy\n",
        "      energy_served+=solar_energy\n",
        "\n",
        "      if battery_E>battery_max*0.3:\n",
        "        if req_energy<=(battery_E-battery_max*0.3):\n",
        "          '''\n",
        "          req_energy met by only battery\n",
        "          '''\n",
        "          battery_supply = req_energy\n",
        "          battery_E_up = battery_E-req_energy\n",
        "          energy_served+=battery_supply\n",
        "\n",
        "        else:\n",
        "          '''\n",
        "          req_energy met by battery and gasifier\n",
        "          '''\n",
        "          gasifier_E_req = req_energy-(battery_E-battery_max*0.3)\n",
        "          battery_supply = battery_E-0.3*battery_max\n",
        "          energy_served+=battery_supply\n",
        "          battery_E_up = 0.3*battery_max\n",
        "          gasifier_energy_op = gasifier_ene_prod(gasifier_rate)\n",
        "\n",
        "          if gasifier_energy_op>gasifier_E_req:\n",
        "            gasifier_energy = gasifier_E_req\n",
        "            energy_served+=gasifier_energy\n",
        "\n",
        "          else:\n",
        "            pass\n",
        "            '''\n",
        "            Hybrid energy system cannot fulfill the energy deficit.\n",
        "            New hybrid combination required.\n",
        "            '''\n",
        "            # print(\"# THE CURRENT SYSTEM RATING ISN'T ABLE TO FULLFIL THE DEFECIT, NEW HYBRID COMBINATION REQUIRED\")\n",
        "\n",
        "      else:\n",
        "        '''\n",
        "        req_energy met only by gasifier\n",
        "        '''\n",
        "        gasifier_energy_op = gasifier_ene_prod(gasifier_rate)\n",
        "\n",
        "        if req_energy<gasifier_energy_op:\n",
        "          gasifier_energy = req_energy\n",
        "          energy_served+=gasifier_energy\n",
        "        else:\n",
        "          pass\n",
        "          '''\n",
        "          Hybrid energy system cannot fulfill the energy deficit.\n",
        "          New hybrid combination required.\n",
        "          '''\n",
        "          # print(\"THE CURRENT SYSTEM RATING ISN'T ABLE TO FULLFIL THE DEFECIT, NEW HYBRID COMBINATION REQUIRED\")\n",
        "\n",
        "    else:\n",
        "      '''\n",
        "      Solar can fulfill the energy deficit.\n",
        "      Extra energy from the solar panel is used to charge the battery.\n",
        "      '''\n",
        "      energy_served+=energy_def # solar panel served the entire deficit energy\n",
        "      Pch_t = solar_energy-energy_def # extra energy from solar used for charging battery\n",
        "      Ech_t = Pch_t*n_bat\n",
        "\n",
        "      if Ech_t<=battery_max-battery_E:\n",
        "        #battery isn't fully charged\n",
        "        battery_E_up = battery_E+Ech_t\n",
        "\n",
        "      else:\n",
        "        #battery gets fully charged, E_dump is the remaining energy served to the grid\n",
        "        battery_E_up = battery_max\n",
        "        E_dump = Ech_t - (battery_max-battery_E)\n",
        "        energy_served+=(E_dump/n_bat)\n",
        "        Ech_t = battery_max-battery_E\n",
        "\n",
        "    energy_prod = solar_energy + gasifier_energy\n",
        "\n",
        "  else :\n",
        "    '''\n",
        "    Energy surplus strategy\n",
        "    '''\n",
        "    energy_prod=solar_energy+gasifier_energy\n",
        "    surplus_ene = abs(energy_def)\n",
        "\n",
        "    Pch_t = solar_energy\n",
        "    Ech_t = Pch_t*n_bat\n",
        "\n",
        "    if Ech_t<=battery_max-battery_E:\n",
        "      battery_E_up = battery_E+Ech_t\n",
        "\n",
        "    else:\n",
        "      battery_E_up = battery_max\n",
        "      E_dump = Ech_t - (battery_max-battery_E)\n",
        "      energy_served+=(E_dump/n_bat)\n",
        "      Ech_t = battery_max-battery_E\n",
        "\n",
        "  return energy_served, battery_supply, battery_E_up, solar_energy, gasifier_energy"
      ]
    },
    {
      "cell_type": "code",
      "execution_count": 10,
      "metadata": {
        "id": "gSeOk1Y1UXlY"
      },
      "outputs": [],
      "source": [
        "'''\n",
        "    Optimization for minimizing the LCOE.\n",
        "'''\n",
        "class ProblemWrapper(Problem):\n",
        "  def _evaluate(self, designs, out, *args, **kwargs):\n",
        "    res = []\n",
        "    res1 =[]\n",
        "    for design in designs:\n",
        "    \n",
        "      solar, gasifier, battery = design\n",
        "\n",
        "      count = 0\n",
        "      Energy_prod_N = 0 #total energy throughout the project life produced\n",
        "      battery_E = battery\n",
        "\n",
        "      for i in range(len(df)):\n",
        "        n_battery_E = battery_E\n",
        "        Energy_served,battery_supply, battery_E, _, _ = Energy_prod_(energy_def=df['deficit_energy'][i] ,battery_E=battery_E ,battery_max=battery, solar_rate=solar, solar_rad=df['ghi'][i], gasifier_rate=gasifier, temp=df['air_temperature'][i])\n",
        "        Energy_prod_N += Energy_served\n",
        "        energy_tot = df['deficit_energy'][i]+Energy_served\n",
        "        energy_tot = round(energy_tot, 4)\n",
        "\n",
        "        if energy_tot<0 and count!=1:\n",
        "          count = 1\n",
        "          break\n",
        "\n",
        "      asc, lcoe = LCOE(Energy_prod_N, solar, gasifier, battery)\n",
        "      res.append(lcoe)\n",
        "      res1.append(count)\n",
        "    out['F']=np.array(res)\n",
        "    out['H']=np.array(res1)\n",
        "\n",
        "problem = ProblemWrapper(n_var=3, n_obj=1, n_eq_constr=1, xl=[0, 0, 0], xu=[7440937, 2360000, 7440937],vtype=int)"
      ]
    },
    {
      "cell_type": "code",
      "execution_count": 11,
      "metadata": {
        "id": "p6uXTZcbVemk"
      },
      "outputs": [],
      "source": [
        "from pymoo.algorithms.soo.nonconvex.ga import GA\n",
        "from pymoo.operators.sampling.rnd import IntegerRandomSampling\n",
        "from pymoo.operators.crossover.sbx import SBX\n",
        "from pymoo.operators.mutation.pm import PM\n",
        "from pymoo.operators.repair.rounding import RoundingRepair\n",
        "algorithm = GA(pop_size=20,\n",
        "               sampling=IntegerRandomSampling(),\n",
        "               crossover=SBX(prob=1.0, eta=3.0, vtype=int, repair=RoundingRepair()),\n",
        "               mutation=PM(prob=1.0, eta=3.0, vtype=int, repair=RoundingRepair()),\n",
        "               eliminate_duplicate=True)\n",
        "stop_criteria = ('n_gen', 50)"
      ]
    },
    {
      "cell_type": "code",
      "execution_count": 12,
      "metadata": {
        "colab": {
          "base_uri": "https://localhost:8080/"
        },
        "id": "x6ciiRrwV1Mp",
        "outputId": "b6d1ef78-5472-44b4-8e69-0a68889ad1e2"
      },
      "outputs": [
        {
          "name": "stdout",
          "output_type": "stream",
          "text": [
            "=================================================================================\n",
            "n_gen  |  n_eval  |     cv_min    |     cv_avg    |     f_avg     |     f_min    \n",
            "=================================================================================\n",
            "     1 |       20 |  0.000000E+00 |  0.9499050000 |  0.0950966159 |  0.0950966159\n",
            "     2 |       40 |  0.000000E+00 |  0.8999100000 |  0.0929835593 |  0.0908705027\n",
            "     3 |       60 |  0.000000E+00 |  0.7499250000 |  0.1007537937 |  0.0898880054\n",
            "     4 |       80 |  0.000000E+00 |  0.3999600000 |  0.1020705594 |  0.0896882360\n",
            "     5 |      100 |  0.000000E+00 |  0.000000E+00 |  0.0929980614 |  0.0865863502\n",
            "     6 |      120 |  0.000000E+00 |  0.000000E+00 |  0.0898641718 |  0.0865863502\n",
            "     7 |      140 |  0.000000E+00 |  0.000000E+00 |  0.0884755879 |  0.0848796161\n",
            "     8 |      160 |  0.000000E+00 |  0.000000E+00 |  0.0875213581 |  0.0848796161\n",
            "     9 |      180 |  0.000000E+00 |  0.000000E+00 |  0.0868010273 |  0.0848796161\n",
            "    10 |      200 |  0.000000E+00 |  0.000000E+00 |  0.0861164514 |  0.0844829103\n",
            "    11 |      220 |  0.000000E+00 |  0.000000E+00 |  0.0855500864 |  0.0843341539\n",
            "    12 |      240 |  0.000000E+00 |  0.000000E+00 |  0.0851324273 |  0.0840476179\n",
            "    13 |      260 |  0.000000E+00 |  0.000000E+00 |  0.0847516431 |  0.0835915907\n",
            "    14 |      280 |  0.000000E+00 |  0.000000E+00 |  0.0844503661 |  0.0834836738\n",
            "    15 |      300 |  0.000000E+00 |  0.000000E+00 |  0.0842274599 |  0.0834790394\n",
            "    16 |      320 |  0.000000E+00 |  0.000000E+00 |  0.0840346344 |  0.0834790394\n",
            "    17 |      340 |  0.000000E+00 |  0.000000E+00 |  0.0838831119 |  0.0833858528\n",
            "    18 |      360 |  0.000000E+00 |  0.000000E+00 |  0.0837380604 |  0.0833858528\n",
            "    19 |      380 |  0.000000E+00 |  0.000000E+00 |  0.0835698053 |  0.0833858528\n",
            "    20 |      400 |  0.000000E+00 |  0.000000E+00 |  0.0834559294 |  0.0824722566\n",
            "    21 |      420 |  0.000000E+00 |  0.000000E+00 |  0.0833067852 |  0.0824722511\n",
            "    22 |      440 |  0.000000E+00 |  0.000000E+00 |  0.0832277993 |  0.0824722511\n",
            "    23 |      460 |  0.000000E+00 |  0.000000E+00 |  0.0831217545 |  0.0824206959\n",
            "    24 |      480 |  0.000000E+00 |  0.000000E+00 |  0.0829378625 |  0.0824206959\n",
            "    25 |      500 |  0.000000E+00 |  0.000000E+00 |  0.0825750348 |  0.0823492355\n",
            "    26 |      520 |  0.000000E+00 |  0.000000E+00 |  0.0824483388 |  0.0821595298\n",
            "    27 |      540 |  0.000000E+00 |  0.000000E+00 |  0.0824115644 |  0.0821595298\n",
            "    28 |      560 |  0.000000E+00 |  0.000000E+00 |  0.0823822040 |  0.0821595298\n",
            "    29 |      580 |  0.000000E+00 |  0.000000E+00 |  0.0823433809 |  0.0821595298\n",
            "    30 |      600 |  0.000000E+00 |  0.000000E+00 |  0.0822601604 |  0.0821060567\n",
            "    31 |      620 |  0.000000E+00 |  0.000000E+00 |  0.0822347724 |  0.0821060567\n",
            "    32 |      640 |  0.000000E+00 |  0.000000E+00 |  0.0822107311 |  0.0821060567\n",
            "    33 |      660 |  0.000000E+00 |  0.000000E+00 |  0.0821847147 |  0.0821060567\n",
            "    34 |      680 |  0.000000E+00 |  0.000000E+00 |  0.0821827352 |  0.0821060567\n",
            "    35 |      700 |  0.000000E+00 |  0.000000E+00 |  0.0821682798 |  0.0821060567\n",
            "    36 |      720 |  0.000000E+00 |  0.000000E+00 |  0.0821589122 |  0.0821060567\n",
            "    37 |      740 |  0.000000E+00 |  0.000000E+00 |  0.0821486088 |  0.0821060567\n",
            "    38 |      760 |  0.000000E+00 |  0.000000E+00 |  0.0821406305 |  0.0820919403\n",
            "    39 |      780 |  0.000000E+00 |  0.000000E+00 |  0.0821324533 |  0.0820876495\n",
            "    40 |      800 |  0.000000E+00 |  0.000000E+00 |  0.0821195611 |  0.0820719565\n",
            "    41 |      820 |  0.000000E+00 |  0.000000E+00 |  0.0821048367 |  0.0820606291\n",
            "    42 |      840 |  0.000000E+00 |  0.000000E+00 |  0.0820938184 |  0.0820599567\n",
            "    43 |      860 |  0.000000E+00 |  0.000000E+00 |  0.0820839960 |  0.0820190016\n",
            "    44 |      880 |  0.000000E+00 |  0.000000E+00 |  0.0820738089 |  0.0820066043\n",
            "    45 |      900 |  0.000000E+00 |  0.000000E+00 |  0.0820560715 |  0.0820028583\n",
            "    46 |      920 |  0.000000E+00 |  0.000000E+00 |  0.0820508208 |  0.0820028583\n",
            "    47 |      940 |  0.000000E+00 |  0.000000E+00 |  0.0820396390 |  0.0820028583\n",
            "    48 |      960 |  0.000000E+00 |  0.000000E+00 |  0.0820372251 |  0.0820028583\n",
            "    49 |      980 |  0.000000E+00 |  0.000000E+00 |  0.0820230641 |  0.0820004831\n",
            "    50 |     1000 |  0.000000E+00 |  0.000000E+00 |  0.0820135121 |  0.0820004831\n",
            "CPU times: total: 33min 53s\n",
            "Wall time: 1h 48min 28s\n"
          ]
        }
      ],
      "source": [
        "%%time\n",
        "results = minimize(problem=problem,\n",
        "                   algorithm=algorithm,\n",
        "                   termination=stop_criteria,\n",
        "                   verbose=True,\n",
        "                   seed=42,\n",
        "                   save_history=True)"
      ]
    },
    {
      "cell_type": "code",
      "execution_count": 13,
      "metadata": {
        "colab": {
          "base_uri": "https://localhost:8080/"
        },
        "id": "HDUBuiJkWG7g",
        "outputId": "9677e931-a19a-4de6-c0d5-47220dc4f9fc"
      },
      "outputs": [
        {
          "name": "stdout",
          "output_type": "stream",
          "text": [
            "Solar:7440824KW, Gasifier: 1877718KW, Battery: 5569543KWh || LCOE: [0.08200048]USD/KWh\n"
          ]
        }
      ],
      "source": [
        "'''\n",
        "Optimized results for SOO.\n",
        "'''\n",
        "solar, gasifier, battery = results.X\n",
        "print(f\"Solar:{solar}KW, Gasifier: {gasifier}KW, Battery: {battery}KWh || LCOE: {results.F}USD/KWh\")"
      ]
    },
    {
      "cell_type": "code",
      "execution_count": 14,
      "metadata": {
        "colab": {
          "base_uri": "https://localhost:8080/",
          "height": 472
        },
        "id": "E_YUTSPji4_o",
        "outputId": "66f95cd8-686a-445b-e12b-a7f2616ab6dd"
      },
      "outputs": [
        {
          "data": {
            "image/png": "[encoded data removed]",
            "text/plain": [
              "<Figure size 640x480 with 1 Axes>"
            ]
          },
          "metadata": {},
          "output_type": "display_data"
        }
      ],
      "source": [
        "'''\n",
        "Convergence plot for SOO.\n",
        "'''\n",
        "import numpy as np\n",
        "import matplotlib.pyplot as plt\n",
        "\n",
        "n_evals = np.array([e.evaluator.n_eval for e in results.history])\n",
        "opt = np.array([e.opt[0].F for e in results.history])\n",
        "\n",
        "plt.title(\"Convergence\")\n",
        "plt.plot(n_evals[2:], opt[2:], \"--\")\n",
        "plt.xlabel(\"number of function evaluations\")\n",
        "plt.ylabel(\"LCOE(USD/KWh)\")\n",
        "plt.show()"
      ]
    },
    {
      "cell_type": "code",
      "execution_count": 15,
      "metadata": {
        "colab": {
          "base_uri": "https://localhost:8080/"
        },
        "id": "wCH4XnqjWRox",
        "outputId": "e895d37c-6b40-4746-9788-d320d8047f41"
      },
      "outputs": [
        {
          "name": "stdout",
          "output_type": "stream",
          "text": [
            "1710\n",
            "652537344.4901885\n",
            "785912711.3029149 2.48182536396141\n"
          ]
        }
      ],
      "source": [
        "'''\n",
        "Viewing the operation of the optimized hybrid energy system.\n",
        "'''\n",
        "# solar, gasifier, battery = results.X\n",
        "solar, gasifier, battery = 3717620.230751795, 2209925.35022830, 4446649.505009017\n",
        "\n",
        "# Solar:3717620.230751795KW, Gasifier: 2209925.350228307KW, Battery: 4446649.505009017KWh || LCOE: [0.12784646]USD/KWh\n",
        "\n",
        "solar_array = []\n",
        "gasifier_array = []\n",
        "battery_array = []\n",
        "battery_supply_array = []\n",
        "deficit_array = []\n",
        "\n",
        "total_supply = []\n",
        "\n",
        "count = 0\n",
        "gasifier_up_hr = 0\n",
        "gasifier_energy = 0\n",
        "Energy_prod_N = 0\n",
        "battery_E = battery\n",
        "# for i in range(len(df)):\n",
        "for i in range(8760):\n",
        "\n",
        "  # Energy_produced = Energy_prod(solar_rate=solar, solar_rad=df['ghi'][i], gasifier_rate=gasifier, temp=df['air_temperature'][i])\n",
        "  Energy_served, battery_supply, battery_E, solar_ene, gasifier_ene = Energy_prod_(energy_def=df['deficit_energy'][i] ,battery_E=battery_E ,battery_max=battery, solar_rate=solar, solar_rad=df['ghi'][i], gasifier_rate=gasifier, temp=df['air_temperature'][i])\n",
        "  Energy_prod_N += Energy_served\n",
        "  gasifier_energy+=gasifier_ene\n",
        "  \n",
        "  if round(gasifier_ene, 2)>0:\n",
        "    # print(gasifier_ene)\n",
        "    # print(i)\n",
        "    \n",
        "\n",
        "    gasifier_up_hr+=1\n",
        "\n",
        "  deficit_array.append(df['deficit_energy'][i])\n",
        "  solar_array.append(solar_ene)\n",
        "  gasifier_array.append(gasifier_ene)\n",
        "  battery_supply_array.append(battery_supply)\n",
        "  battery_array.append(battery_E)\n",
        "  total_supply.append(battery_supply+gasifier_ene+solar_ene)\n",
        "print(gasifier_up_hr)\n",
        "print(gasifier_energy)\n",
        "asc, lcoe = LCOE(Energy_prod_N, solar, gasifier, battery)\n",
        "print(asc, lcoe)"
      ]
    },
    {
      "cell_type": "code",
      "execution_count": 328,
      "metadata": {},
      "outputs": [
        {
          "data": {
            "text/plain": [
              "232895515.4184573"
            ]
          },
          "execution_count": 328,
          "metadata": {},
          "output_type": "execute_result"
        }
      ],
      "source": [
        "640462667.4007576/2.75\n"
      ]
    },
    {
      "cell_type": "code",
      "execution_count": 16,
      "metadata": {
        "colab": {
          "base_uri": "https://localhost:8080/",
          "height": 482
        },
        "id": "kmno2eoNZOIQ",
        "outputId": "158d20a4-e4c2-448e-cc36-554bba76569b"
      },
      "outputs": [
        {
          "data": {
            "text/plain": [
              "<matplotlib.legend.Legend at 0x24ed5af9690>"
            ]
          },
          "execution_count": 16,
          "metadata": {},
          "output_type": "execute_result"
        },
        {
          "data": {
            "image/png": "[encoded data removed]",
            "text/plain": [
              "<Figure size 640x480 with 1 Axes>"
            ]
          },
          "metadata": {},
          "output_type": "display_data"
        }
      ],
      "source": [
        "'''\n",
        "Viewing the operation of the optimized hybrid energy system.\n",
        "'''\n",
        "i = 0 # start hour\n",
        "j = 8760 # end hour\n",
        "x = np.arange(i,j)\n",
        "plt.plot(x,solar_array[i:j], label='solar')\n",
        "plt.plot(x,gasifier_array[i:j], label='gasifier')\n",
        "# plt.plot(x,battery_array[i:j], label = 'battery-SOC')\n",
        "# plt.plot(x,battery_supply_array[i:j], label = 'battery')\n",
        "# plt.plot(x,-np.array(deficit_array[i:j]), label = 'deficit')\n",
        "# plt.plot(x,-np.array(deficit_array[i:j]), label = 'deficit/surplus')\n",
        "# plt.plot(x,np.array(deficit_array[i:j]), label = 'surplus')\n",
        "plt.xlabel(\"hour\")\n",
        "plt.ylabel(\"KW\")\n",
        "# plt.plot(x,total_supply[i:j], label = 'total')\n",
        "plt.grid()\n",
        "plt.legend(loc='upper right',bbox_to_anchor=(1.2,0.5))"
      ]
    },
    {
      "cell_type": "code",
      "execution_count": null,
      "metadata": {
        "id": "S340Xe6b9Rgg"
      },
      "outputs": [],
      "source": []
    }
  ],
  "metadata": {
    "colab": {
      "include_colab_link": true,
      "provenance": []
    },
    "kernelspec": {
      "display_name": "Python 3",
      "name": "python3"
    },
    "language_info": {
      "codemirror_mode": {
        "name": "ipython",
        "version": 3
      },
      "file_extension": ".py",
      "mimetype": "text/x-python",
      "name": "python",
      "nbconvert_exporter": "python",
      "pygments_lexer": "ipython3",
      "version": "3.11.5"
    }
  },
  "nbformat": 4,
  "nbformat_minor": 0
}
