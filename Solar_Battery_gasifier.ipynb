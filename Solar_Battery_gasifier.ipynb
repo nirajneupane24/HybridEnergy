{
  "cells": [
    {
      "cell_type": "markdown",
      "metadata": {
        "colab_type": "text",
        "id": "view-in-github"
      },
      "source": [
        "<a href=\"https://colab.research.google.com/github/phantom-balance/HybridEnergy/blob/master/Solar_Battery_gasifier.ipynb\" target=\"_parent\"><img src=\"https://colab.research.google.com/assets/colab-badge.svg\" alt=\"Open In Colab\"/></a>"
      ]
    },
    {
      "cell_type": "markdown",
      "metadata": {
        "id": "88mpm4EIHOGZ"
      },
      "source": [
        "#NEW"
      ]
    },
    {
      "cell_type": "code",
      "execution_count": 1,
      "metadata": {
        "id": "iaCfZRu8HQQg"
      },
      "outputs": [],
      "source": [
        "# pymoo used for optimization\n",
        "from IPython.display import clear_output\n",
        "!pip install pymoo\n",
        "clear_output()"
      ]
    },
    {
      "cell_type": "code",
      "execution_count": 2,
      "metadata": {
        "id": "KbwWxfbEI2nv"
      },
      "outputs": [],
      "source": [
        "# import necessary libraries\n",
        "import pandas as pd\n",
        "import numpy as np\n",
        "import matplotlib.pyplot as plt\n",
        "import pymoo\n",
        "from pymoo.optimize import minimize\n",
        "from pymoo.core.problem import Problem"
      ]
    },
    {
      "cell_type": "code",
      "execution_count": 242,
      "metadata": {
        "id": "Rlmkk5RxJGgA"
      },
      "outputs": [],
      "source": [
        "# reading the hourly energy csv file \"contains hourly data for deficits, solar radiation and ambient air temperature(Jumla)\"\n",
        "df = pd.read_csv(r'C:\\Users\\Asus\\Desktop\\Gasification files\\GA\\HOURLY_DATA_new.csv')\n",
        "# df = df[0:500]\n",
        "'''\n",
        "     csv file has deficit energy in MWh, solar radiation(ghi) in W/m2, air temperature in celcius.\n",
        "    We perform the analysis in terms of KW.\n",
        "'''\n",
        "df['deficit_energy']=df['deficit_energy']*1000\n",
        "df['deficit_energy'] = df['deficit_energy'].apply(lambda x: round(x, 6))\n",
        "df['ghi']=df['ghi']/1000"
      ]
    },
    {
      "cell_type": "code",
      "execution_count": 4,
      "metadata": {
        "colab": {
          "base_uri": "https://localhost:8080/",
          "height": 300
        },
        "id": "vRjcjr13LI3F",
        "outputId": "2d5adba0-52c8-44fc-bb8d-59b6939da20e"
      },
      "outputs": [
        {
          "data": {
            "text/html": [
              "<div>\n",
              "<style scoped>\n",
              "    .dataframe tbody tr th:only-of-type {\n",
              "        vertical-align: middle;\n",
              "    }\n",
              "\n",
              "    .dataframe tbody tr th {\n",
              "        vertical-align: top;\n",
              "    }\n",
              "\n",
              "    .dataframe thead th {\n",
              "        text-align: right;\n",
              "    }\n",
              "</style>\n",
              "<table border=\"1\" class=\"dataframe\">\n",
              "  <thead>\n",
              "    <tr style=\"text-align: right;\">\n",
              "      <th></th>\n",
              "      <th>Unnamed: 0</th>\n",
              "      <th>ghi</th>\n",
              "      <th>air_temperature</th>\n",
              "      <th>deficit_energy</th>\n",
              "    </tr>\n",
              "  </thead>\n",
              "  <tbody>\n",
              "    <tr>\n",
              "      <th>count</th>\n",
              "      <td>183960.000000</td>\n",
              "      <td>183960.000000</td>\n",
              "      <td>183960.000000</td>\n",
              "      <td>1.839600e+05</td>\n",
              "    </tr>\n",
              "    <tr>\n",
              "      <th>mean</th>\n",
              "      <td>91979.500000</td>\n",
              "      <td>0.218271</td>\n",
              "      <td>11.596737</td>\n",
              "      <td>2.363686e+05</td>\n",
              "    </tr>\n",
              "    <tr>\n",
              "      <th>std</th>\n",
              "      <td>53104.822097</td>\n",
              "      <td>0.311458</td>\n",
              "      <td>8.223487</td>\n",
              "      <td>4.957133e+05</td>\n",
              "    </tr>\n",
              "    <tr>\n",
              "      <th>min</th>\n",
              "      <td>0.000000</td>\n",
              "      <td>0.000000</td>\n",
              "      <td>-8.630000</td>\n",
              "      <td>-1.302164e+06</td>\n",
              "    </tr>\n",
              "    <tr>\n",
              "      <th>25%</th>\n",
              "      <td>45989.750000</td>\n",
              "      <td>0.000000</td>\n",
              "      <td>4.888750</td>\n",
              "      <td>-1.272546e+05</td>\n",
              "    </tr>\n",
              "    <tr>\n",
              "      <th>50%</th>\n",
              "      <td>91979.500000</td>\n",
              "      <td>0.005384</td>\n",
              "      <td>12.802500</td>\n",
              "      <td>1.943938e+05</td>\n",
              "    </tr>\n",
              "    <tr>\n",
              "      <th>75%</th>\n",
              "      <td>137969.250000</td>\n",
              "      <td>0.403645</td>\n",
              "      <td>17.676667</td>\n",
              "      <td>5.229730e+05</td>\n",
              "    </tr>\n",
              "    <tr>\n",
              "      <th>max</th>\n",
              "      <td>183959.000000</td>\n",
              "      <td>1.147850</td>\n",
              "      <td>29.931667</td>\n",
              "      <td>2.140979e+06</td>\n",
              "    </tr>\n",
              "  </tbody>\n",
              "</table>\n",
              "</div>"
            ],
            "text/plain": [
              "          Unnamed: 0            ghi  air_temperature  deficit_energy\n",
              "count  183960.000000  183960.000000    183960.000000    1.839600e+05\n",
              "mean    91979.500000       0.218271        11.596737    2.363686e+05\n",
              "std     53104.822097       0.311458         8.223487    4.957133e+05\n",
              "min         0.000000       0.000000        -8.630000   -1.302164e+06\n",
              "25%     45989.750000       0.000000         4.888750   -1.272546e+05\n",
              "50%     91979.500000       0.005384        12.802500    1.943938e+05\n",
              "75%    137969.250000       0.403645        17.676667    5.229730e+05\n",
              "max    183959.000000       1.147850        29.931667    2.140979e+06"
            ]
          },
          "execution_count": 4,
          "metadata": {},
          "output_type": "execute_result"
        }
      ],
      "source": [
        "df.describe()"
      ]
    },
    {
      "cell_type": "code",
      "execution_count": 5,
      "metadata": {
        "colab": {
          "base_uri": "https://localhost:8080/"
        },
        "id": "cQXVkSLIcC9n",
        "outputId": "7b675ea6-0e1e-4990-9d38-3b6e1a7ea00b"
      },
      "outputs": [
        {
          "data": {
            "text/plain": [
              "43482374952.66204"
            ]
          },
          "execution_count": 5,
          "metadata": {},
          "output_type": "execute_result"
        }
      ],
      "source": [
        "df['deficit_energy'].sum()"
      ]
    },
    {
      "cell_type": "code",
      "execution_count": 243,
      "metadata": {
        "id": "C8NkzT04KT4S"
      },
      "outputs": [],
      "source": [
        "'''\n",
        "    All the necessary constants required for modeling.\n",
        "'''\n",
        "N = 20 # project_life\n",
        "i = 0.06 # interest_rate\n",
        "\n",
        "solar_cost_unit = 727 # usd/kW(capex)\n",
        "solar_OM = 4 # usd/kW.year(opex)\n",
        "\n",
        "CRF = (i*((1+i)**N))/(((1+i)**N)-1) # capital recovery factor\n",
        "d_f = 0.88 #derating_factor\n",
        "Gt_stc = 1 #kw/m2\n",
        "ap = -0.0035 #solar mod temp coeff of power(%/oC)\n",
        "T_cstc = 25 #oC standard temp\n",
        "NOCT = 45 #oC\n",
        "n_bat = 0.92 #round trip efficieny\n",
        "\n",
        "gasifier_cost_unit = 2300 # usd/kW(capex)\n",
        "gasifier_OM = 2 # usd/kW.year(opex)\n",
        "gasifier_CUF = 0.55 # capacity utilization factor\n",
        "\n",
        "battery_cost_unit = 223.24 # usd/kW(capex)\n",
        "battery_OM_per = 1.5 # 1.5% of capex annuity(opex)"
      ]
    },
    {
      "cell_type": "code",
      "execution_count": 244,
      "metadata": {
        "id": "i7ghEDS5NH1S"
      },
      "outputs": [],
      "source": [
        "'''\n",
        "    Calculating the Annualized system cost(ASC) and the levelised cost of energy(LCOE)\n",
        "'''\n",
        "def cost_pv(solar):\n",
        "  solar_cost = solar*((CRF*solar_cost_unit)+solar_OM)\n",
        "  return solar_cost\n",
        "\n",
        "def cost_gasifier(gasifier):\n",
        "  gasifier_cost = gasifier*((CRF*gasifier_cost_unit)+gasifier_OM)\n",
        "  return gasifier_cost\n",
        "\n",
        "def cost_battery(battery):\n",
        "  battery_cap = battery*battery_cost_unit\n",
        "  battery_op = battery_cap*CRF*battery_OM_per/100\n",
        "  battery_cost = battery_cap*CRF+battery_op\n",
        "  return battery_cost\n",
        "\n",
        "def LCOE(total_energy_prod, solar, gasifier, battery):\n",
        "  ASC = cost_pv(solar)+cost_gasifier(gasifier)+cost_battery(battery)\n",
        "  energy_prod_per_year = total_energy_prod/N\n",
        "  lcoe = ASC/(energy_prod_per_year)\n",
        "  return ASC, lcoe"
      ]
    },
    {
      "cell_type": "code",
      "execution_count": 245,
      "metadata": {
        "id": "6jcJHrh3OkjJ"
      },
      "outputs": [],
      "source": [
        "'''\n",
        "    Calculating the energy produced by the solar panel and gasifier.\n",
        "'''\n",
        "def solar_ene_prod(solar_rate, solar_rad, temp):\n",
        "  T_cell = temp+Gt_stc*((NOCT-20)/0.8)\n",
        "  p_op = solar_rate*d_f*(solar_rad/Gt_stc)*(1+ap*(T_cell-T_cstc))\n",
        "  return p_op\n",
        "\n",
        "def gasifier_ene_prod(gasifier_rate):\n",
        "  return gasifier_rate*gasifier_CUF"
      ]
    },
    {
      "cell_type": "code",
      "execution_count": 246,
      "metadata": {
        "id": "xEYLfwTHOzbk"
      },
      "outputs": [],
      "source": [
        "'''\n",
        "    Hybrid Energy system operational strategy\n",
        "'''\n",
        "def Energy_prod_(energy_def, battery_E, battery_max, solar_rate, solar_rad, gasifier_rate, temp):\n",
        "  energy_def=-energy_def\n",
        "  energy_prod = 0\n",
        "  energy_served = 0\n",
        "  solar_energy = 0\n",
        "  gasifier_energy = 0\n",
        "  battery_E_up = battery_E\n",
        "  battery_supply = 0\n",
        "  solar_energy = solar_ene_prod(solar_rate, solar_rad, temp)\n",
        "\n",
        "  if energy_def>0:\n",
        "    '''\n",
        "    Energy deficit strategy\n",
        "    '''\n",
        "    if solar_energy-energy_def<0:\n",
        "      '''\n",
        "      Solar cannot fulfill the energy deficit.\n",
        "      Run battery and gasifier.\n",
        "      '''\n",
        "      # req_energy needs to be addressed by gasifier and battery\n",
        "      req_energy = energy_def-solar_energy\n",
        "      energy_served+=solar_energy\n",
        "\n",
        "      if battery_E>battery_max*0.3:\n",
        "        if req_energy<=(battery_E-battery_max*0.3):\n",
        "          '''\n",
        "          req_energy met by only battery\n",
        "          '''\n",
        "          battery_supply = req_energy\n",
        "          battery_E_up = battery_E-req_energy\n",
        "          energy_served+=battery_supply\n",
        "\n",
        "        else:\n",
        "          '''\n",
        "          req_energy met by battery and gasifier\n",
        "          '''\n",
        "          gasifier_E_req = req_energy-(battery_E-battery_max*0.3)\n",
        "          battery_supply = battery_E-0.3*battery_max\n",
        "          energy_served+=battery_supply\n",
        "          battery_E_up = 0.3*battery_max\n",
        "          gasifier_energy_op = gasifier_ene_prod(gasifier_rate)\n",
        "\n",
        "          if gasifier_energy_op>gasifier_E_req:\n",
        "            gasifier_energy = gasifier_E_req\n",
        "            energy_served+=gasifier_energy\n",
        "\n",
        "          else:\n",
        "            pass\n",
        "            '''\n",
        "            Hybrid energy system cannot fulfill the energy deficit.\n",
        "            New hybrid combination required.\n",
        "            '''\n",
        "            # print(\"# THE CURRENT SYSTEM RATING ISN'T ABLE TO FULLFIL THE DEFECIT, NEW HYBRID COMBINATION REQUIRED\")\n",
        "\n",
        "      else:\n",
        "        '''\n",
        "        req_energy met only by gasifier\n",
        "        '''\n",
        "        gasifier_energy_op = gasifier_ene_prod(gasifier_rate)\n",
        "\n",
        "        if req_energy<gasifier_energy_op:\n",
        "          gasifier_energy = req_energy\n",
        "          energy_served+=gasifier_energy\n",
        "        else:\n",
        "          pass\n",
        "          '''\n",
        "          Hybrid energy system cannot fulfill the energy deficit.\n",
        "          New hybrid combination required.\n",
        "          '''\n",
        "          # print(\"THE CURRENT SYSTEM RATING ISN'T ABLE TO FULLFIL THE DEFECIT, NEW HYBRID COMBINATION REQUIRED\")\n",
        "\n",
        "    else:\n",
        "      '''\n",
        "      Solar can fulfill the energy deficit.\n",
        "      Extra energy from the solar panel is used to charge the battery.\n",
        "      '''\n",
        "      energy_served+=energy_def # solar panel served the entire deficit energy\n",
        "      Pch_t = solar_energy-energy_def # extra energy from solar used for charging battery\n",
        "      Ech_t = Pch_t*n_bat\n",
        "\n",
        "      if Ech_t<=battery_max-battery_E:\n",
        "        #battery isn't fully charged\n",
        "        battery_E_up = battery_E+Ech_t\n",
        "\n",
        "      else:\n",
        "        #battery gets fully charged, E_dump is the remaining energy served to the grid\n",
        "        battery_E_up = battery_max\n",
        "        E_dump = Ech_t - (battery_max-battery_E)\n",
        "        energy_served+=(E_dump/n_bat)\n",
        "        Ech_t = battery_max-battery_E\n",
        "\n",
        "    energy_prod = solar_energy + gasifier_energy\n",
        "\n",
        "  else :\n",
        "    '''\n",
        "    Energy surplus strategy\n",
        "    '''\n",
        "    energy_prod=solar_energy+gasifier_energy\n",
        "    surplus_ene = abs(energy_def)\n",
        "\n",
        "    Pch_t = solar_energy\n",
        "    Ech_t = Pch_t*n_bat\n",
        "\n",
        "    if Ech_t<=battery_max-battery_E:\n",
        "      battery_E_up = battery_E+Ech_t\n",
        "\n",
        "    else:\n",
        "      battery_E_up = battery_max\n",
        "      E_dump = Ech_t - (battery_max-battery_E)\n",
        "      energy_served+=(E_dump/n_bat)\n",
        "      Ech_t = battery_max-battery_E\n",
        "\n",
        "  return energy_served, battery_supply, battery_E_up, solar_energy, gasifier_energy"
      ]
    },
    {
      "cell_type": "code",
      "execution_count": 323,
      "metadata": {
        "id": "gSeOk1Y1UXlY"
      },
      "outputs": [],
      "source": [
        "'''\n",
        "    Optimization for minimizing the LCOE.\n",
        "'''\n",
        "class ProblemWrapper(Problem):\n",
        "  def _evaluate(self, designs, out, *args, **kwargs):\n",
        "    res = []\n",
        "    res1 =[]\n",
        "    for design in designs:\n",
        "    \n",
        "      solar, gasifier, battery = design\n",
        "\n",
        "      count = 0\n",
        "      Energy_prod_N = 0 #total energy throughout the project life produced\n",
        "      battery_E = battery\n",
        "\n",
        "      for i in range(len(df)):\n",
        "        n_battery_E = battery_E\n",
        "        Energy_served,battery_supply, battery_E, _, _ = Energy_prod_(energy_def=df['deficit_energy'][i] ,battery_E=battery_E ,battery_max=battery, solar_rate=solar, solar_rad=df['ghi'][i], gasifier_rate=gasifier, temp=df['air_temperature'][i])\n",
        "        Energy_prod_N += Energy_served\n",
        "        energy_tot = df['deficit_energy'][i]+Energy_served\n",
        "        energy_tot = round(energy_tot, 4)\n",
        "\n",
        "        if energy_tot<0 and count!=1:\n",
        "          count = 1\n",
        "          break\n",
        "\n",
        "      asc, lcoe = LCOE(Energy_prod_N, solar, gasifier, battery)\n",
        "      res.append(lcoe)\n",
        "      res1.append(count)\n",
        "    out['F']=np.array(res)\n",
        "    out['H']=np.array(res1)\n",
        "\n",
        "problem = ProblemWrapper(n_var=3, n_obj=1, n_eq_constr=1, xl=[3717620*4, 300000, 4646649*2], xu=[3717620*4, 300000, 4646649*5])"
      ]
    },
    {
      "cell_type": "code",
      "execution_count": 324,
      "metadata": {
        "id": "p6uXTZcbVemk"
      },
      "outputs": [],
      "source": [
        "from pymoo.algorithms.soo.nonconvex.ga import GA\n",
        "from pymoo.operators.sampling.rnd import IntegerRandomSampling\n",
        "algorithm = GA(pop_size=10,\n",
        "               sampling=IntegerRandomSampling(),\n",
        "               eliminate_duplicate=True)\n",
        "stop_criteria = ('n_gen', 10)"
      ]
    },
    {
      "cell_type": "code",
      "execution_count": 325,
      "metadata": {
        "colab": {
          "base_uri": "https://localhost:8080/"
        },
        "id": "x6ciiRrwV1Mp",
        "outputId": "b6d1ef78-5472-44b4-8e69-0a68889ad1e2"
      },
      "outputs": [
        {
          "name": "stdout",
          "output_type": "stream",
          "text": [
            "=================================================================================\n",
            "n_gen  |  n_eval  |     cv_min    |     cv_avg    |     f_avg     |     f_min    \n",
            "=================================================================================\n",
            "     1 |       10 |  0.000000E+00 |  0.1999800000 |  0.0596272402 |  0.0571501025\n",
            "     2 |       20 |  0.000000E+00 |  0.000000E+00 |  0.0580135940 |  0.0571501025\n"
          ]
        },
        {
          "ename": "KeyboardInterrupt",
          "evalue": "",
          "output_type": "error",
          "traceback": [
            "\u001b[1;31m---------------------------------------------------------------------------\u001b[0m",
            "\u001b[1;31mKeyboardInterrupt\u001b[0m                         Traceback (most recent call last)",
            "File \u001b[1;32m<timed exec>:1\u001b[0m\n",
            "File \u001b[1;32mc:\\Users\\Asus\\anaconda3\\Lib\\site-packages\\pymoo\\optimize.py:67\u001b[0m, in \u001b[0;36mminimize\u001b[1;34m(problem, algorithm, termination, copy_algorithm, copy_termination, **kwargs)\u001b[0m\n\u001b[0;32m     64\u001b[0m     algorithm\u001b[38;5;241m.\u001b[39msetup(problem, \u001b[38;5;241m*\u001b[39m\u001b[38;5;241m*\u001b[39mkwargs)\n\u001b[0;32m     66\u001b[0m \u001b[38;5;66;03m# actually execute the algorithm\u001b[39;00m\n\u001b[1;32m---> 67\u001b[0m res \u001b[38;5;241m=\u001b[39m algorithm\u001b[38;5;241m.\u001b[39mrun()\n\u001b[0;32m     69\u001b[0m \u001b[38;5;66;03m# store the deep copied algorithm in the result object\u001b[39;00m\n\u001b[0;32m     70\u001b[0m res\u001b[38;5;241m.\u001b[39malgorithm \u001b[38;5;241m=\u001b[39m algorithm\n",
            "File \u001b[1;32mc:\\Users\\Asus\\anaconda3\\Lib\\site-packages\\pymoo\\core\\algorithm.py:138\u001b[0m, in \u001b[0;36mAlgorithm.run\u001b[1;34m(self)\u001b[0m\n\u001b[0;32m    136\u001b[0m \u001b[38;5;28;01mdef\u001b[39;00m \u001b[38;5;21mrun\u001b[39m(\u001b[38;5;28mself\u001b[39m):\n\u001b[0;32m    137\u001b[0m     \u001b[38;5;28;01mwhile\u001b[39;00m \u001b[38;5;28mself\u001b[39m\u001b[38;5;241m.\u001b[39mhas_next():\n\u001b[1;32m--> 138\u001b[0m         \u001b[38;5;28mself\u001b[39m\u001b[38;5;241m.\u001b[39mnext()\n\u001b[0;32m    139\u001b[0m     \u001b[38;5;28;01mreturn\u001b[39;00m \u001b[38;5;28mself\u001b[39m\u001b[38;5;241m.\u001b[39mresult()\n",
            "File \u001b[1;32mc:\\Users\\Asus\\anaconda3\\Lib\\site-packages\\pymoo\\core\\algorithm.py:158\u001b[0m, in \u001b[0;36mAlgorithm.next\u001b[1;34m(self)\u001b[0m\n\u001b[0;32m    156\u001b[0m \u001b[38;5;66;03m# call the advance with them after evaluation\u001b[39;00m\n\u001b[0;32m    157\u001b[0m \u001b[38;5;28;01mif\u001b[39;00m infills \u001b[38;5;129;01mis\u001b[39;00m \u001b[38;5;129;01mnot\u001b[39;00m \u001b[38;5;28;01mNone\u001b[39;00m:\n\u001b[1;32m--> 158\u001b[0m     \u001b[38;5;28mself\u001b[39m\u001b[38;5;241m.\u001b[39mevaluator\u001b[38;5;241m.\u001b[39meval(\u001b[38;5;28mself\u001b[39m\u001b[38;5;241m.\u001b[39mproblem, infills, algorithm\u001b[38;5;241m=\u001b[39m\u001b[38;5;28mself\u001b[39m)\n\u001b[0;32m    159\u001b[0m     \u001b[38;5;28mself\u001b[39m\u001b[38;5;241m.\u001b[39madvance(infills\u001b[38;5;241m=\u001b[39minfills)\n\u001b[0;32m    161\u001b[0m \u001b[38;5;66;03m# if the algorithm does not follow the infill-advance scheme just call advance\u001b[39;00m\n\u001b[0;32m    162\u001b[0m \u001b[38;5;28;01melse\u001b[39;00m:\n",
            "File \u001b[1;32mc:\\Users\\Asus\\anaconda3\\Lib\\site-packages\\pymoo\\core\\evaluator.py:69\u001b[0m, in \u001b[0;36mEvaluator.eval\u001b[1;34m(self, problem, pop, skip_already_evaluated, evaluate_values_of, count_evals, **kwargs)\u001b[0m\n\u001b[0;32m     65\u001b[0m \u001b[38;5;66;03m# evaluate the solutions (if there are any)\u001b[39;00m\n\u001b[0;32m     66\u001b[0m \u001b[38;5;28;01mif\u001b[39;00m \u001b[38;5;28mlen\u001b[39m(I) \u001b[38;5;241m>\u001b[39m \u001b[38;5;241m0\u001b[39m:\n\u001b[0;32m     67\u001b[0m \n\u001b[0;32m     68\u001b[0m     \u001b[38;5;66;03m# do the actual evaluation - call the sub-function to set the corresponding values to the population\u001b[39;00m\n\u001b[1;32m---> 69\u001b[0m     \u001b[38;5;28mself\u001b[39m\u001b[38;5;241m.\u001b[39m_eval(problem, pop[I], evaluate_values_of, \u001b[38;5;241m*\u001b[39m\u001b[38;5;241m*\u001b[39mkwargs)\n\u001b[0;32m     71\u001b[0m \u001b[38;5;66;03m# update the function evaluation counter\u001b[39;00m\n\u001b[0;32m     72\u001b[0m \u001b[38;5;28;01mif\u001b[39;00m count_evals:\n",
            "File \u001b[1;32mc:\\Users\\Asus\\anaconda3\\Lib\\site-packages\\pymoo\\core\\evaluator.py:90\u001b[0m, in \u001b[0;36mEvaluator._eval\u001b[1;34m(self, problem, pop, evaluate_values_of, **kwargs)\u001b[0m\n\u001b[0;32m     87\u001b[0m X \u001b[38;5;241m=\u001b[39m pop\u001b[38;5;241m.\u001b[39mget(\u001b[38;5;124m\"\u001b[39m\u001b[38;5;124mX\u001b[39m\u001b[38;5;124m\"\u001b[39m)\n\u001b[0;32m     89\u001b[0m \u001b[38;5;66;03m# call the problem to evaluate the solutions\u001b[39;00m\n\u001b[1;32m---> 90\u001b[0m out \u001b[38;5;241m=\u001b[39m problem\u001b[38;5;241m.\u001b[39mevaluate(X, return_values_of\u001b[38;5;241m=\u001b[39mevaluate_values_of, return_as_dictionary\u001b[38;5;241m=\u001b[39m\u001b[38;5;28;01mTrue\u001b[39;00m, \u001b[38;5;241m*\u001b[39m\u001b[38;5;241m*\u001b[39mkwargs)\n\u001b[0;32m     92\u001b[0m \u001b[38;5;66;03m# for each of the attributes set it to the problem\u001b[39;00m\n\u001b[0;32m     93\u001b[0m \u001b[38;5;28;01mfor\u001b[39;00m key, val \u001b[38;5;129;01min\u001b[39;00m out\u001b[38;5;241m.\u001b[39mitems():\n",
            "File \u001b[1;32mc:\\Users\\Asus\\anaconda3\\Lib\\site-packages\\pymoo\\core\\problem.py:257\u001b[0m, in \u001b[0;36mProblem.evaluate\u001b[1;34m(self, X, return_values_of, return_as_dictionary, *args, **kwargs)\u001b[0m\n\u001b[0;32m    254\u001b[0m     only_single_value \u001b[38;5;241m=\u001b[39m \u001b[38;5;129;01mnot\u001b[39;00m (\u001b[38;5;28misinstance\u001b[39m(X, \u001b[38;5;28mlist\u001b[39m) \u001b[38;5;129;01mor\u001b[39;00m \u001b[38;5;28misinstance\u001b[39m(X, np\u001b[38;5;241m.\u001b[39mndarray))\n\u001b[0;32m    256\u001b[0m \u001b[38;5;66;03m# this is where the actual evaluation takes place\u001b[39;00m\n\u001b[1;32m--> 257\u001b[0m _out \u001b[38;5;241m=\u001b[39m \u001b[38;5;28mself\u001b[39m\u001b[38;5;241m.\u001b[39mdo(X, return_values_of, \u001b[38;5;241m*\u001b[39margs, \u001b[38;5;241m*\u001b[39m\u001b[38;5;241m*\u001b[39mkwargs)\n\u001b[0;32m    259\u001b[0m out \u001b[38;5;241m=\u001b[39m {}\n\u001b[0;32m    260\u001b[0m \u001b[38;5;28;01mfor\u001b[39;00m k, v \u001b[38;5;129;01min\u001b[39;00m _out\u001b[38;5;241m.\u001b[39mitems():\n\u001b[0;32m    261\u001b[0m \n\u001b[0;32m    262\u001b[0m     \u001b[38;5;66;03m# copy it to a numpy array (it might be one of jax at this point)\u001b[39;00m\n",
            "File \u001b[1;32mc:\\Users\\Asus\\anaconda3\\Lib\\site-packages\\pymoo\\core\\problem.py:299\u001b[0m, in \u001b[0;36mProblem.do\u001b[1;34m(self, X, return_values_of, *args, **kwargs)\u001b[0m\n\u001b[0;32m    297\u001b[0m     \u001b[38;5;28mself\u001b[39m\u001b[38;5;241m.\u001b[39m_evaluate_elementwise(X, out, \u001b[38;5;241m*\u001b[39margs, \u001b[38;5;241m*\u001b[39m\u001b[38;5;241m*\u001b[39mkwargs)\n\u001b[0;32m    298\u001b[0m \u001b[38;5;28;01melse\u001b[39;00m:\n\u001b[1;32m--> 299\u001b[0m     \u001b[38;5;28mself\u001b[39m\u001b[38;5;241m.\u001b[39m_evaluate_vectorized(X, out, \u001b[38;5;241m*\u001b[39margs, \u001b[38;5;241m*\u001b[39m\u001b[38;5;241m*\u001b[39mkwargs)\n\u001b[0;32m    301\u001b[0m \u001b[38;5;66;03m# finally format the output dictionary\u001b[39;00m\n\u001b[0;32m    302\u001b[0m out \u001b[38;5;241m=\u001b[39m \u001b[38;5;28mself\u001b[39m\u001b[38;5;241m.\u001b[39m_format_dict(out, \u001b[38;5;28mlen\u001b[39m(X), return_values_of)\n",
            "File \u001b[1;32mc:\\Users\\Asus\\anaconda3\\Lib\\site-packages\\pymoo\\core\\problem.py:307\u001b[0m, in \u001b[0;36mProblem._evaluate_vectorized\u001b[1;34m(self, X, out, *args, **kwargs)\u001b[0m\n\u001b[0;32m    306\u001b[0m \u001b[38;5;28;01mdef\u001b[39;00m \u001b[38;5;21m_evaluate_vectorized\u001b[39m(\u001b[38;5;28mself\u001b[39m, X, out, \u001b[38;5;241m*\u001b[39margs, \u001b[38;5;241m*\u001b[39m\u001b[38;5;241m*\u001b[39mkwargs):\n\u001b[1;32m--> 307\u001b[0m     \u001b[38;5;28mself\u001b[39m\u001b[38;5;241m.\u001b[39m_evaluate(X, out, \u001b[38;5;241m*\u001b[39margs, \u001b[38;5;241m*\u001b[39m\u001b[38;5;241m*\u001b[39mkwargs)\n",
            "Cell \u001b[1;32mIn[323], line 18\u001b[0m, in \u001b[0;36mProblemWrapper._evaluate\u001b[1;34m(self, designs, out, *args, **kwargs)\u001b[0m\n\u001b[0;32m     16\u001b[0m \u001b[38;5;28;01mfor\u001b[39;00m i \u001b[38;5;129;01min\u001b[39;00m \u001b[38;5;28mrange\u001b[39m(\u001b[38;5;28mlen\u001b[39m(df)):\n\u001b[0;32m     17\u001b[0m   n_battery_E \u001b[38;5;241m=\u001b[39m battery_E\n\u001b[1;32m---> 18\u001b[0m   Energy_served,battery_supply, battery_E, _, _ \u001b[38;5;241m=\u001b[39m Energy_prod_(energy_def\u001b[38;5;241m=\u001b[39mdf[\u001b[38;5;124m'\u001b[39m\u001b[38;5;124mdeficit_energy\u001b[39m\u001b[38;5;124m'\u001b[39m][i] ,battery_E\u001b[38;5;241m=\u001b[39mbattery_E ,battery_max\u001b[38;5;241m=\u001b[39mbattery, solar_rate\u001b[38;5;241m=\u001b[39msolar, solar_rad\u001b[38;5;241m=\u001b[39mdf[\u001b[38;5;124m'\u001b[39m\u001b[38;5;124mghi\u001b[39m\u001b[38;5;124m'\u001b[39m][i], gasifier_rate\u001b[38;5;241m=\u001b[39mgasifier, temp\u001b[38;5;241m=\u001b[39mdf[\u001b[38;5;124m'\u001b[39m\u001b[38;5;124mair_temperature\u001b[39m\u001b[38;5;124m'\u001b[39m][i])\n\u001b[0;32m     19\u001b[0m   Energy_prod_N \u001b[38;5;241m+\u001b[39m\u001b[38;5;241m=\u001b[39m Energy_served\n\u001b[0;32m     20\u001b[0m   energy_tot \u001b[38;5;241m=\u001b[39m df[\u001b[38;5;124m'\u001b[39m\u001b[38;5;124mdeficit_energy\u001b[39m\u001b[38;5;124m'\u001b[39m][i]\u001b[38;5;241m+\u001b[39mEnergy_served\n",
            "File \u001b[1;32mc:\\Users\\Asus\\anaconda3\\Lib\\site-packages\\pandas\\core\\series.py:994\u001b[0m, in \u001b[0;36mSeries.__getitem__\u001b[1;34m(self, key)\u001b[0m\n\u001b[0;32m    992\u001b[0m \u001b[38;5;28;01mdef\u001b[39;00m \u001b[38;5;21m__getitem__\u001b[39m(\u001b[38;5;28mself\u001b[39m, key):\n\u001b[0;32m    993\u001b[0m     check_dict_or_set_indexers(key)\n\u001b[1;32m--> 994\u001b[0m     key \u001b[38;5;241m=\u001b[39m com\u001b[38;5;241m.\u001b[39mapply_if_callable(key, \u001b[38;5;28mself\u001b[39m)\n\u001b[0;32m    996\u001b[0m     \u001b[38;5;28;01mif\u001b[39;00m key \u001b[38;5;129;01mis\u001b[39;00m \u001b[38;5;28mEllipsis\u001b[39m:\n\u001b[0;32m    997\u001b[0m         \u001b[38;5;28;01mreturn\u001b[39;00m \u001b[38;5;28mself\u001b[39m\n",
            "File \u001b[1;32mc:\\Users\\Asus\\anaconda3\\Lib\\site-packages\\pandas\\core\\common.py:378\u001b[0m, in \u001b[0;36mapply_if_callable\u001b[1;34m(maybe_callable, obj, **kwargs)\u001b[0m\n\u001b[0;32m    367\u001b[0m \u001b[38;5;28;01mdef\u001b[39;00m \u001b[38;5;21mapply_if_callable\u001b[39m(maybe_callable, obj, \u001b[38;5;241m*\u001b[39m\u001b[38;5;241m*\u001b[39mkwargs):\n\u001b[0;32m    368\u001b[0m \u001b[38;5;250m    \u001b[39m\u001b[38;5;124;03m\"\"\"\u001b[39;00m\n\u001b[0;32m    369\u001b[0m \u001b[38;5;124;03m    Evaluate possibly callable input using obj and kwargs if it is callable,\u001b[39;00m\n\u001b[0;32m    370\u001b[0m \u001b[38;5;124;03m    otherwise return as it is.\u001b[39;00m\n\u001b[1;32m   (...)\u001b[0m\n\u001b[0;32m    376\u001b[0m \u001b[38;5;124;03m    **kwargs\u001b[39;00m\n\u001b[0;32m    377\u001b[0m \u001b[38;5;124;03m    \"\"\"\u001b[39;00m\n\u001b[1;32m--> 378\u001b[0m     \u001b[38;5;28;01mif\u001b[39;00m \u001b[38;5;28mcallable\u001b[39m(maybe_callable):\n\u001b[0;32m    379\u001b[0m         \u001b[38;5;28;01mreturn\u001b[39;00m maybe_callable(obj, \u001b[38;5;241m*\u001b[39m\u001b[38;5;241m*\u001b[39mkwargs)\n\u001b[0;32m    381\u001b[0m     \u001b[38;5;28;01mreturn\u001b[39;00m maybe_callable\n",
            "\u001b[1;31mKeyboardInterrupt\u001b[0m: "
          ]
        }
      ],
      "source": [
        "%%time\n",
        "results = minimize(problem=problem,\n",
        "                   algorithm=algorithm,\n",
        "                   termination=stop_criteria,\n",
        "                   verbose=True,\n",
        "                   seed=42,\n",
        "                   save_history=True)"
      ]
    },
    {
      "cell_type": "code",
      "execution_count": 299,
      "metadata": {
        "colab": {
          "base_uri": "https://localhost:8080/"
        },
        "id": "HDUBuiJkWG7g",
        "outputId": "9677e931-a19a-4de6-c0d5-47220dc4f9fc"
      },
      "outputs": [
        {
          "name": "stdout",
          "output_type": "stream",
          "text": [
            "Solar:18588100KW, Gasifier: 300000KW, Battery: 18586596KWh || LCOE: [0.05592908]USD/KWh\n"
          ]
        }
      ],
      "source": [
        "'''\n",
        "Optimized results for SOO.\n",
        "'''\n",
        "solar, gasifier, battery = results.X\n",
        "print(f\"Solar:{solar}KW, Gasifier: {gasifier}KW, Battery: {battery}KWh || LCOE: {results.F}USD/KWh\")"
      ]
    },
    {
      "cell_type": "code",
      "execution_count": 282,
      "metadata": {
        "colab": {
          "base_uri": "https://localhost:8080/",
          "height": 472
        },
        "id": "E_YUTSPji4_o",
        "outputId": "66f95cd8-686a-445b-e12b-a7f2616ab6dd"
      },
      "outputs": [
        {
          "data": {
            "image/png": "[encoded data removed]",
            "text/plain": [
              "<Figure size 640x480 with 1 Axes>"
            ]
          },
          "metadata": {},
          "output_type": "display_data"
        }
      ],
      "source": [
        "'''\n",
        "Convergence plot for SOO.\n",
        "'''\n",
        "import numpy as np\n",
        "import matplotlib.pyplot as plt\n",
        "\n",
        "n_evals = np.array([e.evaluator.n_eval for e in results.history])\n",
        "opt = np.array([e.opt[0].F for e in results.history])\n",
        "\n",
        "plt.title(\"Convergence\")\n",
        "plt.plot(n_evals[2:], opt[2:], \"--\")\n",
        "plt.xlabel(\"number of function evaluations\")\n",
        "plt.ylabel(\"LCOE(USD/KWh)\")\n",
        "plt.show()"
      ]
    },
    {
      "cell_type": "code",
      "execution_count": 327,
      "metadata": {
        "colab": {
          "base_uri": "https://localhost:8080/"
        },
        "id": "wCH4XnqjWRox",
        "outputId": "e895d37c-6b40-4746-9788-d320d8047f41"
      },
      "outputs": [
        {
          "name": "stdout",
          "output_type": "stream",
          "text": [
            "1679\n",
            "640462667.4007576\n",
            "785912711.3029149 2.473681997756423\n"
          ]
        }
      ],
      "source": [
        "'''\n",
        "Viewing the operation of the optimized hybrid energy system.\n",
        "'''\n",
        "# solar, gasifier, battery = results.X\n",
        "solar, gasifier, battery = 3717620.230751795, 2209925.35022830, 4446649.505009017\n",
        "\n",
        "# Solar:3717620.230751795KW, Gasifier: 2209925.350228307KW, Battery: 4446649.505009017KWh || LCOE: [0.12784646]USD/KWh\n",
        "\n",
        "solar_array = []\n",
        "gasifier_array = []\n",
        "battery_array = []\n",
        "battery_supply_array = []\n",
        "deficit_array = []\n",
        "\n",
        "total_supply = []\n",
        "\n",
        "count = 0\n",
        "gasifier_up_hr = 0\n",
        "gasifier_energy = 0\n",
        "Energy_prod_N = 0\n",
        "battery_E = battery\n",
        "# for i in range(len(df)):\n",
        "for i in range(8760):\n",
        "\n",
        "  # Energy_produced = Energy_prod(solar_rate=solar, solar_rad=df['ghi'][i], gasifier_rate=gasifier, temp=df['air_temperature'][i])\n",
        "  Energy_served, battery_supply, battery_E, solar_ene, gasifier_ene = Energy_prod_(energy_def=df['deficit_energy'][i] ,battery_E=battery_E ,battery_max=battery, solar_rate=solar, solar_rad=df['ghi'][i], gasifier_rate=gasifier, temp=df['air_temperature'][i])\n",
        "  Energy_prod_N += Energy_served\n",
        "  gasifier_energy+=gasifier_ene\n",
        "  \n",
        "  if round(gasifier_ene, 2)>0:\n",
        "    # print(gasifier_ene)\n",
        "    # print(i)\n",
        "    \n",
        "\n",
        "    gasifier_up_hr+=1\n",
        "\n",
        "  deficit_array.append(df['deficit_energy'][i])\n",
        "  solar_array.append(solar_ene)\n",
        "  gasifier_array.append(gasifier_ene)\n",
        "  battery_supply_array.append(battery_supply)\n",
        "  battery_array.append(battery_E)\n",
        "  total_supply.append(battery_supply+gasifier_ene+solar_ene)\n",
        "print(gasifier_up_hr)\n",
        "print(gasifier_energy)\n",
        "asc, lcoe = LCOE(Energy_prod_N, solar, gasifier, battery)\n",
        "print(asc, lcoe)"
      ]
    },
    {
      "cell_type": "code",
      "execution_count": 328,
      "metadata": {},
      "outputs": [
        {
          "data": {
            "text/plain": [
              "232895515.4184573"
            ]
          },
          "execution_count": 328,
          "metadata": {},
          "output_type": "execute_result"
        }
      ],
      "source": [
        "640462667.4007576/2.75\n"
      ]
    },
    {
      "cell_type": "code",
      "execution_count": 277,
      "metadata": {
        "colab": {
          "base_uri": "https://localhost:8080/",
          "height": 482
        },
        "id": "kmno2eoNZOIQ",
        "outputId": "158d20a4-e4c2-448e-cc36-554bba76569b"
      },
      "outputs": [
        {
          "data": {
            "text/plain": [
              "<matplotlib.legend.Legend at 0x2d578c8f150>"
            ]
          },
          "execution_count": 277,
          "metadata": {},
          "output_type": "execute_result"
        },
        {
          "data": {
            "image/png": "[encoded data removed]",
            "text/plain": [
              "<Figure size 640x480 with 1 Axes>"
            ]
          },
          "metadata": {},
          "output_type": "display_data"
        }
      ],
      "source": [
        "'''\n",
        "Viewing the operation of the optimized hybrid energy system.\n",
        "'''\n",
        "i = 0 # start hour\n",
        "j = 8760 # end hour\n",
        "x = np.arange(i,j)\n",
        "plt.plot(x,solar_array[i:j], label='solar')\n",
        "plt.plot(x,gasifier_array[i:j], label='gasifier')\n",
        "# plt.plot(x,battery_array[i:j], label = 'battery-SOC')\n",
        "# plt.plot(x,battery_supply_array[i:j], label = 'battery')\n",
        "# plt.plot(x,-np.array(deficit_array[i:j]), label = 'deficit')\n",
        "# plt.plot(x,-np.array(deficit_array[i:j]), label = 'deficit/surplus')\n",
        "# plt.plot(x,np.array(deficit_array[i:j]), label = 'surplus')\n",
        "plt.xlabel(\"hour\")\n",
        "plt.ylabel(\"KW\")\n",
        "# plt.plot(x,total_supply[i:j], label = 'total')\n",
        "plt.grid()\n",
        "plt.legend(loc='upper right',bbox_to_anchor=(1.2,0.5))"
      ]
    },
    {
      "cell_type": "code",
      "execution_count": null,
      "metadata": {
        "id": "S340Xe6b9Rgg"
      },
      "outputs": [],
      "source": []
    }
  ],
  "metadata": {
    "colab": {
      "include_colab_link": true,
      "provenance": []
    },
    "kernelspec": {
      "display_name": "Python 3",
      "name": "python3"
    },
    "language_info": {
      "codemirror_mode": {
        "name": "ipython",
        "version": 3
      },
      "file_extension": ".py",
      "mimetype": "text/x-python",
      "name": "python",
      "nbconvert_exporter": "python",
      "pygments_lexer": "ipython3",
      "version": "3.11.5"
    }
  },
  "nbformat": 4,
  "nbformat_minor": 0
}
