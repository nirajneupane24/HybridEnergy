{
  "cells": [
    {
      "cell_type": "markdown",
      "metadata": {
        "id": "view-in-github",
        "colab_type": "text"
      },
      "source": [
        "<a href=\"https://colab.research.google.com/github/phantom-balance/HybridEnergy/blob/master/Copy_of_Solar_Battery_gasifier.ipynb\" target=\"_parent\"><img src=\"https://colab.research.google.com/assets/colab-badge.svg\" alt=\"Open In Colab\"/></a>"
      ]
    },
    {
      "cell_type": "markdown",
      "metadata": {
        "id": "88mpm4EIHOGZ"
      },
      "source": [
        "#NEW"
      ]
    },
    {
      "cell_type": "code",
      "execution_count": null,
      "metadata": {
        "id": "iaCfZRu8HQQg"
      },
      "outputs": [],
      "source": [
        "# pymoo used for optimization\n",
        "from IPython.display import clear_output\n",
        "!pip install pymoo\n",
        "clear_output()"
      ]
    },
    {
      "cell_type": "code",
      "execution_count": null,
      "metadata": {
        "id": "KbwWxfbEI2nv"
      },
      "outputs": [],
      "source": [
        "# import necessary libraries\n",
        "import pandas as pd\n",
        "import numpy as np\n",
        "import matplotlib.pyplot as plt\n",
        "import pymoo\n",
        "from pymoo.optimize import minimize\n",
        "from pymoo.core.problem import Problem"
      ]
    },
    {
      "cell_type": "code",
      "execution_count": null,
      "metadata": {
        "id": "Rlmkk5RxJGgA"
      },
      "outputs": [],
      "source": [
        "# reading the hourly energy csv file \"contains hourly data for deficits, solar radiation and ambient air temperature(Jumla)\"\n",
        "df = pd.read_csv('HOURLY_DATA_new.csv')\n",
        "df = df[0:24*365*20]\n",
        "'''\n",
        "     csv file has deficit energy in MWh, solar radiation(ghi) in W/m2, air temperature in celcius.\n",
        "    We perform the analysis in terms of KW.\n",
        "'''\n",
        "df['deficit_energy']=df['deficit_energy']*1000\n",
        "df['deficit_energy'] = df['deficit_energy'].apply(lambda x: round(x, 6))\n",
        "df['ghi']=df['ghi']/1000"
      ]
    },
    {
      "cell_type": "code",
      "source": [
        "len(df)"
      ],
      "metadata": {
        "id": "IHbtl1hO293S",
        "outputId": "3e4ecf2b-d5db-44a8-8a01-f9aefc4dff2d",
        "colab": {
          "base_uri": "https://localhost:8080/"
        }
      },
      "execution_count": null,
      "outputs": [
        {
          "output_type": "execute_result",
          "data": {
            "text/plain": [
              "175200"
            ]
          },
          "metadata": {},
          "execution_count": 199
        }
      ]
    },
    {
      "cell_type": "code",
      "execution_count": null,
      "metadata": {
        "colab": {
          "base_uri": "https://localhost:8080/",
          "height": 300
        },
        "id": "vRjcjr13LI3F",
        "outputId": "11103914-019e-446f-9e9c-9dde5a976957"
      },
      "outputs": [
        {
          "output_type": "execute_result",
          "data": {
            "text/plain": [
              "          Unnamed: 0            ghi  air_temperature  deficit_energy\n",
              "count  175200.000000  175200.000000    175200.000000    1.752000e+05\n",
              "mean    87599.500000       0.218271        11.596737    2.231777e+05\n",
              "std     50576.027918       0.311458         8.223488    4.916429e+05\n",
              "min         0.000000       0.000000        -8.630000   -1.302164e+06\n",
              "25%     43799.750000       0.000000         4.888750   -1.347972e+05\n",
              "50%     87599.500000       0.005384        12.802500    1.807045e+05\n",
              "75%    131399.250000       0.403645        17.676667    5.130801e+05\n",
              "max    175199.000000       1.147850        29.931667    2.084551e+06"
            ],
            "text/html": [
              "\n",
              "  <div id=\"df-4aa594e3-fc58-4961-9231-9f979b420679\" class=\"colab-df-container\">\n",
              "    <div>\n",
              "<style scoped>\n",
              "    .dataframe tbody tr th:only-of-type {\n",
              "        vertical-align: middle;\n",
              "    }\n",
              "\n",
              "    .dataframe tbody tr th {\n",
              "        vertical-align: top;\n",
              "    }\n",
              "\n",
              "    .dataframe thead th {\n",
              "        text-align: right;\n",
              "    }\n",
              "</style>\n",
              "<table border=\"1\" class=\"dataframe\">\n",
              "  <thead>\n",
              "    <tr style=\"text-align: right;\">\n",
              "      <th></th>\n",
              "      <th>Unnamed: 0</th>\n",
              "      <th>ghi</th>\n",
              "      <th>air_temperature</th>\n",
              "      <th>deficit_energy</th>\n",
              "    </tr>\n",
              "  </thead>\n",
              "  <tbody>\n",
              "    <tr>\n",
              "      <th>count</th>\n",
              "      <td>175200.000000</td>\n",
              "      <td>175200.000000</td>\n",
              "      <td>175200.000000</td>\n",
              "      <td>1.752000e+05</td>\n",
              "    </tr>\n",
              "    <tr>\n",
              "      <th>mean</th>\n",
              "      <td>87599.500000</td>\n",
              "      <td>0.218271</td>\n",
              "      <td>11.596737</td>\n",
              "      <td>2.231777e+05</td>\n",
              "    </tr>\n",
              "    <tr>\n",
              "      <th>std</th>\n",
              "      <td>50576.027918</td>\n",
              "      <td>0.311458</td>\n",
              "      <td>8.223488</td>\n",
              "      <td>4.916429e+05</td>\n",
              "    </tr>\n",
              "    <tr>\n",
              "      <th>min</th>\n",
              "      <td>0.000000</td>\n",
              "      <td>0.000000</td>\n",
              "      <td>-8.630000</td>\n",
              "      <td>-1.302164e+06</td>\n",
              "    </tr>\n",
              "    <tr>\n",
              "      <th>25%</th>\n",
              "      <td>43799.750000</td>\n",
              "      <td>0.000000</td>\n",
              "      <td>4.888750</td>\n",
              "      <td>-1.347972e+05</td>\n",
              "    </tr>\n",
              "    <tr>\n",
              "      <th>50%</th>\n",
              "      <td>87599.500000</td>\n",
              "      <td>0.005384</td>\n",
              "      <td>12.802500</td>\n",
              "      <td>1.807045e+05</td>\n",
              "    </tr>\n",
              "    <tr>\n",
              "      <th>75%</th>\n",
              "      <td>131399.250000</td>\n",
              "      <td>0.403645</td>\n",
              "      <td>17.676667</td>\n",
              "      <td>5.130801e+05</td>\n",
              "    </tr>\n",
              "    <tr>\n",
              "      <th>max</th>\n",
              "      <td>175199.000000</td>\n",
              "      <td>1.147850</td>\n",
              "      <td>29.931667</td>\n",
              "      <td>2.084551e+06</td>\n",
              "    </tr>\n",
              "  </tbody>\n",
              "</table>\n",
              "</div>\n",
              "    <div class=\"colab-df-buttons\">\n",
              "\n",
              "  <div class=\"colab-df-container\">\n",
              "    <button class=\"colab-df-convert\" onclick=\"convertToInteractive('df-4aa594e3-fc58-4961-9231-9f979b420679')\"\n",
              "            title=\"Convert this dataframe to an interactive table.\"\n",
              "            style=\"display:none;\">\n",
              "\n",
              "  <svg xmlns=\"http://www.w3.org/2000/svg\" height=\"24px\" viewBox=\"0 -960 960 960\">\n",
              "    <path d=\"M120-120v-720h720v720H120Zm60-500h600v-160H180v160Zm220 220h160v-160H400v160Zm0 220h160v-160H400v160ZM180-400h160v-160H180v160Zm440 0h160v-160H620v160ZM180-180h160v-160H180v160Zm440 0h160v-160H620v160Z\"/>\n",
              "  </svg>\n",
              "    </button>\n",
              "\n",
              "  <style>\n",
              "    .colab-df-container {\n",
              "      display:flex;\n",
              "      gap: 12px;\n",
              "    }\n",
              "\n",
              "    .colab-df-convert {\n",
              "      background-color: #E8F0FE;\n",
              "      border: none;\n",
              "      border-radius: 50%;\n",
              "      cursor: pointer;\n",
              "      display: none;\n",
              "      fill: #1967D2;\n",
              "      height: 32px;\n",
              "      padding: 0 0 0 0;\n",
              "      width: 32px;\n",
              "    }\n",
              "\n",
              "    .colab-df-convert:hover {\n",
              "      background-color: #E2EBFA;\n",
              "      box-shadow: 0px 1px 2px rgba(60, 64, 67, 0.3), 0px 1px 3px 1px rgba(60, 64, 67, 0.15);\n",
              "      fill: #174EA6;\n",
              "    }\n",
              "\n",
              "    .colab-df-buttons div {\n",
              "      margin-bottom: 4px;\n",
              "    }\n",
              "\n",
              "    [theme=dark] .colab-df-convert {\n",
              "      background-color: #3B4455;\n",
              "      fill: #D2E3FC;\n",
              "    }\n",
              "\n",
              "    [theme=dark] .colab-df-convert:hover {\n",
              "      background-color: #434B5C;\n",
              "      box-shadow: 0px 1px 3px 1px rgba(0, 0, 0, 0.15);\n",
              "      filter: drop-shadow(0px 1px 2px rgba(0, 0, 0, 0.3));\n",
              "      fill: #FFFFFF;\n",
              "    }\n",
              "  </style>\n",
              "\n",
              "    <script>\n",
              "      const buttonEl =\n",
              "        document.querySelector('#df-4aa594e3-fc58-4961-9231-9f979b420679 button.colab-df-convert');\n",
              "      buttonEl.style.display =\n",
              "        google.colab.kernel.accessAllowed ? 'block' : 'none';\n",
              "\n",
              "      async function convertToInteractive(key) {\n",
              "        const element = document.querySelector('#df-4aa594e3-fc58-4961-9231-9f979b420679');\n",
              "        const dataTable =\n",
              "          await google.colab.kernel.invokeFunction('convertToInteractive',\n",
              "                                                    [key], {});\n",
              "        if (!dataTable) return;\n",
              "\n",
              "        const docLinkHtml = 'Like what you see? Visit the ' +\n",
              "          '<a target=\"_blank\" href=https://colab.research.google.com/notebooks/data_table.ipynb>data table notebook</a>'\n",
              "          + ' to learn more about interactive tables.';\n",
              "        element.innerHTML = '';\n",
              "        dataTable['output_type'] = 'display_data';\n",
              "        await google.colab.output.renderOutput(dataTable, element);\n",
              "        const docLink = document.createElement('div');\n",
              "        docLink.innerHTML = docLinkHtml;\n",
              "        element.appendChild(docLink);\n",
              "      }\n",
              "    </script>\n",
              "  </div>\n",
              "\n",
              "\n",
              "<div id=\"df-48b5be82-4db0-4410-885f-fcb28fc3d4d6\">\n",
              "  <button class=\"colab-df-quickchart\" onclick=\"quickchart('df-48b5be82-4db0-4410-885f-fcb28fc3d4d6')\"\n",
              "            title=\"Suggest charts\"\n",
              "            style=\"display:none;\">\n",
              "\n",
              "<svg xmlns=\"http://www.w3.org/2000/svg\" height=\"24px\"viewBox=\"0 0 24 24\"\n",
              "     width=\"24px\">\n",
              "    <g>\n",
              "        <path d=\"M19 3H5c-1.1 0-2 .9-2 2v14c0 1.1.9 2 2 2h14c1.1 0 2-.9 2-2V5c0-1.1-.9-2-2-2zM9 17H7v-7h2v7zm4 0h-2V7h2v10zm4 0h-2v-4h2v4z\"/>\n",
              "    </g>\n",
              "</svg>\n",
              "  </button>\n",
              "\n",
              "<style>\n",
              "  .colab-df-quickchart {\n",
              "      --bg-color: #E8F0FE;\n",
              "      --fill-color: #1967D2;\n",
              "      --hover-bg-color: #E2EBFA;\n",
              "      --hover-fill-color: #174EA6;\n",
              "      --disabled-fill-color: #AAA;\n",
              "      --disabled-bg-color: #DDD;\n",
              "  }\n",
              "\n",
              "  [theme=dark] .colab-df-quickchart {\n",
              "      --bg-color: #3B4455;\n",
              "      --fill-color: #D2E3FC;\n",
              "      --hover-bg-color: #434B5C;\n",
              "      --hover-fill-color: #FFFFFF;\n",
              "      --disabled-bg-color: #3B4455;\n",
              "      --disabled-fill-color: #666;\n",
              "  }\n",
              "\n",
              "  .colab-df-quickchart {\n",
              "    background-color: var(--bg-color);\n",
              "    border: none;\n",
              "    border-radius: 50%;\n",
              "    cursor: pointer;\n",
              "    display: none;\n",
              "    fill: var(--fill-color);\n",
              "    height: 32px;\n",
              "    padding: 0;\n",
              "    width: 32px;\n",
              "  }\n",
              "\n",
              "  .colab-df-quickchart:hover {\n",
              "    background-color: var(--hover-bg-color);\n",
              "    box-shadow: 0 1px 2px rgba(60, 64, 67, 0.3), 0 1px 3px 1px rgba(60, 64, 67, 0.15);\n",
              "    fill: var(--button-hover-fill-color);\n",
              "  }\n",
              "\n",
              "  .colab-df-quickchart-complete:disabled,\n",
              "  .colab-df-quickchart-complete:disabled:hover {\n",
              "    background-color: var(--disabled-bg-color);\n",
              "    fill: var(--disabled-fill-color);\n",
              "    box-shadow: none;\n",
              "  }\n",
              "\n",
              "  .colab-df-spinner {\n",
              "    border: 2px solid var(--fill-color);\n",
              "    border-color: transparent;\n",
              "    border-bottom-color: var(--fill-color);\n",
              "    animation:\n",
              "      spin 1s steps(1) infinite;\n",
              "  }\n",
              "\n",
              "  @keyframes spin {\n",
              "    0% {\n",
              "      border-color: transparent;\n",
              "      border-bottom-color: var(--fill-color);\n",
              "      border-left-color: var(--fill-color);\n",
              "    }\n",
              "    20% {\n",
              "      border-color: transparent;\n",
              "      border-left-color: var(--fill-color);\n",
              "      border-top-color: var(--fill-color);\n",
              "    }\n",
              "    30% {\n",
              "      border-color: transparent;\n",
              "      border-left-color: var(--fill-color);\n",
              "      border-top-color: var(--fill-color);\n",
              "      border-right-color: var(--fill-color);\n",
              "    }\n",
              "    40% {\n",
              "      border-color: transparent;\n",
              "      border-right-color: var(--fill-color);\n",
              "      border-top-color: var(--fill-color);\n",
              "    }\n",
              "    60% {\n",
              "      border-color: transparent;\n",
              "      border-right-color: var(--fill-color);\n",
              "    }\n",
              "    80% {\n",
              "      border-color: transparent;\n",
              "      border-right-color: var(--fill-color);\n",
              "      border-bottom-color: var(--fill-color);\n",
              "    }\n",
              "    90% {\n",
              "      border-color: transparent;\n",
              "      border-bottom-color: var(--fill-color);\n",
              "    }\n",
              "  }\n",
              "</style>\n",
              "\n",
              "  <script>\n",
              "    async function quickchart(key) {\n",
              "      const quickchartButtonEl =\n",
              "        document.querySelector('#' + key + ' button');\n",
              "      quickchartButtonEl.disabled = true;  // To prevent multiple clicks.\n",
              "      quickchartButtonEl.classList.add('colab-df-spinner');\n",
              "      try {\n",
              "        const charts = await google.colab.kernel.invokeFunction(\n",
              "            'suggestCharts', [key], {});\n",
              "      } catch (error) {\n",
              "        console.error('Error during call to suggestCharts:', error);\n",
              "      }\n",
              "      quickchartButtonEl.classList.remove('colab-df-spinner');\n",
              "      quickchartButtonEl.classList.add('colab-df-quickchart-complete');\n",
              "    }\n",
              "    (() => {\n",
              "      let quickchartButtonEl =\n",
              "        document.querySelector('#df-48b5be82-4db0-4410-885f-fcb28fc3d4d6 button');\n",
              "      quickchartButtonEl.style.display =\n",
              "        google.colab.kernel.accessAllowed ? 'block' : 'none';\n",
              "    })();\n",
              "  </script>\n",
              "</div>\n",
              "\n",
              "    </div>\n",
              "  </div>\n"
            ],
            "application/vnd.google.colaboratory.intrinsic+json": {
              "type": "dataframe",
              "summary": "{\n  \"name\": \"df\",\n  \"rows\": 8,\n  \"fields\": [\n    {\n      \"column\": \"Unnamed: 0\",\n      \"properties\": {\n        \"dtype\": \"number\",\n        \"std\": 63142.70868066814,\n        \"min\": 0.0,\n        \"max\": 175200.0,\n        \"num_unique_values\": 7,\n        \"samples\": [\n          175200.0,\n          87599.5,\n          131399.25\n        ],\n        \"semantic_type\": \"\",\n        \"description\": \"\"\n      }\n    },\n    {\n      \"column\": \"ghi\",\n      \"properties\": {\n        \"dtype\": \"number\",\n        \"std\": 61942.44864349677,\n        \"min\": 0.0,\n        \"max\": 175200.0,\n        \"num_unique_values\": 7,\n        \"samples\": [\n          175200.0,\n          0.21827050722983257,\n          0.4036445833333333\n        ],\n        \"semantic_type\": \"\",\n        \"description\": \"\"\n      }\n    },\n    {\n      \"column\": \"air_temperature\",\n      \"properties\": {\n        \"dtype\": \"number\",\n        \"std\": 61938.69167836098,\n        \"min\": -8.629999999999999,\n        \"max\": 175200.0,\n        \"num_unique_values\": 8,\n        \"samples\": [\n          11.59673725266362,\n          12.8025,\n          175200.0\n        ],\n        \"semantic_type\": \"\",\n        \"description\": \"\"\n      }\n    },\n    {\n      \"column\": \"deficit_energy\",\n      \"properties\": {\n        \"dtype\": \"number\",\n        \"std\": 930044.9262968524,\n        \"min\": -1302163.686601,\n        \"max\": 2084551.234128,\n        \"num_unique_values\": 8,\n        \"samples\": [\n          223177.67374249792,\n          180704.466737,\n          175200.0\n        ],\n        \"semantic_type\": \"\",\n        \"description\": \"\"\n      }\n    }\n  ]\n}"
            }
          },
          "metadata": {},
          "execution_count": 200
        }
      ],
      "source": [
        "df.describe()"
      ]
    },
    {
      "cell_type": "code",
      "execution_count": null,
      "metadata": {
        "colab": {
          "base_uri": "https://localhost:8080/"
        },
        "id": "cQXVkSLIcC9n",
        "outputId": "959e5896-2cbe-4453-af00-3787258a593b"
      },
      "outputs": [
        {
          "output_type": "execute_result",
          "data": {
            "text/plain": [
              "39100728439.68564"
            ]
          },
          "metadata": {},
          "execution_count": 201
        }
      ],
      "source": [
        "df['deficit_energy'].sum()"
      ]
    },
    {
      "cell_type": "code",
      "execution_count": null,
      "metadata": {
        "id": "C8NkzT04KT4S"
      },
      "outputs": [],
      "source": [
        "'''\n",
        "    All the necessary constants required for modeling.\n",
        "'''\n",
        "N = 20 # project_life\n",
        "i = 0.06 # interest_rate\n",
        "\n",
        "#chabom\n",
        "solar_cost_unit = 727 # usd/kW(capex)\n",
        "solar_OM = 4 # usd/kW.year(opex)\n",
        "\n",
        "CRF = (i*((1+i)**N))/(((1+i)**N)-1) # capital recovery factor\n",
        "d_f = 0.88 #derating_factor\n",
        "Gt_stc = 1 #kw/m2\n",
        "ap = -0.0035 #solar mod temp coeff of power(%/oC)\n",
        "T_cstc = 25 #oC standard temp\n",
        "NOCT = 45 #oC\n",
        "n_bat = 0.92 #round trip efficieny\n",
        "\n",
        "gasifier_cost_unit = 2300 # usd/kW(capex)\n",
        "gasifier_OM = 2 # usd/kW.year(opex)\n",
        "gasifier_CUF = 0.55 # capacity utilization factor\n",
        "\n",
        "battery_cost_unit = 145 # usd/kW(capex)\n",
        "battery_OM_per = 1.5 # 1.5% of capex annuity(opex)\n",
        "\n",
        "inv_cost_unit = 300 # usd/kW(capex)\n",
        "inv_OM = 1 # usd/kW.year(opex)\n",
        "inv_cap = np.array(solar_ene_array).max()"
      ]
    },
    {
      "cell_type": "code",
      "execution_count": null,
      "metadata": {
        "id": "i7ghEDS5NH1S"
      },
      "outputs": [],
      "source": [
        "'''\n",
        "    Calculating the Annualized system cost(ASC) and the levelised cost of energy(LCOE)\n",
        "'''\n",
        "def cost_inv(inv):\n",
        "  inv_cost = inv*((CRF*inv_cost_unit)+inv_OM)\n",
        "  return inv_cost\n",
        "\n",
        "def cost_pv(solar):\n",
        "  solar_cost = solar*((CRF*solar_cost_unit)+solar_OM)\n",
        "  return solar_cost\n",
        "\n",
        "def cost_gasifier(gasifier):\n",
        "  gasifier_cost = gasifier*((CRF*gasifier_cost_unit)+gasifier_OM)\n",
        "  return gasifier_cost\n",
        "\n",
        "def cost_battery(battery):\n",
        "  battery_cap = battery*battery_cost_unit\n",
        "  battery_op = battery_cap*CRF*battery_OM_per/100\n",
        "  battery_cost = battery_cap*CRF+battery_op\n",
        "  return battery_cost\n",
        "\n",
        "def LCOE(total_energy_prod, solar, gasifier, battery):\n",
        "  ASC = cost_pv(solar)+cost_gasifier(gasifier)+cost_battery(battery)#+cost_inv(inv_cap)\n",
        "  energy_prod_per_year = total_energy_prod/N\n",
        "  lcoe = ASC/(energy_prod_per_year)\n",
        "  return ASC, lcoe"
      ]
    },
    {
      "cell_type": "code",
      "execution_count": null,
      "metadata": {
        "id": "6jcJHrh3OkjJ"
      },
      "outputs": [],
      "source": [
        "'''\n",
        "    Calculating the energy produced by the solar panel and gasifier.\n",
        "'''\n",
        "def solar_ene_prod(solar_rate, solar_rad, temp):\n",
        "  T_cell = temp+Gt_stc*((NOCT-20)/0.8)\n",
        "  p_op = solar_rate*d_f*(solar_rad/Gt_stc)*(1+ap*(T_cell-T_cstc))\n",
        "  return p_op\n",
        "\n",
        "def gasifier_ene_prod(gasifier_rate):\n",
        "  return gasifier_rate*gasifier_CUF"
      ]
    },
    {
      "cell_type": "code",
      "execution_count": null,
      "metadata": {
        "id": "xEYLfwTHOzbk"
      },
      "outputs": [],
      "source": [
        "'''\n",
        "    Hybrid Energy system operational strategy\n",
        "'''\n",
        "def Energy_prod_(energy_def, battery_E, battery_max, solar_rate, solar_rad, gasifier_rate, temp):\n",
        "  energy_def=-energy_def\n",
        "  energy_prod = 0\n",
        "  energy_served = 0\n",
        "  solar_energy = 0\n",
        "  gasifier_energy = 0\n",
        "  battery_E_up = battery_E\n",
        "  battery_supply = 0\n",
        "  solar_energy = solar_ene_prod(solar_rate, solar_rad, temp)\n",
        "\n",
        "  if energy_def>0:\n",
        "    '''\n",
        "    Energy deficit strategy\n",
        "    '''\n",
        "    if solar_energy-energy_def<0:\n",
        "      '''\n",
        "      Solar cannot fulfill the energy deficit.\n",
        "      Run battery and gasifier.\n",
        "      '''\n",
        "      # req_energy needs to be addressed by gasifier and battery\n",
        "      req_energy = energy_def-solar_energy\n",
        "      energy_served+=solar_energy\n",
        "\n",
        "      if battery_E>battery_max*0.3:\n",
        "        if req_energy<=(battery_E-battery_max*0.3):\n",
        "          '''\n",
        "          req_energy met by only battery\n",
        "          '''\n",
        "          battery_supply = req_energy\n",
        "          battery_E_up = battery_E-req_energy\n",
        "          energy_served+=battery_supply\n",
        "\n",
        "        else:\n",
        "          '''\n",
        "          req_energy met by battery and gasifier\n",
        "          '''\n",
        "          gasifier_E_req = req_energy-(battery_E-battery_max*0.3)\n",
        "          battery_supply = battery_E-0.3*battery_max\n",
        "          energy_served+=battery_supply\n",
        "          battery_E_up = 0.3*battery_max\n",
        "          gasifier_energy_op = gasifier_ene_prod(gasifier_rate)\n",
        "\n",
        "          if gasifier_energy_op>gasifier_E_req:\n",
        "            gasifier_energy = gasifier_E_req\n",
        "            energy_served+=gasifier_energy\n",
        "\n",
        "          else:\n",
        "            pass\n",
        "            '''\n",
        "            Hybrid energy system cannot fulfill the energy deficit.\n",
        "            New hybrid combination required.\n",
        "            '''\n",
        "            # print(\"# THE CURRENT SYSTEM RATING ISN'T ABLE TO FULLFIL THE DEFECIT, NEW HYBRID COMBINATION REQUIRED\")\n",
        "\n",
        "      else:\n",
        "        '''\n",
        "        req_energy met only by gasifier\n",
        "        '''\n",
        "        gasifier_energy_op = gasifier_ene_prod(gasifier_rate)\n",
        "\n",
        "        if req_energy<gasifier_energy_op:\n",
        "          gasifier_energy = req_energy\n",
        "          energy_served+=gasifier_energy\n",
        "        else:\n",
        "          pass\n",
        "          '''\n",
        "          Hybrid energy system cannot fulfill the energy deficit.\n",
        "          New hybrid combination required.\n",
        "          '''\n",
        "          # print(\"THE CURRENT SYSTEM RATING ISN'T ABLE TO FULLFIL THE DEFECIT, NEW HYBRID COMBINATION REQUIRED\")\n",
        "\n",
        "    else:\n",
        "      '''\n",
        "      Solar can fulfill the energy deficit.\n",
        "      Extra energy from the solar panel is used to charge the battery.\n",
        "      '''\n",
        "      energy_served+=energy_def # solar panel served the entire deficit energy\n",
        "      Pch_t = solar_energy-energy_def # extra energy from solar used for charging battery\n",
        "      Ech_t = Pch_t*n_bat\n",
        "\n",
        "      if Ech_t<=battery_max-battery_E:\n",
        "        #battery isn't fully charged\n",
        "        battery_E_up = battery_E+Ech_t\n",
        "\n",
        "      else:\n",
        "        #battery gets fully charged, E_dump is the remaining energy served to the grid\n",
        "        battery_E_up = battery_max\n",
        "        E_dump = Ech_t - (battery_max-battery_E)\n",
        "        energy_served+=(E_dump/n_bat)\n",
        "        Ech_t = battery_max-battery_E\n",
        "\n",
        "    energy_prod = solar_energy + gasifier_energy\n",
        "\n",
        "  else :\n",
        "    '''\n",
        "    Energy surplus strategy\n",
        "    '''\n",
        "    energy_prod=solar_energy+gasifier_energy\n",
        "    surplus_ene = abs(energy_def)\n",
        "\n",
        "    Pch_t = solar_energy\n",
        "    Ech_t = Pch_t*n_bat\n",
        "\n",
        "    if Ech_t<=battery_max-battery_E:\n",
        "      battery_E_up = battery_E+Ech_t\n",
        "\n",
        "    else:\n",
        "      battery_E_up = battery_max\n",
        "      E_dump = Ech_t - (battery_max-battery_E)\n",
        "      energy_served+=(E_dump/n_bat)\n",
        "      Ech_t = battery_max-battery_E\n",
        "\n",
        "  return energy_served, battery_supply, battery_E_up, solar_energy, gasifier_energy"
      ]
    },
    {
      "cell_type": "code",
      "execution_count": null,
      "metadata": {
        "id": "gSeOk1Y1UXlY"
      },
      "outputs": [],
      "source": [
        "'''\n",
        "    Optimization for minimizing the LCOE.\n",
        "'''\n",
        "class ProblemWrapper(Problem):\n",
        "  def _evaluate(self, designs, out, *args, **kwargs):\n",
        "    res = []\n",
        "    res1 =[]\n",
        "    for design in designs:\n",
        "\n",
        "      solar, gasifier, battery = design\n",
        "\n",
        "      count = 0\n",
        "      Energy_prod_N = 0 #total energy throughout the project life produced\n",
        "      battery_E = battery\n",
        "\n",
        "      for i in range(len(df)):\n",
        "        n_battery_E = battery_E\n",
        "        Energy_served,battery_supply, battery_E, _, _ = Energy_prod_(energy_def=df['deficit_energy'][i] ,battery_E=battery_E ,battery_max=battery, solar_rate=solar, solar_rad=df['ghi'][i], gasifier_rate=gasifier, temp=df['air_temperature'][i])\n",
        "        Energy_prod_N += Energy_served\n",
        "        energy_tot = df['deficit_energy'][i]+Energy_served\n",
        "        energy_tot = round(energy_tot, 4)\n",
        "\n",
        "        if energy_tot<0 and count!=1:\n",
        "          count = 1\n",
        "          break\n",
        "\n",
        "      asc, lcoe = LCOE(Energy_prod_N, solar, gasifier, battery)\n",
        "      res.append(lcoe)\n",
        "      res1.append(count)\n",
        "    out['F']=np.array(res)\n",
        "    out['H']=np.array(res1)\n",
        "\n",
        "problem = ProblemWrapper(n_var=3, n_obj=1, n_eq_constr=1, xl=[0, 0, 0], xu=[7440937, 2360000, 7440937],vtype=int)"
      ]
    },
    {
      "cell_type": "code",
      "execution_count": null,
      "metadata": {
        "id": "p6uXTZcbVemk"
      },
      "outputs": [],
      "source": [
        "from pymoo.algorithms.soo.nonconvex.ga import GA\n",
        "from pymoo.operators.sampling.rnd import IntegerRandomSampling\n",
        "from pymoo.operators.crossover.sbx import SBX\n",
        "from pymoo.operators.mutation.pm import PM\n",
        "from pymoo.operators.repair.rounding import RoundingRepair\n",
        "algorithm = GA(pop_size=20,\n",
        "               sampling=IntegerRandomSampling(),\n",
        "               crossover=SBX(prob=0.95, eta=3.0, vtype=int, repair=RoundingRepair()),\n",
        "               mutation=PM(prob=0.1, eta=3.0, vtype=int, repair=RoundingRepair()),\n",
        "               eliminate_duplicate=True)\n",
        "stop_criteria = ('n_gen', 50)"
      ]
    },
    {
      "cell_type": "code",
      "execution_count": null,
      "metadata": {
        "colab": {
          "base_uri": "https://localhost:8080/"
        },
        "id": "x6ciiRrwV1Mp",
        "outputId": "50827ef9-bdeb-4260-9f74-48686bc35b50"
      },
      "outputs": [
        {
          "output_type": "stream",
          "name": "stdout",
          "text": [
            "=================================================================================\n",
            "n_gen  |  n_eval  |     cv_min    |     cv_avg    |     f_avg     |     f_min    \n",
            "=================================================================================\n",
            "     1 |       20 |  0.000000E+00 |  0.9499050000 |  0.0960233381 |  0.0960233381\n",
            "     2 |       40 |  0.000000E+00 |  0.8999100000 |  0.0928820218 |  0.0897407055\n",
            "     3 |       60 |  0.000000E+00 |  0.6999300000 |  0.0979544138 |  0.0897407055\n",
            "     4 |       80 |  0.000000E+00 |  0.3999600000 |  0.1004070864 |  0.0897407055\n"
          ]
        }
      ],
      "source": [
        "%%time\n",
        "results = minimize(problem=problem,\n",
        "                   algorithm=algorithm,\n",
        "                   termination=stop_criteria,\n",
        "                   verbose=True,\n",
        "                   seed=42,\n",
        "                   save_history=True)"
      ]
    },
    {
      "cell_type": "code",
      "source": [
        "'save the optimization results in the file'\n",
        "import pickle\n",
        "with open('pv-gas-bat_ga-res.pkl', 'wb') as file:\n",
        "    pickle.dump(results, file)"
      ],
      "metadata": {
        "id": "Sx4yhORt1EfT"
      },
      "execution_count": null,
      "outputs": []
    },
    {
      "cell_type": "markdown",
      "source": [
        "# POST OPTIMIZATION"
      ],
      "metadata": {
        "id": "LzCYf1Ti1fV_"
      }
    },
    {
      "cell_type": "code",
      "source": [
        "with open('pv-gas-bat_ga-res.pkl', 'rb') as file:\n",
        "    results = pickle.load(file)"
      ],
      "metadata": {
        "id": "k9Kq7fZa1GzH"
      },
      "execution_count": null,
      "outputs": []
    },
    {
      "cell_type": "code",
      "source": [
        "'''\n",
        "Optimized results for SOO.\n",
        "'''\n",
        "solar, gasifier, battery = results.X\n",
        "print(f\"Solar:{solar}KW, Gasifier: {gasifier}KW, Battery: {battery}KWh || LCOE: {results.F}USD/KWh\")"
      ],
      "metadata": {
        "id": "hUIXnB0t4x_E",
        "outputId": "bc71d9cf-a9f7-4880-c2e0-e3588a1fa064",
        "colab": {
          "base_uri": "https://localhost:8080/"
        }
      },
      "execution_count": null,
      "outputs": [
        {
          "output_type": "stream",
          "name": "stdout",
          "text": [
            "Solar:7440824KW, Gasifier: 1877718KW, Battery: 5569543KWh || LCOE: [24.8233434]USD/KWh\n"
          ]
        }
      ]
    },
    {
      "cell_type": "code",
      "source": [
        "# asc pie chart\n",
        "solar_asc = cost_pv(solar)\n",
        "gasifier_asc = cost_gasifier(gasifier)\n",
        "battery_asc = cost_battery(battery)\n",
        "inv_asc = cost_inv(inv_cap)"
      ],
      "metadata": {
        "id": "neUkUZit5O_8"
      },
      "execution_count": null,
      "outputs": []
    },
    {
      "cell_type": "code",
      "source": [
        "# prompt: make a pie chart with hole in the midlle for showing the component cost from above data\n",
        "\n",
        "# Data for the pie chart\n",
        "labels = ['Solar', 'Gasifier', 'Battery', 'Inverter']\n",
        "sizes = [solar_asc, gasifier_asc, battery_asc, inv_asc]\n",
        "colors = ['gold', 'lightskyblue', 'lightcoral', 'red']\n",
        "\n",
        "# Create the pie chart with a hole in the middle\n",
        "fig, ax = plt.subplots()\n",
        "ax.pie(sizes, labels=labels, colors=colors, autopct='%1.1f%%', startangle=90, pctdistance=0.85)\n",
        "\n",
        "# Draw a circle in the middle to create the donut effect\n",
        "centre_circle = plt.Circle((0, 0), 0.70, fc='white')\n",
        "fig = plt.gcf()\n",
        "fig.gca().add_artist(centre_circle)\n",
        "\n",
        "# Equal aspect ratio ensures that pie is drawn as a circle\n",
        "ax.axis('equal')\n",
        "plt.title('Annualized System Cost Components')\n",
        "plt.tight_layout()\n",
        "plt.show()"
      ],
      "metadata": {
        "id": "e5FLFU4m5d_U",
        "outputId": "1e6f35a3-43fc-40e2-ddcc-754f05b63930",
        "colab": {
          "base_uri": "https://localhost:8080/",
          "height": 487
        }
      },
      "execution_count": null,
      "outputs": [
        {
          "output_type": "display_data",
          "data": {
            "text/plain": [
              "<Figure size 640x480 with 1 Axes>"
            ],
            "image/png": "[encoded data removed]"
          },
          "metadata": {}
        }
      ]
    },
    {
      "cell_type": "code",
      "source": [
        "'''\n",
        "Viewing the operation of the optimized hybrid energy system.\n",
        "'''\n",
        "# solar, gasifier, battery = results.X\n",
        "solar, gasifier, battery = 7440824, 1877718, 5569543\n",
        "\n",
        "# Solar:3717620.230751795KW, Gasifier: 2209925.350228307KW, Battery: 4446649.505009017KWh || LCOE: [0.12784646]USD/KWh\n",
        "\n",
        "solar_array = []\n",
        "gasifier_array = []\n",
        "battery_array = []\n",
        "battery_supply_array = []\n",
        "deficit_array = []\n",
        "\n",
        "total_supply = []\n",
        "\n",
        "count = 0\n",
        "gasifier_up_hr = 0\n",
        "gasifier_energy_tot = 0\n",
        "battery_energy_tot = 0\n",
        "solar_energy_tot = 0\n",
        "Energy_prod_N = 0\n",
        "battery_E = battery\n",
        "solar_ene_array = []\n",
        "for i in range(len(df)):\n",
        "# for i in range(8760):\n",
        "\n",
        "  # Energy_produced = Energy_prod(solar_rate=solar, solar_rad=df['ghi'][i], gasifier_rate=gasifier, temp=df['air_temperature'][i])\n",
        "  Energy_served, battery_supply, battery_E, solar_ene, gasifier_ene = Energy_prod_(energy_def=df['deficit_energy'][i] ,battery_E=battery_E ,battery_max=battery, solar_rate=solar, solar_rad=df['ghi'][i], gasifier_rate=gasifier, temp=df['air_temperature'][i])\n",
        "  Energy_prod_N += Energy_served\n",
        "  gasifier_energy_tot+=gasifier_ene\n",
        "  battery_energy_tot+=battery_supply\n",
        "  solar_ene_served = Energy_served-gasifier_ene-battery_supply\n",
        "  solar_energy_tot+=solar_ene_served\n",
        "  solar_ene_array.append(solar_ene)\n",
        "\n",
        "\n",
        "  if round(gasifier_ene, 2)>0:\n",
        "    # print(gasifier_ene)\n",
        "    # print(i)\n",
        "\n",
        "\n",
        "    gasifier_up_hr+=1\n",
        "\n",
        "  deficit_array.append(df['deficit_energy'][i])\n",
        "  solar_array.append(solar_ene)\n",
        "  gasifier_array.append(gasifier_ene)\n",
        "  battery_supply_array.append(battery_supply)\n",
        "  battery_array.append(battery_E)\n",
        "  total_supply.append(battery_supply+gasifier_ene+solar_ene)\n",
        "print(gasifier_up_hr)\n",
        "print(gasifier_energy_tot)\n",
        "asc, lcoe = LCOE(Energy_prod_N, solar, gasifier, battery)\n",
        "print(asc, lcoe)"
      ],
      "metadata": {
        "id": "fFxdvgDE54Dx",
        "outputId": "0b60179c-7242-42b8-f6b0-04d300b9ea49",
        "colab": {
          "base_uri": "https://localhost:8080/"
        }
      },
      "execution_count": null,
      "outputs": [
        {
          "output_type": "stream",
          "name": "stdout",
          "text": [
            "5411\n",
            "1741340650.7232442\n",
            "1134158711.6337667 0.09844606358512539\n"
          ]
        }
      ]
    },
    {
      "cell_type": "code",
      "source": [
        "df"
      ],
      "metadata": {
        "id": "czC9tF4MQZ1c",
        "outputId": "218df62a-1b4e-48a3-970e-2b7c3f482148",
        "colab": {
          "base_uri": "https://localhost:8080/",
          "height": 423
        }
      },
      "execution_count": null,
      "outputs": [
        {
          "output_type": "execute_result",
          "data": {
            "text/plain": [
              "        Unnamed: 0                 time  ghi  air_temperature  deficit_energy\n",
              "0                0  2024-01-01 00:00:00  0.0        -1.171667   -1.574314e+05\n",
              "1                1  2024-01-01 01:00:00  0.0        -2.305000   -1.560858e+05\n",
              "2                2  2024-01-01 02:00:00  0.0        -2.963333   -1.554130e+05\n",
              "3                3  2024-01-01 03:00:00  0.0        -3.281667   -1.560858e+05\n",
              "4                4  2024-01-01 04:00:00  0.0        -3.698333   -1.655048e+05\n",
              "...            ...                  ...  ...              ...             ...\n",
              "175195      175195  2043-12-31 19:00:00  0.0        -0.078333    1.309289e+06\n",
              "175196      175196  2043-12-31 20:00:00  0.0        -1.063333    1.040090e+06\n",
              "175197      175197  2043-12-31 21:00:00  0.0        -1.611667    4.328608e+05\n",
              "175198      175198  2043-12-31 22:00:00  0.0        -2.110000    3.930927e+05\n",
              "175199      175199  2043-12-31 23:00:00  0.0        -2.605000    3.777973e+05\n",
              "\n",
              "[175200 rows x 5 columns]"
            ],
            "text/html": [
              "\n",
              "  <div id=\"df-4b59a07c-fc9b-4390-b896-1a7fb67eb991\" class=\"colab-df-container\">\n",
              "    <div>\n",
              "<style scoped>\n",
              "    .dataframe tbody tr th:only-of-type {\n",
              "        vertical-align: middle;\n",
              "    }\n",
              "\n",
              "    .dataframe tbody tr th {\n",
              "        vertical-align: top;\n",
              "    }\n",
              "\n",
              "    .dataframe thead th {\n",
              "        text-align: right;\n",
              "    }\n",
              "</style>\n",
              "<table border=\"1\" class=\"dataframe\">\n",
              "  <thead>\n",
              "    <tr style=\"text-align: right;\">\n",
              "      <th></th>\n",
              "      <th>Unnamed: 0</th>\n",
              "      <th>time</th>\n",
              "      <th>ghi</th>\n",
              "      <th>air_temperature</th>\n",
              "      <th>deficit_energy</th>\n",
              "    </tr>\n",
              "  </thead>\n",
              "  <tbody>\n",
              "    <tr>\n",
              "      <th>0</th>\n",
              "      <td>0</td>\n",
              "      <td>2024-01-01 00:00:00</td>\n",
              "      <td>0.0</td>\n",
              "      <td>-1.171667</td>\n",
              "      <td>-1.574314e+05</td>\n",
              "    </tr>\n",
              "    <tr>\n",
              "      <th>1</th>\n",
              "      <td>1</td>\n",
              "      <td>2024-01-01 01:00:00</td>\n",
              "      <td>0.0</td>\n",
              "      <td>-2.305000</td>\n",
              "      <td>-1.560858e+05</td>\n",
              "    </tr>\n",
              "    <tr>\n",
              "      <th>2</th>\n",
              "      <td>2</td>\n",
              "      <td>2024-01-01 02:00:00</td>\n",
              "      <td>0.0</td>\n",
              "      <td>-2.963333</td>\n",
              "      <td>-1.554130e+05</td>\n",
              "    </tr>\n",
              "    <tr>\n",
              "      <th>3</th>\n",
              "      <td>3</td>\n",
              "      <td>2024-01-01 03:00:00</td>\n",
              "      <td>0.0</td>\n",
              "      <td>-3.281667</td>\n",
              "      <td>-1.560858e+05</td>\n",
              "    </tr>\n",
              "    <tr>\n",
              "      <th>4</th>\n",
              "      <td>4</td>\n",
              "      <td>2024-01-01 04:00:00</td>\n",
              "      <td>0.0</td>\n",
              "      <td>-3.698333</td>\n",
              "      <td>-1.655048e+05</td>\n",
              "    </tr>\n",
              "    <tr>\n",
              "      <th>...</th>\n",
              "      <td>...</td>\n",
              "      <td>...</td>\n",
              "      <td>...</td>\n",
              "      <td>...</td>\n",
              "      <td>...</td>\n",
              "    </tr>\n",
              "    <tr>\n",
              "      <th>175195</th>\n",
              "      <td>175195</td>\n",
              "      <td>2043-12-31 19:00:00</td>\n",
              "      <td>0.0</td>\n",
              "      <td>-0.078333</td>\n",
              "      <td>1.309289e+06</td>\n",
              "    </tr>\n",
              "    <tr>\n",
              "      <th>175196</th>\n",
              "      <td>175196</td>\n",
              "      <td>2043-12-31 20:00:00</td>\n",
              "      <td>0.0</td>\n",
              "      <td>-1.063333</td>\n",
              "      <td>1.040090e+06</td>\n",
              "    </tr>\n",
              "    <tr>\n",
              "      <th>175197</th>\n",
              "      <td>175197</td>\n",
              "      <td>2043-12-31 21:00:00</td>\n",
              "      <td>0.0</td>\n",
              "      <td>-1.611667</td>\n",
              "      <td>4.328608e+05</td>\n",
              "    </tr>\n",
              "    <tr>\n",
              "      <th>175198</th>\n",
              "      <td>175198</td>\n",
              "      <td>2043-12-31 22:00:00</td>\n",
              "      <td>0.0</td>\n",
              "      <td>-2.110000</td>\n",
              "      <td>3.930927e+05</td>\n",
              "    </tr>\n",
              "    <tr>\n",
              "      <th>175199</th>\n",
              "      <td>175199</td>\n",
              "      <td>2043-12-31 23:00:00</td>\n",
              "      <td>0.0</td>\n",
              "      <td>-2.605000</td>\n",
              "      <td>3.777973e+05</td>\n",
              "    </tr>\n",
              "  </tbody>\n",
              "</table>\n",
              "<p>175200 rows × 5 columns</p>\n",
              "</div>\n",
              "    <div class=\"colab-df-buttons\">\n",
              "\n",
              "  <div class=\"colab-df-container\">\n",
              "    <button class=\"colab-df-convert\" onclick=\"convertToInteractive('df-4b59a07c-fc9b-4390-b896-1a7fb67eb991')\"\n",
              "            title=\"Convert this dataframe to an interactive table.\"\n",
              "            style=\"display:none;\">\n",
              "\n",
              "  <svg xmlns=\"http://www.w3.org/2000/svg\" height=\"24px\" viewBox=\"0 -960 960 960\">\n",
              "    <path d=\"M120-120v-720h720v720H120Zm60-500h600v-160H180v160Zm220 220h160v-160H400v160Zm0 220h160v-160H400v160ZM180-400h160v-160H180v160Zm440 0h160v-160H620v160ZM180-180h160v-160H180v160Zm440 0h160v-160H620v160Z\"/>\n",
              "  </svg>\n",
              "    </button>\n",
              "\n",
              "  <style>\n",
              "    .colab-df-container {\n",
              "      display:flex;\n",
              "      gap: 12px;\n",
              "    }\n",
              "\n",
              "    .colab-df-convert {\n",
              "      background-color: #E8F0FE;\n",
              "      border: none;\n",
              "      border-radius: 50%;\n",
              "      cursor: pointer;\n",
              "      display: none;\n",
              "      fill: #1967D2;\n",
              "      height: 32px;\n",
              "      padding: 0 0 0 0;\n",
              "      width: 32px;\n",
              "    }\n",
              "\n",
              "    .colab-df-convert:hover {\n",
              "      background-color: #E2EBFA;\n",
              "      box-shadow: 0px 1px 2px rgba(60, 64, 67, 0.3), 0px 1px 3px 1px rgba(60, 64, 67, 0.15);\n",
              "      fill: #174EA6;\n",
              "    }\n",
              "\n",
              "    .colab-df-buttons div {\n",
              "      margin-bottom: 4px;\n",
              "    }\n",
              "\n",
              "    [theme=dark] .colab-df-convert {\n",
              "      background-color: #3B4455;\n",
              "      fill: #D2E3FC;\n",
              "    }\n",
              "\n",
              "    [theme=dark] .colab-df-convert:hover {\n",
              "      background-color: #434B5C;\n",
              "      box-shadow: 0px 1px 3px 1px rgba(0, 0, 0, 0.15);\n",
              "      filter: drop-shadow(0px 1px 2px rgba(0, 0, 0, 0.3));\n",
              "      fill: #FFFFFF;\n",
              "    }\n",
              "  </style>\n",
              "\n",
              "    <script>\n",
              "      const buttonEl =\n",
              "        document.querySelector('#df-4b59a07c-fc9b-4390-b896-1a7fb67eb991 button.colab-df-convert');\n",
              "      buttonEl.style.display =\n",
              "        google.colab.kernel.accessAllowed ? 'block' : 'none';\n",
              "\n",
              "      async function convertToInteractive(key) {\n",
              "        const element = document.querySelector('#df-4b59a07c-fc9b-4390-b896-1a7fb67eb991');\n",
              "        const dataTable =\n",
              "          await google.colab.kernel.invokeFunction('convertToInteractive',\n",
              "                                                    [key], {});\n",
              "        if (!dataTable) return;\n",
              "\n",
              "        const docLinkHtml = 'Like what you see? Visit the ' +\n",
              "          '<a target=\"_blank\" href=https://colab.research.google.com/notebooks/data_table.ipynb>data table notebook</a>'\n",
              "          + ' to learn more about interactive tables.';\n",
              "        element.innerHTML = '';\n",
              "        dataTable['output_type'] = 'display_data';\n",
              "        await google.colab.output.renderOutput(dataTable, element);\n",
              "        const docLink = document.createElement('div');\n",
              "        docLink.innerHTML = docLinkHtml;\n",
              "        element.appendChild(docLink);\n",
              "      }\n",
              "    </script>\n",
              "  </div>\n",
              "\n",
              "\n",
              "<div id=\"df-f8917c54-610d-4759-843a-4d01331e721e\">\n",
              "  <button class=\"colab-df-quickchart\" onclick=\"quickchart('df-f8917c54-610d-4759-843a-4d01331e721e')\"\n",
              "            title=\"Suggest charts\"\n",
              "            style=\"display:none;\">\n",
              "\n",
              "<svg xmlns=\"http://www.w3.org/2000/svg\" height=\"24px\"viewBox=\"0 0 24 24\"\n",
              "     width=\"24px\">\n",
              "    <g>\n",
              "        <path d=\"M19 3H5c-1.1 0-2 .9-2 2v14c0 1.1.9 2 2 2h14c1.1 0 2-.9 2-2V5c0-1.1-.9-2-2-2zM9 17H7v-7h2v7zm4 0h-2V7h2v10zm4 0h-2v-4h2v4z\"/>\n",
              "    </g>\n",
              "</svg>\n",
              "  </button>\n",
              "\n",
              "<style>\n",
              "  .colab-df-quickchart {\n",
              "      --bg-color: #E8F0FE;\n",
              "      --fill-color: #1967D2;\n",
              "      --hover-bg-color: #E2EBFA;\n",
              "      --hover-fill-color: #174EA6;\n",
              "      --disabled-fill-color: #AAA;\n",
              "      --disabled-bg-color: #DDD;\n",
              "  }\n",
              "\n",
              "  [theme=dark] .colab-df-quickchart {\n",
              "      --bg-color: #3B4455;\n",
              "      --fill-color: #D2E3FC;\n",
              "      --hover-bg-color: #434B5C;\n",
              "      --hover-fill-color: #FFFFFF;\n",
              "      --disabled-bg-color: #3B4455;\n",
              "      --disabled-fill-color: #666;\n",
              "  }\n",
              "\n",
              "  .colab-df-quickchart {\n",
              "    background-color: var(--bg-color);\n",
              "    border: none;\n",
              "    border-radius: 50%;\n",
              "    cursor: pointer;\n",
              "    display: none;\n",
              "    fill: var(--fill-color);\n",
              "    height: 32px;\n",
              "    padding: 0;\n",
              "    width: 32px;\n",
              "  }\n",
              "\n",
              "  .colab-df-quickchart:hover {\n",
              "    background-color: var(--hover-bg-color);\n",
              "    box-shadow: 0 1px 2px rgba(60, 64, 67, 0.3), 0 1px 3px 1px rgba(60, 64, 67, 0.15);\n",
              "    fill: var(--button-hover-fill-color);\n",
              "  }\n",
              "\n",
              "  .colab-df-quickchart-complete:disabled,\n",
              "  .colab-df-quickchart-complete:disabled:hover {\n",
              "    background-color: var(--disabled-bg-color);\n",
              "    fill: var(--disabled-fill-color);\n",
              "    box-shadow: none;\n",
              "  }\n",
              "\n",
              "  .colab-df-spinner {\n",
              "    border: 2px solid var(--fill-color);\n",
              "    border-color: transparent;\n",
              "    border-bottom-color: var(--fill-color);\n",
              "    animation:\n",
              "      spin 1s steps(1) infinite;\n",
              "  }\n",
              "\n",
              "  @keyframes spin {\n",
              "    0% {\n",
              "      border-color: transparent;\n",
              "      border-bottom-color: var(--fill-color);\n",
              "      border-left-color: var(--fill-color);\n",
              "    }\n",
              "    20% {\n",
              "      border-color: transparent;\n",
              "      border-left-color: var(--fill-color);\n",
              "      border-top-color: var(--fill-color);\n",
              "    }\n",
              "    30% {\n",
              "      border-color: transparent;\n",
              "      border-left-color: var(--fill-color);\n",
              "      border-top-color: var(--fill-color);\n",
              "      border-right-color: var(--fill-color);\n",
              "    }\n",
              "    40% {\n",
              "      border-color: transparent;\n",
              "      border-right-color: var(--fill-color);\n",
              "      border-top-color: var(--fill-color);\n",
              "    }\n",
              "    60% {\n",
              "      border-color: transparent;\n",
              "      border-right-color: var(--fill-color);\n",
              "    }\n",
              "    80% {\n",
              "      border-color: transparent;\n",
              "      border-right-color: var(--fill-color);\n",
              "      border-bottom-color: var(--fill-color);\n",
              "    }\n",
              "    90% {\n",
              "      border-color: transparent;\n",
              "      border-bottom-color: var(--fill-color);\n",
              "    }\n",
              "  }\n",
              "</style>\n",
              "\n",
              "  <script>\n",
              "    async function quickchart(key) {\n",
              "      const quickchartButtonEl =\n",
              "        document.querySelector('#' + key + ' button');\n",
              "      quickchartButtonEl.disabled = true;  // To prevent multiple clicks.\n",
              "      quickchartButtonEl.classList.add('colab-df-spinner');\n",
              "      try {\n",
              "        const charts = await google.colab.kernel.invokeFunction(\n",
              "            'suggestCharts', [key], {});\n",
              "      } catch (error) {\n",
              "        console.error('Error during call to suggestCharts:', error);\n",
              "      }\n",
              "      quickchartButtonEl.classList.remove('colab-df-spinner');\n",
              "      quickchartButtonEl.classList.add('colab-df-quickchart-complete');\n",
              "    }\n",
              "    (() => {\n",
              "      let quickchartButtonEl =\n",
              "        document.querySelector('#df-f8917c54-610d-4759-843a-4d01331e721e button');\n",
              "      quickchartButtonEl.style.display =\n",
              "        google.colab.kernel.accessAllowed ? 'block' : 'none';\n",
              "    })();\n",
              "  </script>\n",
              "</div>\n",
              "\n",
              "  <div id=\"id_3b44635b-d787-49cd-bb0d-bb0d097dce72\">\n",
              "    <style>\n",
              "      .colab-df-generate {\n",
              "        background-color: #E8F0FE;\n",
              "        border: none;\n",
              "        border-radius: 50%;\n",
              "        cursor: pointer;\n",
              "        display: none;\n",
              "        fill: #1967D2;\n",
              "        height: 32px;\n",
              "        padding: 0 0 0 0;\n",
              "        width: 32px;\n",
              "      }\n",
              "\n",
              "      .colab-df-generate:hover {\n",
              "        background-color: #E2EBFA;\n",
              "        box-shadow: 0px 1px 2px rgba(60, 64, 67, 0.3), 0px 1px 3px 1px rgba(60, 64, 67, 0.15);\n",
              "        fill: #174EA6;\n",
              "      }\n",
              "\n",
              "      [theme=dark] .colab-df-generate {\n",
              "        background-color: #3B4455;\n",
              "        fill: #D2E3FC;\n",
              "      }\n",
              "\n",
              "      [theme=dark] .colab-df-generate:hover {\n",
              "        background-color: #434B5C;\n",
              "        box-shadow: 0px 1px 3px 1px rgba(0, 0, 0, 0.15);\n",
              "        filter: drop-shadow(0px 1px 2px rgba(0, 0, 0, 0.3));\n",
              "        fill: #FFFFFF;\n",
              "      }\n",
              "    </style>\n",
              "    <button class=\"colab-df-generate\" onclick=\"generateWithVariable('df')\"\n",
              "            title=\"Generate code using this dataframe.\"\n",
              "            style=\"display:none;\">\n",
              "\n",
              "  <svg xmlns=\"http://www.w3.org/2000/svg\" height=\"24px\"viewBox=\"0 0 24 24\"\n",
              "       width=\"24px\">\n",
              "    <path d=\"M7,19H8.4L18.45,9,17,7.55,7,17.6ZM5,21V16.75L18.45,3.32a2,2,0,0,1,2.83,0l1.4,1.43a1.91,1.91,0,0,1,.58,1.4,1.91,1.91,0,0,1-.58,1.4L9.25,21ZM18.45,9,17,7.55Zm-12,3A5.31,5.31,0,0,0,4.9,8.1,5.31,5.31,0,0,0,1,6.5,5.31,5.31,0,0,0,4.9,4.9,5.31,5.31,0,0,0,6.5,1,5.31,5.31,0,0,0,8.1,4.9,5.31,5.31,0,0,0,12,6.5,5.46,5.46,0,0,0,6.5,12Z\"/>\n",
              "  </svg>\n",
              "    </button>\n",
              "    <script>\n",
              "      (() => {\n",
              "      const buttonEl =\n",
              "        document.querySelector('#id_3b44635b-d787-49cd-bb0d-bb0d097dce72 button.colab-df-generate');\n",
              "      buttonEl.style.display =\n",
              "        google.colab.kernel.accessAllowed ? 'block' : 'none';\n",
              "\n",
              "      buttonEl.onclick = () => {\n",
              "        google.colab.notebook.generateWithVariable('df');\n",
              "      }\n",
              "      })();\n",
              "    </script>\n",
              "  </div>\n",
              "\n",
              "    </div>\n",
              "  </div>\n"
            ],
            "application/vnd.google.colaboratory.intrinsic+json": {
              "type": "dataframe",
              "variable_name": "df"
            }
          },
          "metadata": {},
          "execution_count": 146
        }
      ]
    },
    {
      "cell_type": "code",
      "source": [
        "np.array(solar_ene_array).max()"
      ],
      "metadata": {
        "id": "dxFsBj4LJ9v2",
        "outputId": "11a89e92-9967-421b-fa13-2e89c1ee379a",
        "colab": {
          "base_uri": "https://localhost:8080/"
        }
      },
      "execution_count": null,
      "outputs": [
        {
          "output_type": "execute_result",
          "data": {
            "text/plain": [
              "6666216.465636096"
            ]
          },
          "metadata": {},
          "execution_count": 122
        }
      ]
    },
    {
      "cell_type": "code",
      "source": [
        "plt.hist(np.array(solar_ene_array), bins='auto')"
      ],
      "metadata": {
        "id": "tOaXkWAYKJ94",
        "outputId": "8fa9f065-afc3-4865-9e27-63b7f0ad4acf",
        "colab": {
          "base_uri": "https://localhost:8080/",
          "height": 1000
        }
      },
      "execution_count": null,
      "outputs": [
        {
          "output_type": "execute_result",
          "data": {
            "text/plain": [
              "(array([9.154e+04, 3.420e+03, 2.200e+03, 2.160e+03, 1.760e+03, 1.620e+03,\n",
              "        1.420e+03, 1.360e+03, 1.360e+03, 1.640e+03, 1.760e+03, 1.380e+03,\n",
              "        1.040e+03, 1.360e+03, 1.200e+03, 1.380e+03, 1.360e+03, 1.280e+03,\n",
              "        1.120e+03, 1.000e+03, 1.240e+03, 1.300e+03, 1.220e+03, 1.240e+03,\n",
              "        1.120e+03, 1.480e+03, 9.400e+02, 1.300e+03, 1.320e+03, 1.240e+03,\n",
              "        1.300e+03, 1.160e+03, 1.240e+03, 1.180e+03, 1.080e+03, 1.200e+03,\n",
              "        1.060e+03, 1.260e+03, 8.000e+02, 8.200e+02, 8.000e+02, 1.020e+03,\n",
              "        9.800e+02, 1.080e+03, 1.240e+03, 1.020e+03, 1.200e+03, 1.240e+03,\n",
              "        1.260e+03, 1.140e+03, 1.100e+03, 1.160e+03, 9.600e+02, 9.800e+02,\n",
              "        9.400e+02, 6.800e+02, 7.400e+02, 7.200e+02, 8.200e+02, 9.200e+02,\n",
              "        7.600e+02, 8.200e+02, 6.800e+02, 8.000e+02, 7.800e+02, 7.400e+02,\n",
              "        8.600e+02, 8.000e+02, 1.060e+03, 7.600e+02, 7.000e+02, 6.800e+02,\n",
              "        3.800e+02, 2.000e+02, 1.400e+02, 1.000e+02, 8.000e+01]),\n",
              " array([      0.        ,   86574.23981346,  173148.47962691,\n",
              "         259722.71944037,  346296.95925382,  432871.19906728,\n",
              "         519445.43888073,  606019.67869419,  692593.91850765,\n",
              "         779168.1583211 ,  865742.39813456,  952316.63794801,\n",
              "        1038890.87776147, 1125465.11757493, 1212039.35738838,\n",
              "        1298613.59720184, 1385187.83701529, 1471762.07682875,\n",
              "        1558336.3166422 , 1644910.55645566, 1731484.79626912,\n",
              "        1818059.03608257, 1904633.27589603, 1991207.51570948,\n",
              "        2077781.75552294, 2164355.99533639, 2250930.23514985,\n",
              "        2337504.47496331, 2424078.71477676, 2510652.95459022,\n",
              "        2597227.19440367, 2683801.43421713, 2770375.67403059,\n",
              "        2856949.91384404, 2943524.1536575 , 3030098.39347095,\n",
              "        3116672.63328441, 3203246.87309786, 3289821.11291132,\n",
              "        3376395.35272478, 3462969.59253823, 3549543.83235169,\n",
              "        3636118.07216514, 3722692.3119786 , 3809266.55179205,\n",
              "        3895840.79160551, 3982415.03141897, 4068989.27123242,\n",
              "        4155563.51104588, 4242137.75085933, 4328711.99067279,\n",
              "        4415286.23048624, 4501860.4702997 , 4588434.71011316,\n",
              "        4675008.94992661, 4761583.18974007, 4848157.42955352,\n",
              "        4934731.66936698, 5021305.90918044, 5107880.14899389,\n",
              "        5194454.38880735, 5281028.6286208 , 5367602.86843426,\n",
              "        5454177.10824772, 5540751.34806117, 5627325.58787463,\n",
              "        5713899.82768808, 5800474.06750154, 5887048.30731499,\n",
              "        5973622.54712845, 6060196.78694191, 6146771.02675536,\n",
              "        6233345.26656882, 6319919.50638227, 6406493.74619573,\n",
              "        6493067.98600918, 6579642.22582264, 6666216.4656361 ]),\n",
              " <BarContainer object of 77 artists>)"
            ]
          },
          "metadata": {},
          "execution_count": 145
        },
        {
          "output_type": "display_data",
          "data": {
            "text/plain": [
              "<Figure size 640x480 with 1 Axes>"
            ],
            "image/png": "[encoded data removed]"
          },
          "metadata": {}
        }
      ]
    },
    {
      "cell_type": "code",
      "source": [
        "solaraaray=np.trim_zeros(np.array(solar_ene_array))"
      ],
      "metadata": {
        "id": "VZ_1hK0GYRUN"
      },
      "execution_count": null,
      "outputs": []
    },
    {
      "cell_type": "code",
      "source": [
        "plt.hist(np.array(solar_ene_array), bins='auto')"
      ],
      "metadata": {
        "id": "tDW2Zdr9Yctu",
        "outputId": "bf2749f7-2d60-4b90-9ec0-7a57f45ed632",
        "colab": {
          "base_uri": "https://localhost:8080/",
          "height": 1000
        }
      },
      "execution_count": null,
      "outputs": [
        {
          "output_type": "execute_result",
          "data": {
            "text/plain": [
              "(array([9.154e+04, 3.420e+03, 2.200e+03, 2.160e+03, 1.760e+03, 1.620e+03,\n",
              "        1.420e+03, 1.360e+03, 1.360e+03, 1.640e+03, 1.760e+03, 1.380e+03,\n",
              "        1.040e+03, 1.360e+03, 1.200e+03, 1.380e+03, 1.360e+03, 1.280e+03,\n",
              "        1.120e+03, 1.000e+03, 1.240e+03, 1.300e+03, 1.220e+03, 1.240e+03,\n",
              "        1.120e+03, 1.480e+03, 9.400e+02, 1.300e+03, 1.320e+03, 1.240e+03,\n",
              "        1.300e+03, 1.160e+03, 1.240e+03, 1.180e+03, 1.080e+03, 1.200e+03,\n",
              "        1.060e+03, 1.260e+03, 8.000e+02, 8.200e+02, 8.000e+02, 1.020e+03,\n",
              "        9.800e+02, 1.080e+03, 1.240e+03, 1.020e+03, 1.200e+03, 1.240e+03,\n",
              "        1.260e+03, 1.140e+03, 1.100e+03, 1.160e+03, 9.600e+02, 9.800e+02,\n",
              "        9.400e+02, 6.800e+02, 7.400e+02, 7.200e+02, 8.200e+02, 9.200e+02,\n",
              "        7.600e+02, 8.200e+02, 6.800e+02, 8.000e+02, 7.800e+02, 7.400e+02,\n",
              "        8.600e+02, 8.000e+02, 1.060e+03, 7.600e+02, 7.000e+02, 6.800e+02,\n",
              "        3.800e+02, 2.000e+02, 1.400e+02, 1.000e+02, 8.000e+01]),\n",
              " array([      0.        ,   86574.23981346,  173148.47962691,\n",
              "         259722.71944037,  346296.95925382,  432871.19906728,\n",
              "         519445.43888073,  606019.67869419,  692593.91850765,\n",
              "         779168.1583211 ,  865742.39813456,  952316.63794801,\n",
              "        1038890.87776147, 1125465.11757493, 1212039.35738838,\n",
              "        1298613.59720184, 1385187.83701529, 1471762.07682875,\n",
              "        1558336.3166422 , 1644910.55645566, 1731484.79626912,\n",
              "        1818059.03608257, 1904633.27589603, 1991207.51570948,\n",
              "        2077781.75552294, 2164355.99533639, 2250930.23514985,\n",
              "        2337504.47496331, 2424078.71477676, 2510652.95459022,\n",
              "        2597227.19440367, 2683801.43421713, 2770375.67403059,\n",
              "        2856949.91384404, 2943524.1536575 , 3030098.39347095,\n",
              "        3116672.63328441, 3203246.87309786, 3289821.11291132,\n",
              "        3376395.35272478, 3462969.59253823, 3549543.83235169,\n",
              "        3636118.07216514, 3722692.3119786 , 3809266.55179205,\n",
              "        3895840.79160551, 3982415.03141897, 4068989.27123242,\n",
              "        4155563.51104588, 4242137.75085933, 4328711.99067279,\n",
              "        4415286.23048624, 4501860.4702997 , 4588434.71011316,\n",
              "        4675008.94992661, 4761583.18974007, 4848157.42955352,\n",
              "        4934731.66936698, 5021305.90918044, 5107880.14899389,\n",
              "        5194454.38880735, 5281028.6286208 , 5367602.86843426,\n",
              "        5454177.10824772, 5540751.34806117, 5627325.58787463,\n",
              "        5713899.82768808, 5800474.06750154, 5887048.30731499,\n",
              "        5973622.54712845, 6060196.78694191, 6146771.02675536,\n",
              "        6233345.26656882, 6319919.50638227, 6406493.74619573,\n",
              "        6493067.98600918, 6579642.22582264, 6666216.4656361 ]),\n",
              " <BarContainer object of 77 artists>)"
            ]
          },
          "metadata": {},
          "execution_count": 185
        },
        {
          "output_type": "display_data",
          "data": {
            "text/plain": [
              "<Figure size 640x480 with 1 Axes>"
            ],
            "image/png": "[encoded data removed]"
          },
          "metadata": {}
        }
      ]
    },
    {
      "cell_type": "code",
      "source": [
        "solaraaray.mean()"
      ],
      "metadata": {
        "id": "YaIzOkJ6Y1iz",
        "outputId": "13da05a3-a5f3-41bb-d226-9a220cab449c",
        "colab": {
          "base_uri": "https://localhost:8080/"
        }
      },
      "execution_count": null,
      "outputs": [
        {
          "output_type": "execute_result",
          "data": {
            "text/plain": [
              "1308968.2055905142"
            ]
          },
          "metadata": {},
          "execution_count": 186
        }
      ]
    },
    {
      "cell_type": "code",
      "source": [
        "# prompt: remove all the values that are less than 2000000 in the solaraaray\n",
        "\n",
        "solaraaraymore = solaraaray[solaraaray >= 5000000]\n",
        "solaraaraymore.sum()"
      ],
      "metadata": {
        "id": "puks5j3OZMqz",
        "outputId": "f1955c37-9a68-445c-f283-03aa055d94db",
        "colab": {
          "base_uri": "https://localhost:8080/"
        }
      },
      "execution_count": null,
      "outputs": [
        {
          "output_type": "execute_result",
          "data": {
            "text/plain": [
              "69282490555.63223"
            ]
          },
          "metadata": {},
          "execution_count": 192
        }
      ]
    },
    {
      "cell_type": "code",
      "source": [
        "solaraarayless = solaraaray[solaraaray <= 5000000]\n",
        "solaraarayless.sum()"
      ],
      "metadata": {
        "id": "V87MisCOaFtw",
        "outputId": "c8a32e5e-4487-4001-ad80-f963fe566650",
        "colab": {
          "base_uri": "https://localhost:8080/"
        }
      },
      "execution_count": null,
      "outputs": [
        {
          "output_type": "execute_result",
          "data": {
            "text/plain": [
              "160031722477.15323"
            ]
          },
          "metadata": {},
          "execution_count": 195
        }
      ]
    },
    {
      "cell_type": "code",
      "source": [
        "solaraarayless.sum()-solaraaraymore.sum()"
      ],
      "metadata": {
        "id": "Mgt19XqIaSP7",
        "outputId": "085c8f15-cd07-4f82-b1da-b7f18e962b7c",
        "colab": {
          "base_uri": "https://localhost:8080/"
        }
      },
      "execution_count": null,
      "outputs": [
        {
          "output_type": "execute_result",
          "data": {
            "text/plain": [
              "90749231921.521"
            ]
          },
          "metadata": {},
          "execution_count": 194
        }
      ]
    },
    {
      "cell_type": "code",
      "source": [
        "deficit_array = df['deficit_energy'].to_numpy()\n",
        "deficit_array"
      ],
      "metadata": {
        "id": "wK5glmuECiYU",
        "outputId": "1f9435ee-73b8-4eaf-b402-52b2a7253d18",
        "colab": {
          "base_uri": "https://localhost:8080/"
        }
      },
      "execution_count": null,
      "outputs": [
        {
          "output_type": "execute_result",
          "data": {
            "text/plain": [
              "array([-157431.365538, -156085.798311, -155413.014698, ...,\n",
              "        432860.831886,  393092.698922,  377797.263166])"
            ]
          },
          "metadata": {},
          "execution_count": 95
        }
      ]
    },
    {
      "cell_type": "code",
      "source": [
        "deficit_only_array = np.where(deficit_array>0, 0, deficit_array)\n",
        "deficit_tot=-deficit_only_array.sum()\n",
        "deficit_only_array"
      ],
      "metadata": {
        "id": "AFtvaA0TDed8",
        "outputId": "9a2a2926-dd8e-4af0-f8b0-28191a21ed33",
        "colab": {
          "base_uri": "https://localhost:8080/"
        }
      },
      "execution_count": null,
      "outputs": [
        {
          "output_type": "execute_result",
          "data": {
            "text/plain": [
              "array([-157431.365538, -156085.798311, -155413.014698, ...,\n",
              "             0.      ,       0.      ,       0.      ])"
            ]
          },
          "metadata": {},
          "execution_count": 109
        }
      ]
    },
    {
      "cell_type": "code",
      "source": [
        "solar_energy_tot = deficit_tot-gasifier_energy_tot-battery_energy_tot"
      ],
      "metadata": {
        "id": "u_PNH8pPCZxs"
      },
      "execution_count": null,
      "outputs": []
    },
    {
      "cell_type": "code",
      "source": [
        "# prompt: make a pie chart with hole in the midlle for showing the component cost from above data\n",
        "\n",
        "# Data for the pie chart\n",
        "labels = ['Solar', 'Gasifier', 'Battery']\n",
        "sizes = [solar_energy_tot, gasifier_energy_tot, battery_energy_tot]\n",
        "colors = ['gold', 'lightskyblue', 'lightcoral']\n",
        "\n",
        "# Create the pie chart with a hole in the middle\n",
        "fig, ax = plt.subplots()\n",
        "ax.pie(sizes, labels=labels, colors=colors, autopct='%1.1f%%', startangle=90, pctdistance=0.85)\n",
        "\n",
        "# Draw a circle in the middle to create the donut effect\n",
        "centre_circle = plt.Circle((0, 0), 0.70, fc='white')\n",
        "fig = plt.gcf()\n",
        "fig.gca().add_artist(centre_circle)\n",
        "\n",
        "# Equal aspect ratio ensures that pie is drawn as a circle\n",
        "ax.axis('equal')\n",
        "plt.title('Annualized System Cost Components')\n",
        "plt.tight_layout()\n",
        "plt.show()"
      ],
      "metadata": {
        "id": "FkmKWbQGBJHb",
        "outputId": "21833860-8525-434e-f053-4a6bdc2de8b5",
        "colab": {
          "base_uri": "https://localhost:8080/",
          "height": 486
        }
      },
      "execution_count": null,
      "outputs": [
        {
          "output_type": "display_data",
          "data": {
            "text/plain": [
              "<Figure size 640x480 with 1 Axes>"
            ],
            "image/png": "[encoded data removed]"
          },
          "metadata": {}
        }
      ]
    },
    {
      "cell_type": "markdown",
      "source": [
        "#old\n"
      ],
      "metadata": {
        "id": "8_xe5IrL5P5M"
      }
    },
    {
      "cell_type": "code",
      "execution_count": null,
      "metadata": {
        "colab": {
          "base_uri": "https://localhost:8080/"
        },
        "id": "HDUBuiJkWG7g",
        "outputId": "9677e931-a19a-4de6-c0d5-47220dc4f9fc"
      },
      "outputs": [
        {
          "name": "stdout",
          "output_type": "stream",
          "text": [
            "Solar:7440824KW, Gasifier: 1877718KW, Battery: 5569543KWh || LCOE: [0.08200048]USD/KWh\n"
          ]
        }
      ],
      "source": [
        "'''\n",
        "Optimized results for SOO.\n",
        "'''\n",
        "solar, gasifier, battery = results.X\n",
        "print(f\"Solar:{solar}KW, Gasifier: {gasifier}KW, Battery: {battery}KWh || LCOE: {results.F}USD/KWh\")"
      ]
    },
    {
      "cell_type": "code",
      "execution_count": null,
      "metadata": {
        "colab": {
          "base_uri": "https://localhost:8080/",
          "height": 472
        },
        "id": "E_YUTSPji4_o",
        "outputId": "66f95cd8-686a-445b-e12b-a7f2616ab6dd"
      },
      "outputs": [
        {
          "data": {
            "image/png": "[encoded data removed]",
            "text/plain": [
              "<Figure size 640x480 with 1 Axes>"
            ]
          },
          "metadata": {},
          "output_type": "display_data"
        }
      ],
      "source": [
        "'''\n",
        "Convergence plot for SOO.\n",
        "'''\n",
        "import numpy as np\n",
        "import matplotlib.pyplot as plt\n",
        "\n",
        "n_evals = np.array([e.evaluator.n_eval for e in results.history])\n",
        "opt = np.array([e.opt[0].F for e in results.history])\n",
        "\n",
        "plt.title(\"Convergence\")\n",
        "plt.plot(n_evals[2:], opt[2:], \"--\")\n",
        "plt.xlabel(\"number of function evaluations\")\n",
        "plt.ylabel(\"LCOE(USD/KWh)\")\n",
        "plt.show()"
      ]
    },
    {
      "cell_type": "code",
      "source": [
        "len(df)"
      ],
      "metadata": {
        "id": "4x1GECjqvGQr",
        "outputId": "941e1003-c82f-4126-fcde-80ccf10d455f",
        "colab": {
          "base_uri": "https://localhost:8080/"
        }
      },
      "execution_count": null,
      "outputs": [
        {
          "output_type": "execute_result",
          "data": {
            "text/plain": [
              "183960"
            ]
          },
          "metadata": {},
          "execution_count": 19
        }
      ]
    },
    {
      "cell_type": "code",
      "source": [
        "8760*21"
      ],
      "metadata": {
        "id": "z8xZYOFCvIDZ",
        "outputId": "aa46700e-a6ff-46fc-cec1-48c9640f54f9",
        "colab": {
          "base_uri": "https://localhost:8080/"
        }
      },
      "execution_count": null,
      "outputs": [
        {
          "output_type": "execute_result",
          "data": {
            "text/plain": [
              "183960"
            ]
          },
          "metadata": {},
          "execution_count": 21
        }
      ]
    },
    {
      "cell_type": "code",
      "execution_count": null,
      "metadata": {
        "colab": {
          "base_uri": "https://localhost:8080/"
        },
        "id": "wCH4XnqjWRox",
        "outputId": "0dbe5f37-3dc9-43b5-832a-fd47fe68cd99"
      },
      "outputs": [
        {
          "output_type": "stream",
          "name": "stdout",
          "text": [
            "5411\n",
            "1741340650.7232442\n",
            "991696664.4884094 0.08608022130231466\n"
          ]
        }
      ],
      "source": [
        "'''\n",
        "Viewing the operation of the optimized hybrid energy system.\n",
        "'''\n",
        "# solar, gasifier, battery = results.X\n",
        "solar, gasifier, battery = 7440824, 1877718, 5569543\n",
        "\n",
        "# Solar:3717620.230751795KW, Gasifier: 2209925.350228307KW, Battery: 4446649.505009017KWh || LCOE: [0.12784646]USD/KWh\n",
        "\n",
        "solar_array = []\n",
        "gasifier_array = []\n",
        "battery_array = []\n",
        "battery_supply_array = []\n",
        "deficit_array = []\n",
        "\n",
        "total_supply = []\n",
        "\n",
        "count = 0\n",
        "gasifier_up_hr = 0\n",
        "gasifier_energy = 0\n",
        "battery_tot_energy = 0\n",
        "solar_tot_energy = 0\n",
        "Energy_prod_N = 0\n",
        "battery_E = battery\n",
        "# for i in range(len(df)):\n",
        "for i in range(8760):\n",
        "\n",
        "  # Energy_produced = Energy_prod(solar_rate=solar, solar_rad=df['ghi'][i], gasifier_rate=gasifier, temp=df['air_temperature'][i])\n",
        "  Energy_served, battery_supply, battery_E, solar_ene, gasifier_ene = Energy_prod_(energy_def=df['deficit_energy'][i] ,battery_E=battery_E ,battery_max=battery, solar_rate=solar, solar_rad=df['ghi'][i], gasifier_rate=gasifier, temp=df['air_temperature'][i])\n",
        "  Energy_prod_N += Energy_served\n",
        "  gasifier_energy+=gasifier_ene\n",
        "  battery_tot_energy+=battery_supply\n",
        "\n",
        "\n",
        "\n",
        "  if round(gasifier_ene, 2)>0:\n",
        "    # print(gasifier_ene)\n",
        "    # print(i)\n",
        "\n",
        "\n",
        "    gasifier_up_hr+=1\n",
        "\n",
        "  deficit_array.append(df['deficit_energy'][i])\n",
        "  solar_array.append(solar_ene)\n",
        "  gasifier_array.append(gasifier_ene)\n",
        "  battery_supply_array.append(battery_supply)\n",
        "  battery_array.append(battery_E)\n",
        "  total_supply.append(battery_supply+gasifier_ene+solar_ene)\n",
        "print(gasifier_up_hr)\n",
        "print(gasifier_energy)\n",
        "asc, lcoe = LCOE(Energy_prod_N, solar, gasifier, battery)\n",
        "print(asc, lcoe)"
      ]
    },
    {
      "cell_type": "code",
      "execution_count": null,
      "metadata": {
        "colab": {
          "base_uri": "https://localhost:8080/",
          "height": 482
        },
        "id": "kmno2eoNZOIQ",
        "outputId": "0bc3bf4e-85e8-44be-c7be-99152977f2a4"
      },
      "outputs": [
        {
          "output_type": "execute_result",
          "data": {
            "text/plain": [
              "<matplotlib.legend.Legend at 0x7b7d643fb430>"
            ]
          },
          "metadata": {},
          "execution_count": 24
        },
        {
          "output_type": "display_data",
          "data": {
            "text/plain": [
              "<Figure size 640x480 with 1 Axes>"
            ],
            "image/png": "[encoded data removed]"
          },
          "metadata": {}
        }
      ],
      "source": [
        "'''\n",
        "Viewing the operation of the optimized hybrid energy system.\n",
        "'''\n",
        "i = 0 # start hour\n",
        "j = 8760 # end hour\n",
        "x = np.arange(i,j)\n",
        "plt.plot(x,solar_array[i:j], label='solar')\n",
        "plt.plot(x,gasifier_array[i:j], label='gasifier')\n",
        "# plt.plot(x,battery_array[i:j], label = 'battery-SOC')\n",
        "# plt.plot(x,battery_supply_array[i:j], label = 'battery')\n",
        "# plt.plot(x,-np.array(deficit_array[i:j]), label = 'deficit')\n",
        "# plt.plot(x,-np.array(deficit_array[i:j]), label = 'deficit/surplus')\n",
        "# plt.plot(x,np.array(deficit_array[i:j]), label = 'surplus')\n",
        "plt.xlabel(\"hour\")\n",
        "plt.ylabel(\"KW\")\n",
        "# plt.plot(x,total_supply[i:j], label = 'total')\n",
        "plt.grid()\n",
        "plt.legend(loc='upper right',bbox_to_anchor=(1.2,0.5))"
      ]
    },
    {
      "cell_type": "code",
      "execution_count": null,
      "metadata": {
        "id": "S340Xe6b9Rgg"
      },
      "outputs": [],
      "source": []
    }
  ],
  "metadata": {
    "colab": {
      "provenance": [],
      "include_colab_link": true
    },
    "kernelspec": {
      "display_name": "Python 3",
      "name": "python3"
    },
    "language_info": {
      "codemirror_mode": {
        "name": "ipython",
        "version": 3
      },
      "file_extension": ".py",
      "mimetype": "text/x-python",
      "name": "python",
      "nbconvert_exporter": "python",
      "pygments_lexer": "ipython3",
      "version": "3.11.5"
    }
  },
  "nbformat": 4,
  "nbformat_minor": 0
}