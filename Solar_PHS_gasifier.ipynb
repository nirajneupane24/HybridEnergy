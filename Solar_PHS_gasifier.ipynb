{
  "cells": [
    {
      "cell_type": "markdown",
      "metadata": {
        "colab_type": "text",
        "id": "view-in-github"
      },
      "source": [
        "<a href=\"https://colab.research.google.com/github/phantom-balance/HybridEnergy/blob/master/Solar_PHS_gasifier.ipynb\" target=\"_parent\"><img src=\"https://colab.research.google.com/assets/colab-badge.svg\" alt=\"Open In Colab\"/></a>"
      ]
    },
    {
      "cell_type": "code",
      "execution_count": null,
      "metadata": {
        "id": "OGvudMCvnWwk"
      },
      "outputs": [],
      "source": [
        "# pymoo used for optimization\n",
        "from IPython.display import clear_output\n",
        "!pip install pymoo\n",
        "clear_output()"
      ]
    },
    {
      "cell_type": "code",
      "execution_count": 1,
      "metadata": {
        "id": "LQwk36zbnvea"
      },
      "outputs": [],
      "source": [
        "# import necessary libraries\n",
        "import pandas as pd\n",
        "import numpy as np\n",
        "import matplotlib.pyplot as plt\n",
        "import pymoo\n",
        "from pymoo.optimize import minimize\n",
        "from pymoo.core.problem import Problem"
      ]
    },
    {
      "cell_type": "code",
      "execution_count": 4,
      "metadata": {
        "id": "NE_GcFuGnzP3"
      },
      "outputs": [],
      "source": [
        "# reading the hourly energy csv file \"contains hourly data for deficits, solar radiation and ambient air temperature(Jumla)\"\n",
        "df = pd.read_csv(r'C:\\Users\\Asus\\Desktop\\Gasification files\\GA\\HOURLY_DATA_new.csv')\n",
        "# df = df[0:100]\n",
        "'''\n",
        "     csv file has deficit energy in MWh, solar radiation(ghi) in W/m2, air temperature in celcius.\n",
        "    We perform the analysis in terms of KW.\n",
        "'''\n",
        "df['deficit_energy']=df['deficit_energy']*1000\n",
        "df['deficit_energy'] = df['deficit_energy'].apply(lambda x: round(x, 6))\n",
        "df['ghi']=df['ghi']/1000"
      ]
    },
    {
      "cell_type": "code",
      "execution_count": 5,
      "metadata": {
        "colab": {
          "base_uri": "https://localhost:8080/",
          "height": 300
        },
        "id": "y8ruf5cln0Hn",
        "outputId": "a9f92407-2673-42b5-b36b-34b7f794d789"
      },
      "outputs": [
        {
          "data": {
            "text/html": [
              "<div>\n",
              "<style scoped>\n",
              "    .dataframe tbody tr th:only-of-type {\n",
              "        vertical-align: middle;\n",
              "    }\n",
              "\n",
              "    .dataframe tbody tr th {\n",
              "        vertical-align: top;\n",
              "    }\n",
              "\n",
              "    .dataframe thead th {\n",
              "        text-align: right;\n",
              "    }\n",
              "</style>\n",
              "<table border=\"1\" class=\"dataframe\">\n",
              "  <thead>\n",
              "    <tr style=\"text-align: right;\">\n",
              "      <th></th>\n",
              "      <th>Unnamed: 0</th>\n",
              "      <th>ghi</th>\n",
              "      <th>air_temperature</th>\n",
              "      <th>deficit_energy</th>\n",
              "    </tr>\n",
              "  </thead>\n",
              "  <tbody>\n",
              "    <tr>\n",
              "      <th>count</th>\n",
              "      <td>183960.000000</td>\n",
              "      <td>183960.000000</td>\n",
              "      <td>183960.000000</td>\n",
              "      <td>1.839600e+05</td>\n",
              "    </tr>\n",
              "    <tr>\n",
              "      <th>mean</th>\n",
              "      <td>91979.500000</td>\n",
              "      <td>0.218271</td>\n",
              "      <td>11.596737</td>\n",
              "      <td>2.363686e+05</td>\n",
              "    </tr>\n",
              "    <tr>\n",
              "      <th>std</th>\n",
              "      <td>53104.822097</td>\n",
              "      <td>0.311458</td>\n",
              "      <td>8.223487</td>\n",
              "      <td>4.957133e+05</td>\n",
              "    </tr>\n",
              "    <tr>\n",
              "      <th>min</th>\n",
              "      <td>0.000000</td>\n",
              "      <td>0.000000</td>\n",
              "      <td>-8.630000</td>\n",
              "      <td>-1.302164e+06</td>\n",
              "    </tr>\n",
              "    <tr>\n",
              "      <th>25%</th>\n",
              "      <td>45989.750000</td>\n",
              "      <td>0.000000</td>\n",
              "      <td>4.888750</td>\n",
              "      <td>-1.272546e+05</td>\n",
              "    </tr>\n",
              "    <tr>\n",
              "      <th>50%</th>\n",
              "      <td>91979.500000</td>\n",
              "      <td>0.005384</td>\n",
              "      <td>12.802500</td>\n",
              "      <td>1.943938e+05</td>\n",
              "    </tr>\n",
              "    <tr>\n",
              "      <th>75%</th>\n",
              "      <td>137969.250000</td>\n",
              "      <td>0.403645</td>\n",
              "      <td>17.676667</td>\n",
              "      <td>5.229730e+05</td>\n",
              "    </tr>\n",
              "    <tr>\n",
              "      <th>max</th>\n",
              "      <td>183959.000000</td>\n",
              "      <td>1.147850</td>\n",
              "      <td>29.931667</td>\n",
              "      <td>2.140979e+06</td>\n",
              "    </tr>\n",
              "  </tbody>\n",
              "</table>\n",
              "</div>"
            ],
            "text/plain": [
              "          Unnamed: 0            ghi  air_temperature  deficit_energy\n",
              "count  183960.000000  183960.000000    183960.000000    1.839600e+05\n",
              "mean    91979.500000       0.218271        11.596737    2.363686e+05\n",
              "std     53104.822097       0.311458         8.223487    4.957133e+05\n",
              "min         0.000000       0.000000        -8.630000   -1.302164e+06\n",
              "25%     45989.750000       0.000000         4.888750   -1.272546e+05\n",
              "50%     91979.500000       0.005384        12.802500    1.943938e+05\n",
              "75%    137969.250000       0.403645        17.676667    5.229730e+05\n",
              "max    183959.000000       1.147850        29.931667    2.140979e+06"
            ]
          },
          "execution_count": 5,
          "metadata": {},
          "output_type": "execute_result"
        }
      ],
      "source": [
        "df.describe()"
      ]
    },
    {
      "cell_type": "code",
      "execution_count": 6,
      "metadata": {
        "id": "dY1_UIlAn2yU"
      },
      "outputs": [],
      "source": [
        "'''\n",
        "    All the necessary constants required for modeling.\n",
        "'''\n",
        "N = 20 # project_life\n",
        "i = 0.06 # interest_rate\n",
        "\n",
        "solar_cost_unit = 727 # usd/kW(capex)\n",
        "solar_OM = 4 # usd/kW.year(opex)\n",
        "\n",
        "CRF = (i*((1+i)**N))/(((1+i)**N)-1) # capital recovery factor\n",
        "d_f = 0.88 #derating_factor\n",
        "Gt_stc = 1 #kw/m2\n",
        "ap = -0.0035 #solar mod temp coeff of power(%/oC)\n",
        "T_cstc = 25 #oC standard temp\n",
        "NOCT = 45 #oC\n",
        "n_bat = 0.92 #round trip efficieny\n",
        "\n",
        "gasifier_cost_unit = 2300 # usd/kW(capex)\n",
        "gasifier_OM = 2 # usd/kW.year(opex)\n",
        "gasifier_CUF = 0.55 # capacity utilization factor\n",
        "\n",
        "pump_cost_unit = 1075 #usd/kW\n",
        "pump_OM = 0.01075 #usd/kW.year\n",
        "\n",
        "reservoir_cost_unit = 170 #usd/m2\n",
        "reservoir_OM = 1.7 #usd/m3.year\n",
        "\n",
        "turbine_cost_unit = 1000 #usd/kw\n",
        "turbine_OM = 0.01 #usd/kw\n",
        "\n",
        "#single site phs(1GWh)\n",
        "reservoir_max = 10000000 #m3\n",
        "reservoir_area = 5000000 #m2\n",
        "h3 = 50 #m(minimum head)\n",
        "h2_max = reservoir_max/reservoir_area #maximum reservior head\n",
        "density = 1000 #kg/m3(water)\n",
        "g = 9.8 #m/s2\n",
        "ntur = 0.7 #efficiency of turbine\n",
        "npum = 0.7 #efficiency of pump"
      ]
    },
    {
      "cell_type": "code",
      "execution_count": 7,
      "metadata": {
        "id": "2cfAh9F0eG81"
      },
      "outputs": [],
      "source": [
        "Q_res = reservoir_max/3600\n",
        "turbine_max = Q_res*density*g*(h3+h2_max)*ntur/1000\n",
        "pump_max = Q_res*density*g*(h3+h2_max)*npum/1000"
      ]
    },
    {
      "cell_type": "code",
      "execution_count": 8,
      "metadata": {
        "id": "uBv9oq_pesPk"
      },
      "outputs": [],
      "source": [
        "'''\n",
        "    Calculating the cost of the hybrid energy system.\n",
        "'''\n",
        "def cost_pv(solar):\n",
        "  solar_cost = solar*((CRF*solar_cost_unit)+solar_OM)\n",
        "  # print(solar_cost)\n",
        "  return solar_cost\n",
        "\n",
        "def cost_gasifier(gasifier):\n",
        "  gasifier_cost = gasifier*((CRF*gasifier_cost_unit)+gasifier_OM)\n",
        "  # print(gasifier_cost)\n",
        "  return gasifier_cost\n",
        "\n",
        "def cost_pump(pump):\n",
        "  pump_cost_woelec = pump*((CRF*pump_cost_unit)+pump_OM)\n",
        "  # pump_elec_op = pump_elec*0.04*CRF\n",
        "  pump_cost = pump_cost_woelec#+pump_elec_op\n",
        "  return pump_cost\n",
        "\n",
        "def cost_reservoir(reservoir_vol):\n",
        "  reservoir_cost = reservoir_area*reservoir_cost_unit*CRF + reservoir_vol*reservoir_OM\n",
        "  return reservoir_cost\n",
        "\n",
        "def cost_turbine(turbine):\n",
        "  turbine_cost = turbine*((CRF*turbine_cost_unit)+turbine_OM)\n",
        "  return turbine_cost\n",
        "\n",
        "def LCOE(total_energy_prod, solar, gasifier, pump, reservoir, turbine):\n",
        "  ASC = cost_pv(solar)+cost_gasifier(gasifier)+cost_pump(pump)+cost_reservoir(reservoir)+cost_turbine(turbine)\n",
        "  energy_prod_per_year = total_energy_prod/N\n",
        "  LCOE = ASC/energy_prod_per_year\n",
        "  return ASC, LCOE"
      ]
    },
    {
      "cell_type": "code",
      "execution_count": 9,
      "metadata": {
        "id": "lIsZjP0ZsFjb"
      },
      "outputs": [],
      "source": [
        "'''\n",
        "    Calculating the energy produced by the solar panel and gasifier.\n",
        "'''\n",
        "def solar_ene_prod(solar_rate, solar_rad, temp):\n",
        "  T_cell = temp+Gt_stc*((NOCT-20)/0.8)\n",
        "  p_op = solar_rate*d_f*(solar_rad/Gt_stc)*(1+ap*(T_cell-T_cstc))\n",
        "  return p_op\n",
        "\n",
        "def gasifier_ene_prod(gasifier_rate):\n",
        "  return gasifier_rate*gasifier_CUF"
      ]
    },
    {
      "cell_type": "code",
      "execution_count": 10,
      "metadata": {
        "id": "_MFDjpZg02mT"
      },
      "outputs": [],
      "source": [
        "def turbine_energy(turbine, reservior_lev):\n",
        "  'maximum energy produced by phs turbine'\n",
        "  Qt_rated = turbine*1000/(density*g*(h3+h2_max)*ntur) # turbine throughput\n",
        "  res_Qt = reservior_lev/3600 #maximum Qt available from reservior\n",
        "  Qt = min(Qt_rated, res_Qt)\n",
        "  energy_prod = Qt*ntur*density*g*(h3+(reservior_lev/reservoir_area))\n",
        "  return energy_prod/1000\n",
        "\n",
        "def turbine_discharge(energy, reservior_lev):\n",
        "  Qdis = energy*1000/(ntur*density*g*(h3+(reservior_lev/reservoir_area)))\n",
        "  Qdis_hr = Qdis*3600\n",
        "  return Qdis_hr\n",
        "\n",
        "def pump_energy(pump, Pch_t, reservior_lev):\n",
        "  Qp_rated = pump*1000/(density*g*(h3+h2_max)*npum) # pump throughput\n",
        "  res_Qp = (reservoir_max-reservior_lev)/3600 #maximum Qp available from reservior\n",
        "  Qp = min(Qp_rated, res_Qp)\n",
        "  Ep = Qp*density*g*(h3+reservior_lev/reservoir_area)/npum\n",
        "  Edump = 0\n",
        "  Ep = Ep/1000\n",
        "  if Ep>=Pch_t:\n",
        "    Ep = Pch_t\n",
        "    Edump = 0\n",
        "  else:\n",
        "    Ep = Ep\n",
        "    Edump = Pch_t-Ep\n",
        "  return Ep, Edump\n",
        "\n",
        "def pump_discharge(energy, reservoir_lev):\n",
        "  energy = energy*1000\n",
        "  Qdis = npum*energy/(density*g*(h3+(reservoir_lev/reservoir_area)))\n",
        "  Qdis_hr = Qdis*3600\n",
        "  return Qdis_hr"
      ]
    },
    {
      "cell_type": "code",
      "execution_count": 11,
      "metadata": {
        "id": "layJpDHCyBnW"
      },
      "outputs": [],
      "source": [
        "'''\n",
        "    Hybrid Energy system operational strategy\n",
        "'''\n",
        "def Energy_prod_(energy_def, reservoir_lev, reservoir_max, pump, turbine,  solar_rate, solar_rad, gasifier_rate, temp):\n",
        "  energy_def=-energy_def\n",
        "  energy_prod = 0\n",
        "  energy_served = 0\n",
        "  solar_energy = 0\n",
        "  gasifier_energy = 0\n",
        "  reservoir_lev_up = reservoir_lev\n",
        "  turbine_supply = 0\n",
        "\n",
        "\n",
        "  solar_energy = solar_ene_prod(solar_rate, solar_rad, temp)\n",
        "  if energy_def>0:\n",
        "    '''\n",
        "    Energy deficit strategy\n",
        "    '''\n",
        "    if solar_energy-energy_def<0:\n",
        "      '''\n",
        "      Solar cannot fulfill the energy deficit.\n",
        "      Run PHS and gasifier.\n",
        "      '''\n",
        "      # req_energy needs to be addressed by gasifier and fuelcell\n",
        "      req_energy = energy_def-solar_energy\n",
        "      energy_served+=solar_energy\n",
        "\n",
        "      if reservoir_lev>0:\n",
        "        if req_energy<=(turbine_energy(turbine, reservoir_lev)):\n",
        "          '''\n",
        "          req_energy met by only fuelcell\n",
        "          '''\n",
        "          turbine_supply = req_energy\n",
        "          energy_served+=turbine_supply\n",
        "          reservoir_lev_up = reservoir_lev-turbine_discharge(turbine_supply, reservoir_lev)\n",
        "\n",
        "        else:\n",
        "          '''\n",
        "          req_energy met by fuelcell and gasifier\n",
        "          '''\n",
        "          gasifier_E_req = req_energy-(turbine_energy(turbine, reservoir_lev))\n",
        "          turbine_supply = turbine_energy(turbine, reservoir_lev)\n",
        "          energy_served+=turbine_supply\n",
        "          reservoir_lev_up = reservoir_lev-turbine_discharge(turbine_supply, reservoir_lev)\n",
        "          gasifier_energy_op = gasifier_ene_prod(gasifier_rate)\n",
        "\n",
        "          if gasifier_energy_op>gasifier_E_req:\n",
        "            gasifier_energy = gasifier_E_req\n",
        "            energy_served+=gasifier_energy\n",
        "\n",
        "          else:\n",
        "            pass\n",
        "            '''\n",
        "            Hybrid energy system cannot fulfill the energy deficit.\n",
        "            New hybrid combination required.\n",
        "            '''\n",
        "            # print(\"# THE CURRENT SYSTEM RATING ISN'T ABLE TO FULLFIL THE DEFECIT, NEW HYBRID COMBINATION REQUIRED\")\n",
        "\n",
        "      else:\n",
        "        '''\n",
        "        req_energy met only by gasifier\n",
        "        '''\n",
        "        gasifier_energy_op = gasifier_ene_prod(gasifier_rate)\n",
        "\n",
        "        if req_energy<gasifier_energy_op:\n",
        "          gasifier_energy = req_energy\n",
        "          energy_served+=gasifier_energy\n",
        "        else:\n",
        "          pass\n",
        "          '''\n",
        "          Hybrid energy system cannot fulfill the energy deficit.\n",
        "          New hybrid combination required.\n",
        "          '''\n",
        "          # print(\"THE CURRENT SYSTEM RATING ISN'T ABLE TO FULLFIL THE DEFECIT, NEW HYBRID COMBINATION REQUIRED\")\n",
        "    else:\n",
        "      '''\n",
        "      Solar can fulfill the energy deficit.\n",
        "      Extra energy from the solar panel is used in electrolyser for hydrogen production.\n",
        "      '''\n",
        "      energy_served+=energy_def  # solar panel served the entire deficit energy\n",
        "      Pch_t = solar_energy-energy_def  # extra energy from solar used for PHS charge\n",
        "\n",
        "\n",
        "      Ep, Edump = pump_energy(pump, Pch_t, reservoir_lev)\n",
        "      reservoir_lev_up = reservoir_lev+pump_discharge(Ep, reservoir_lev)\n",
        "      energy_served+=Edump\n",
        "\n",
        "    energy_prod = solar_energy + gasifier_energy\n",
        "\n",
        "  else :\n",
        "    '''\n",
        "    Energy surplus strategy\n",
        "    '''\n",
        "    energy_prod=solar_energy+gasifier_energy #solar energy already calculated outside loop\n",
        "    surplus_ene = abs(energy_def)#make hydrogen from this\n",
        "    Pch_t = solar_energy-energy_def  # extra energy from solar used for PHS charge\n",
        "\n",
        "\n",
        "    Ep, Edump = pump_energy(pump, Pch_t, reservoir_lev)\n",
        "\n",
        "    reservoir_lev_up = reservoir_lev+pump_discharge(Ep, reservoir_lev)\n",
        "    energy_served+=Edump\n",
        "\n",
        "\n",
        "  return energy_served, turbine_supply, reservoir_lev_up, solar_energy, gasifier_energy"
      ]
    },
    {
      "cell_type": "code",
      "execution_count": 12,
      "metadata": {
        "id": "oaoBfZU8RN8n"
      },
      "outputs": [],
      "source": [
        "'''\n",
        "    Optimization for minimizing the LCOE.\n",
        "'''\n",
        "class ProblemWrapper(Problem):\n",
        "  def _evaluate(self, designs, out, *args, **kwargs):\n",
        "    res = []\n",
        "    res1 =[]\n",
        "    for design in designs:\n",
        "      # print(design)\n",
        "      solar, gasifier, pump, turbine = design\n",
        "\n",
        "      count = 0\n",
        "      Energy_prod_N = 0 #total energy throughout the project life produced\n",
        "      reservoir_lev = reservoir_max\n",
        "\n",
        "      for i in range(len(df)):\n",
        "        Energy_served, turbine_supply, reservoir_lev, solar_ene, gasifier_ene = Energy_prod_(energy_def=df['deficit_energy'][i], reservoir_lev=reservoir_lev, reservoir_max=reservoir_max, pump=pump, turbine=turbine, solar_rate=solar, solar_rad=df['ghi'][i], gasifier_rate=gasifier, temp=df['air_temperature'][i])\n",
        "        Energy_prod_N += Energy_served\n",
        "        energy_tot = df['deficit_energy'][i]+Energy_served\n",
        "        energy_tot = round(energy_tot, 4)\n",
        "\n",
        "        if energy_tot<0 and count!=1:\n",
        "          count = 1\n",
        "          break\n",
        "      asc, lcoe = LCOE(Energy_prod_N, solar, gasifier, pump, reservoir_max, turbine)\n",
        "      res.append(lcoe)\n",
        "      res1.append(count)\n",
        "    out['F']=np.array(res)\n",
        "    out['H']=np.array(res1)\n",
        "\n",
        "problem = ProblemWrapper(n_var=4, n_obj=1, n_eq_constr=1, xl=[0, 0, 0, 0], xu=[7440937, 2360000, int(pump_max), int(turbine_max)],vtype=int)"
      ]
    },
    {
      "cell_type": "code",
      "execution_count": 13,
      "metadata": {
        "id": "Ck478aNHTdaw"
      },
      "outputs": [],
      "source": [
        "from pymoo.algorithms.soo.nonconvex.ga import GA\n",
        "from pymoo.operators.sampling.rnd import IntegerRandomSampling\n",
        "from pymoo.operators.crossover.sbx import SBX\n",
        "from pymoo.operators.mutation.pm import PM\n",
        "from pymoo.operators.repair.rounding import RoundingRepair\n",
        "algorithm = GA(pop_size=20,\n",
        "               sampling=IntegerRandomSampling(),\n",
        "               crossover=SBX(prob=1.0, eta=3.0, vtype=int, repair=RoundingRepair()),\n",
        "               mutation=PM(prob=1.0, eta=3.0, vtype=int, repair=RoundingRepair()),\n",
        "               eliminate_duplicate=True)\n",
        "stop_criteria = ('n_gen', 50)"
      ]
    },
    {
      "cell_type": "code",
      "execution_count": 14,
      "metadata": {
        "colab": {
          "base_uri": "https://localhost:8080/"
        },
        "id": "hxwPFhpHThiw",
        "outputId": "1ba02659-1c1c-42f3-9c40-8e064452241d"
      },
      "outputs": [
        {
          "name": "stdout",
          "output_type": "stream",
          "text": [
            "=================================================================================\n",
            "n_gen  |  n_eval  |     cv_min    |     cv_avg    |     f_avg     |     f_min    \n",
            "=================================================================================\n",
            "     1 |       20 |  0.9999000000 |  0.9999000000 |             - |             -\n",
            "     2 |       40 |  0.9999000000 |  0.9999000000 |             - |             -\n",
            "     3 |       60 |  0.9999000000 |  0.9999000000 |             - |             -\n",
            "     4 |       80 |  0.000000E+00 |  0.8499150000 |  0.0858709099 |  0.0720186279\n",
            "     5 |      100 |  0.000000E+00 |  0.6499350000 |  0.0867720265 |  0.0720186279\n",
            "     6 |      120 |  0.000000E+00 |  0.4499550000 |  0.0861434301 |  0.0720186279\n",
            "     7 |      140 |  0.000000E+00 |  0.000000E+00 |  0.0780356748 |  0.0712260143\n",
            "     8 |      160 |  0.000000E+00 |  0.000000E+00 |  0.0730748099 |  0.0712260143\n",
            "     9 |      180 |  0.000000E+00 |  0.000000E+00 |  0.0716840998 |  0.0699447466\n",
            "    10 |      200 |  0.000000E+00 |  0.000000E+00 |  0.0713275426 |  0.0691129092\n",
            "    11 |      220 |  0.000000E+00 |  0.000000E+00 |  0.0709072701 |  0.0691129092\n",
            "    12 |      240 |  0.000000E+00 |  0.000000E+00 |  0.0704209263 |  0.0691129092\n",
            "    13 |      260 |  0.000000E+00 |  0.000000E+00 |  0.0698493789 |  0.0689576159\n",
            "    14 |      280 |  0.000000E+00 |  0.000000E+00 |  0.0693650153 |  0.0689342125\n",
            "    15 |      300 |  0.000000E+00 |  0.000000E+00 |  0.0692261866 |  0.0689342125\n",
            "    16 |      320 |  0.000000E+00 |  0.000000E+00 |  0.0691314540 |  0.0687928500\n",
            "    17 |      340 |  0.000000E+00 |  0.000000E+00 |  0.0690231672 |  0.0687928500\n",
            "    18 |      360 |  0.000000E+00 |  0.000000E+00 |  0.0689577123 |  0.0687928500\n",
            "    19 |      380 |  0.000000E+00 |  0.000000E+00 |  0.0689153820 |  0.0687920036\n",
            "    20 |      400 |  0.000000E+00 |  0.000000E+00 |  0.0688737032 |  0.0686836908\n",
            "    21 |      420 |  0.000000E+00 |  0.000000E+00 |  0.0688224572 |  0.0685705025\n",
            "    22 |      440 |  0.000000E+00 |  0.000000E+00 |  0.0687538752 |  0.0685232884\n",
            "    23 |      460 |  0.000000E+00 |  0.000000E+00 |  0.0686879813 |  0.0685232884\n",
            "    24 |      480 |  0.000000E+00 |  0.000000E+00 |  0.0686286562 |  0.0685232884\n",
            "    25 |      500 |  0.000000E+00 |  0.000000E+00 |  0.0685866938 |  0.0685201636\n",
            "    26 |      520 |  0.000000E+00 |  0.000000E+00 |  0.0685627740 |  0.0684899789\n",
            "    27 |      540 |  0.000000E+00 |  0.000000E+00 |  0.0685553532 |  0.0684899789\n",
            "    28 |      560 |  0.000000E+00 |  0.000000E+00 |  0.0685429090 |  0.0684899789\n",
            "    29 |      580 |  0.000000E+00 |  0.000000E+00 |  0.0685300113 |  0.0684899789\n",
            "    30 |      600 |  0.000000E+00 |  0.000000E+00 |  0.0685187954 |  0.0684851152\n",
            "    31 |      620 |  0.000000E+00 |  0.000000E+00 |  0.0685116517 |  0.0684832877\n",
            "    32 |      640 |  0.000000E+00 |  0.000000E+00 |  0.0685067267 |  0.0684832877\n",
            "    33 |      660 |  0.000000E+00 |  0.000000E+00 |  0.0685013610 |  0.0684832877\n",
            "    34 |      680 |  0.000000E+00 |  0.000000E+00 |  0.0684948250 |  0.0684831182\n",
            "    35 |      700 |  0.000000E+00 |  0.000000E+00 |  0.0684930183 |  0.0684831182\n",
            "    36 |      720 |  0.000000E+00 |  0.000000E+00 |  0.0684892519 |  0.0684831182\n",
            "    37 |      740 |  0.000000E+00 |  0.000000E+00 |  0.0684875468 |  0.0684831182\n",
            "    38 |      760 |  0.000000E+00 |  0.000000E+00 |  0.0684850289 |  0.0684793431\n",
            "    39 |      780 |  0.000000E+00 |  0.000000E+00 |  0.0684829196 |  0.0684727690\n",
            "    40 |      800 |  0.000000E+00 |  0.000000E+00 |  0.0684819098 |  0.0684727690\n",
            "    41 |      820 |  0.000000E+00 |  0.000000E+00 |  0.0684764487 |  0.0683805354\n",
            "    42 |      840 |  0.000000E+00 |  0.000000E+00 |  0.0684752261 |  0.0683805354\n",
            "    43 |      860 |  0.000000E+00 |  0.000000E+00 |  0.0684741668 |  0.0683805354\n",
            "    44 |      880 |  0.000000E+00 |  0.000000E+00 |  0.0684669113 |  0.0683789982\n",
            "    45 |      900 |  0.000000E+00 |  0.000000E+00 |  0.0684657191 |  0.0683789982\n",
            "    46 |      920 |  0.000000E+00 |  0.000000E+00 |  0.0684642159 |  0.0683789982\n",
            "    47 |      940 |  0.000000E+00 |  0.000000E+00 |  0.0684570468 |  0.0683789982\n",
            "    48 |      960 |  0.000000E+00 |  0.000000E+00 |  0.0684406274 |  0.0683789982\n",
            "    49 |      980 |  0.000000E+00 |  0.000000E+00 |  0.0684261998 |  0.0683787106\n",
            "    50 |     1000 |  0.000000E+00 |  0.000000E+00 |  0.0684131359 |  0.0683786241\n",
            "CPU times: total: 27min 3s\n",
            "Wall time: 1h 21min 4s\n"
          ]
        }
      ],
      "source": [
        "%%time\n",
        "results = minimize(problem=problem,\n",
        "                   algorithm=algorithm,\n",
        "                   termination=stop_criteria,\n",
        "                   verbose=True,\n",
        "                   seed=42,\n",
        "                   save_history=True)"
      ]
    },
    {
      "cell_type": "code",
      "execution_count": 16,
      "metadata": {
        "id": "xfd3JvcaThrg"
      },
      "outputs": [
        {
          "name": "stdout",
          "output_type": "stream",
          "text": [
            "Solar:7440910KW, Gasifier: 2119935KW, Pump: 90895KW, Turbine: 141180KW || LCOE: [0.06837862]USD/KWh\n",
            "990888.888888889 990888.888888889\n"
          ]
        }
      ],
      "source": [
        "'''\n",
        "Optimized results for SOO.\n",
        "'''\n",
        "solar, gasifier, pump, turbine = results.X\n",
        "print(f\"Solar:{solar}KW, Gasifier: {gasifier}KW, Pump: {pump}KW, Turbine: {turbine}KW || LCOE: {results.F}USD/KWh\")\n",
        "print(pump_max,turbine_max)"
      ]
    },
    {
      "cell_type": "code",
      "execution_count": 17,
      "metadata": {
        "id": "qBP30mkYWJQM"
      },
      "outputs": [
        {
          "data": {
            "image/png": "[encoded data removed]",
            "text/plain": [
              "<Figure size 640x480 with 1 Axes>"
            ]
          },
          "metadata": {},
          "output_type": "display_data"
        }
      ],
      "source": [
        "'''\n",
        "Convergence plot for SOO.\n",
        "'''\n",
        "import numpy as np\n",
        "import matplotlib.pyplot as plt\n",
        "\n",
        "n_evals = np.array([e.evaluator.n_eval for e in results.history])\n",
        "opt = np.array([e.opt[0].F for e in results.history])\n",
        "\n",
        "plt.title(\"Convergence\")\n",
        "plt.plot(n_evals[3:], opt[3:], \"--\")\n",
        "plt.xlabel(\"number of function evaluations\")\n",
        "plt.ylabel(\"LCOE(USD/KWh)\")\n",
        "plt.show()"
      ]
    },
    {
      "cell_type": "code",
      "execution_count": 20,
      "metadata": {
        "colab": {
          "base_uri": "https://localhost:8080/"
        },
        "id": "o5j-0k9SWMWI",
        "outputId": "b9ab289f-4f2f-427f-f6f6-540dff1d01bf"
      },
      "outputs": [
        {
          "name": "stdout",
          "output_type": "stream",
          "text": [
            "1042667827.391128 1.5029303263014617\n",
            "141180\n",
            "2507\n",
            "962689937.5699722\n"
          ]
        }
      ],
      "source": [
        "'''\n",
        "Viewing the operation of the optimized hybrid energy system.\n",
        "'''\n",
        "solar, gasifier, pump, turbine = results.X\n",
        "# solar, gasifier, battery = 3717620.230751795, 2209925.35022830, 4446649.505009017\n",
        "\n",
        "# Solar:3717620.230751795KW, Gasifier: 2209925.350228307KW, Battery: 4446649.505009017KWh || LCOE: [0.12784646]USD/KWh\n",
        "\n",
        "solar_array = []\n",
        "gasifier_array = []\n",
        "turbine_array = []\n",
        "deficit_array = []\n",
        "reservoir_array = []\n",
        "\n",
        "total_supply = []\n",
        "\n",
        "count = 0\n",
        "gasifier_up_hr = 0\n",
        "gasifier_energy = 0\n",
        "Energy_prod_N = 0\n",
        "reservoir_lev = reservoir_max\n",
        "count = 0\n",
        "Energy_prod_N = 0 #total energy throughout the project life produced\n",
        "reservoir_lev = reservoir_max\n",
        "\n",
        "# for i in range(len(df)):\n",
        "for i in range(8760):\n",
        "\n",
        "  Energy_served, turbine_supply, reservoir_lev, solar_ene, gasifier_ene = Energy_prod_(energy_def=df['deficit_energy'][i], reservoir_lev=reservoir_lev, reservoir_max=reservoir_max, pump=pump, turbine=turbine, solar_rate=solar, solar_rad=df['ghi'][i], gasifier_rate=gasifier, temp=df['air_temperature'][i])\n",
        "  Energy_prod_N += Energy_served\n",
        "  gasifier_energy+=gasifier_ene\n",
        "\n",
        "  if round(gasifier_ene, 2)>0:\n",
        "    gasifier_up_hr+=1\n",
        "\n",
        "  energy_tot = df['deficit_energy'][i]+Energy_served\n",
        "  energy_tot = round(energy_tot, 4)\n",
        "  deficit_array.append(df['deficit_energy'][i])\n",
        "  solar_array.append(solar_ene)\n",
        "  gasifier_array.append(gasifier_ene)\n",
        "  turbine_array.append(turbine_supply)\n",
        "  reservoir_array.append(reservoir_lev)\n",
        "  total_supply.append(Energy_served)\n",
        "asc, lcoe = LCOE(Energy_prod_N, solar, gasifier, pump, reservoir_max, turbine)\n",
        "print(asc, lcoe)\n",
        "print(np.array(turbine).max())\n",
        "print(gasifier_up_hr)\n",
        "print(gasifier_energy)"
      ]
    },
    {
      "cell_type": "code",
      "execution_count": 21,
      "metadata": {},
      "outputs": [
        {
          "data": {
            "text/plain": [
              "0.3500690682072626"
            ]
          },
          "execution_count": 21,
          "metadata": {},
          "output_type": "execute_result"
        }
      ],
      "source": [
        "gasifier_energy/(5*0.55*1000*1000000)"
      ]
    },
    {
      "cell_type": "code",
      "execution_count": 26,
      "metadata": {
        "colab": {
          "base_uri": "https://localhost:8080/",
          "height": 456
        },
        "id": "OR4AHxieXuBj",
        "outputId": "fb74fc06-fe3f-4191-8d60-40056eb90e37"
      },
      "outputs": [
        {
          "data": {
            "text/plain": [
              "<matplotlib.legend.Legend at 0x1b6453c3550>"
            ]
          },
          "execution_count": 26,
          "metadata": {},
          "output_type": "execute_result"
        },
        {
          "data": {
            "image/png": "[encoded data removed]",
            "text/plain": [
              "<Figure size 640x480 with 1 Axes>"
            ]
          },
          "metadata": {},
          "output_type": "display_data"
        }
      ],
      "source": [
        "'''\n",
        "Viewing the operation of the optimized hybrid energy system.\n",
        "'''\n",
        "i = 0 # start hour\n",
        "j = 100# end hour\n",
        "x = np.arange(i,j)\n",
        "plt.plot(x,solar_array[i:j], label='solar')\n",
        "plt.plot(x,gasifier_array[i:j], label='gasifier')\n",
        "plt.plot(x,turbine_array[i:j], label = 'turbine')\n",
        "plt.plot(x,-np.array(deficit_array[i:j]), label = 'deficit')\n",
        "# plt.plot(x, reservoir_array[i:j], label='reservoir')\n",
        "# plt.plot(x,np.array(deficit_array[i:j]), label = 'surplus')\n",
        "plt.xlabel(\"hour\")\n",
        "plt.ylabel(\"KW\")\n",
        "# plt.plot(x,total_supply[i:j], label = 'total')\n",
        "plt.grid()\n",
        "plt.legend(loc='upper right',bbox_to_anchor=(1.2,0.5))"
      ]
    },
    {
      "cell_type": "code",
      "execution_count": 24,
      "metadata": {
        "colab": {
          "base_uri": "https://localhost:8080/",
          "height": 462
        },
        "id": "VwpVBgyey0XU",
        "outputId": "38d058dc-fff6-41a7-c629-04e32bc82c6a"
      },
      "outputs": [
        {
          "data": {
            "text/plain": [
              "[<matplotlib.lines.Line2D at 0x1b646fbba10>]"
            ]
          },
          "execution_count": 24,
          "metadata": {},
          "output_type": "execute_result"
        },
        {
          "data": {
            "image/png": "[encoded data removed]",
            "text/plain": [
              "<Figure size 640x480 with 1 Axes>"
            ]
          },
          "metadata": {},
          "output_type": "display_data"
        }
      ],
      "source": [
        "plt.plot(x, reservoir_array[i:j], label='reservoir')"
      ]
    }
  ],
  "metadata": {
    "colab": {
      "authorship_tag": "ABX9TyNvsGJDdM1WUsCGEsJtZhr3",
      "include_colab_link": true,
      "provenance": []
    },
    "kernelspec": {
      "display_name": "Python 3",
      "name": "python3"
    },
    "language_info": {
      "codemirror_mode": {
        "name": "ipython",
        "version": 3
      },
      "file_extension": ".py",
      "mimetype": "text/x-python",
      "name": "python",
      "nbconvert_exporter": "python",
      "pygments_lexer": "ipython3",
      "version": "3.11.5"
    }
  },
  "nbformat": 4,
  "nbformat_minor": 0
}
