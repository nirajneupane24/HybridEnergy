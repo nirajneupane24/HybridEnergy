{
  "cells": [
    {
      "cell_type": "markdown",
      "metadata": {
        "id": "view-in-github",
        "colab_type": "text"
      },
      "source": [
        "<a href=\"https://colab.research.google.com/github/nirajneupane24/HybridEnergy/blob/master/today_Copy_of_Solar_Battery_gasifier.ipynb\" target=\"_parent\"><img src=\"https://colab.research.google.com/assets/colab-badge.svg\" alt=\"Open In Colab\"/></a>"
      ]
    },
    {
      "cell_type": "markdown",
      "metadata": {
        "id": "88mpm4EIHOGZ"
      },
      "source": [
        "#NEW"
      ]
    },
    {
      "cell_type": "code",
      "execution_count": null,
      "metadata": {
        "id": "iaCfZRu8HQQg"
      },
      "outputs": [],
      "source": [
        "# pymoo used for optimization\n",
        "from IPython.display import clear_output\n",
        "!pip install pymoo\n",
        "clear_output()"
      ]
    },
    {
      "cell_type": "code",
      "execution_count": null,
      "metadata": {
        "id": "KbwWxfbEI2nv"
      },
      "outputs": [],
      "source": [
        "# import necessary libraries\n",
        "import pandas as pd\n",
        "import numpy as np\n",
        "import matplotlib.pyplot as plt\n",
        "import pymoo\n",
        "from pymoo.optimize import minimize\n",
        "from pymoo.core.problem import Problem"
      ]
    },
    {
      "cell_type": "code",
      "execution_count": null,
      "metadata": {
        "id": "Rlmkk5RxJGgA"
      },
      "outputs": [],
      "source": [
        "# reading the hourly energy csv file \"contains hourly data for deficits, solar radiation and ambient air temperature(Jumla)\"\n",
        "df = pd.read_csv('HOURLY_DATA_new.csv')\n",
        "# df = df[0:500]\n",
        "'''\n",
        "     csv file has deficit energy in MWh, solar radiation(ghi) in W/m2, air temperature in celcius.\n",
        "    We perform the analysis in terms of KW.\n",
        "'''\n",
        "df['deficit_energy']=df['deficit_energy']*1000\n",
        "df['deficit_energy'] = df['deficit_energy'].apply(lambda x: round(x, 6))\n",
        "df['ghi']=df['ghi']/1000"
      ]
    },
    {
      "cell_type": "code",
      "execution_count": null,
      "metadata": {
        "colab": {
          "base_uri": "https://localhost:8080/",
          "height": 300
        },
        "id": "vRjcjr13LI3F",
        "outputId": "ee367cd1-f13d-4129-ce63-ebf460fb2d62"
      },
      "outputs": [
        {
          "output_type": "execute_result",
          "data": {
            "text/plain": [
              "          Unnamed: 0            ghi  air_temperature  deficit_energy\n",
              "count  183960.000000  183960.000000    183960.000000    1.839600e+05\n",
              "mean    91979.500000       0.218271        11.596737    2.363686e+05\n",
              "std     53104.822097       0.311458         8.223487    4.957133e+05\n",
              "min         0.000000       0.000000        -8.630000   -1.302164e+06\n",
              "25%     45989.750000       0.000000         4.888750   -1.272546e+05\n",
              "50%     91979.500000       0.005384        12.802500    1.943938e+05\n",
              "75%    137969.250000       0.403645        17.676667    5.229730e+05\n",
              "max    183959.000000       1.147850        29.931667    2.140979e+06"
            ],
            "text/html": [
              "\n",
              "  <div id=\"df-6670169f-3e4c-47bc-9596-b150dc21a9bf\" class=\"colab-df-container\">\n",
              "    <div>\n",
              "<style scoped>\n",
              "    .dataframe tbody tr th:only-of-type {\n",
              "        vertical-align: middle;\n",
              "    }\n",
              "\n",
              "    .dataframe tbody tr th {\n",
              "        vertical-align: top;\n",
              "    }\n",
              "\n",
              "    .dataframe thead th {\n",
              "        text-align: right;\n",
              "    }\n",
              "</style>\n",
              "<table border=\"1\" class=\"dataframe\">\n",
              "  <thead>\n",
              "    <tr style=\"text-align: right;\">\n",
              "      <th></th>\n",
              "      <th>Unnamed: 0</th>\n",
              "      <th>ghi</th>\n",
              "      <th>air_temperature</th>\n",
              "      <th>deficit_energy</th>\n",
              "    </tr>\n",
              "  </thead>\n",
              "  <tbody>\n",
              "    <tr>\n",
              "      <th>count</th>\n",
              "      <td>183960.000000</td>\n",
              "      <td>183960.000000</td>\n",
              "      <td>183960.000000</td>\n",
              "      <td>1.839600e+05</td>\n",
              "    </tr>\n",
              "    <tr>\n",
              "      <th>mean</th>\n",
              "      <td>91979.500000</td>\n",
              "      <td>0.218271</td>\n",
              "      <td>11.596737</td>\n",
              "      <td>2.363686e+05</td>\n",
              "    </tr>\n",
              "    <tr>\n",
              "      <th>std</th>\n",
              "      <td>53104.822097</td>\n",
              "      <td>0.311458</td>\n",
              "      <td>8.223487</td>\n",
              "      <td>4.957133e+05</td>\n",
              "    </tr>\n",
              "    <tr>\n",
              "      <th>min</th>\n",
              "      <td>0.000000</td>\n",
              "      <td>0.000000</td>\n",
              "      <td>-8.630000</td>\n",
              "      <td>-1.302164e+06</td>\n",
              "    </tr>\n",
              "    <tr>\n",
              "      <th>25%</th>\n",
              "      <td>45989.750000</td>\n",
              "      <td>0.000000</td>\n",
              "      <td>4.888750</td>\n",
              "      <td>-1.272546e+05</td>\n",
              "    </tr>\n",
              "    <tr>\n",
              "      <th>50%</th>\n",
              "      <td>91979.500000</td>\n",
              "      <td>0.005384</td>\n",
              "      <td>12.802500</td>\n",
              "      <td>1.943938e+05</td>\n",
              "    </tr>\n",
              "    <tr>\n",
              "      <th>75%</th>\n",
              "      <td>137969.250000</td>\n",
              "      <td>0.403645</td>\n",
              "      <td>17.676667</td>\n",
              "      <td>5.229730e+05</td>\n",
              "    </tr>\n",
              "    <tr>\n",
              "      <th>max</th>\n",
              "      <td>183959.000000</td>\n",
              "      <td>1.147850</td>\n",
              "      <td>29.931667</td>\n",
              "      <td>2.140979e+06</td>\n",
              "    </tr>\n",
              "  </tbody>\n",
              "</table>\n",
              "</div>\n",
              "    <div class=\"colab-df-buttons\">\n",
              "\n",
              "  <div class=\"colab-df-container\">\n",
              "    <button class=\"colab-df-convert\" onclick=\"convertToInteractive('df-6670169f-3e4c-47bc-9596-b150dc21a9bf')\"\n",
              "            title=\"Convert this dataframe to an interactive table.\"\n",
              "            style=\"display:none;\">\n",
              "\n",
              "  <svg xmlns=\"http://www.w3.org/2000/svg\" height=\"24px\" viewBox=\"0 -960 960 960\">\n",
              "    <path d=\"M120-120v-720h720v720H120Zm60-500h600v-160H180v160Zm220 220h160v-160H400v160Zm0 220h160v-160H400v160ZM180-400h160v-160H180v160Zm440 0h160v-160H620v160ZM180-180h160v-160H180v160Zm440 0h160v-160H620v160Z\"/>\n",
              "  </svg>\n",
              "    </button>\n",
              "\n",
              "  <style>\n",
              "    .colab-df-container {\n",
              "      display:flex;\n",
              "      gap: 12px;\n",
              "    }\n",
              "\n",
              "    .colab-df-convert {\n",
              "      background-color: #E8F0FE;\n",
              "      border: none;\n",
              "      border-radius: 50%;\n",
              "      cursor: pointer;\n",
              "      display: none;\n",
              "      fill: #1967D2;\n",
              "      height: 32px;\n",
              "      padding: 0 0 0 0;\n",
              "      width: 32px;\n",
              "    }\n",
              "\n",
              "    .colab-df-convert:hover {\n",
              "      background-color: #E2EBFA;\n",
              "      box-shadow: 0px 1px 2px rgba(60, 64, 67, 0.3), 0px 1px 3px 1px rgba(60, 64, 67, 0.15);\n",
              "      fill: #174EA6;\n",
              "    }\n",
              "\n",
              "    .colab-df-buttons div {\n",
              "      margin-bottom: 4px;\n",
              "    }\n",
              "\n",
              "    [theme=dark] .colab-df-convert {\n",
              "      background-color: #3B4455;\n",
              "      fill: #D2E3FC;\n",
              "    }\n",
              "\n",
              "    [theme=dark] .colab-df-convert:hover {\n",
              "      background-color: #434B5C;\n",
              "      box-shadow: 0px 1px 3px 1px rgba(0, 0, 0, 0.15);\n",
              "      filter: drop-shadow(0px 1px 2px rgba(0, 0, 0, 0.3));\n",
              "      fill: #FFFFFF;\n",
              "    }\n",
              "  </style>\n",
              "\n",
              "    <script>\n",
              "      const buttonEl =\n",
              "        document.querySelector('#df-6670169f-3e4c-47bc-9596-b150dc21a9bf button.colab-df-convert');\n",
              "      buttonEl.style.display =\n",
              "        google.colab.kernel.accessAllowed ? 'block' : 'none';\n",
              "\n",
              "      async function convertToInteractive(key) {\n",
              "        const element = document.querySelector('#df-6670169f-3e4c-47bc-9596-b150dc21a9bf');\n",
              "        const dataTable =\n",
              "          await google.colab.kernel.invokeFunction('convertToInteractive',\n",
              "                                                    [key], {});\n",
              "        if (!dataTable) return;\n",
              "\n",
              "        const docLinkHtml = 'Like what you see? Visit the ' +\n",
              "          '<a target=\"_blank\" href=https://colab.research.google.com/notebooks/data_table.ipynb>data table notebook</a>'\n",
              "          + ' to learn more about interactive tables.';\n",
              "        element.innerHTML = '';\n",
              "        dataTable['output_type'] = 'display_data';\n",
              "        await google.colab.output.renderOutput(dataTable, element);\n",
              "        const docLink = document.createElement('div');\n",
              "        docLink.innerHTML = docLinkHtml;\n",
              "        element.appendChild(docLink);\n",
              "      }\n",
              "    </script>\n",
              "  </div>\n",
              "\n",
              "\n",
              "<div id=\"df-033288af-7859-42a0-a9c4-a4770ecfd1ff\">\n",
              "  <button class=\"colab-df-quickchart\" onclick=\"quickchart('df-033288af-7859-42a0-a9c4-a4770ecfd1ff')\"\n",
              "            title=\"Suggest charts\"\n",
              "            style=\"display:none;\">\n",
              "\n",
              "<svg xmlns=\"http://www.w3.org/2000/svg\" height=\"24px\"viewBox=\"0 0 24 24\"\n",
              "     width=\"24px\">\n",
              "    <g>\n",
              "        <path d=\"M19 3H5c-1.1 0-2 .9-2 2v14c0 1.1.9 2 2 2h14c1.1 0 2-.9 2-2V5c0-1.1-.9-2-2-2zM9 17H7v-7h2v7zm4 0h-2V7h2v10zm4 0h-2v-4h2v4z\"/>\n",
              "    </g>\n",
              "</svg>\n",
              "  </button>\n",
              "\n",
              "<style>\n",
              "  .colab-df-quickchart {\n",
              "      --bg-color: #E8F0FE;\n",
              "      --fill-color: #1967D2;\n",
              "      --hover-bg-color: #E2EBFA;\n",
              "      --hover-fill-color: #174EA6;\n",
              "      --disabled-fill-color: #AAA;\n",
              "      --disabled-bg-color: #DDD;\n",
              "  }\n",
              "\n",
              "  [theme=dark] .colab-df-quickchart {\n",
              "      --bg-color: #3B4455;\n",
              "      --fill-color: #D2E3FC;\n",
              "      --hover-bg-color: #434B5C;\n",
              "      --hover-fill-color: #FFFFFF;\n",
              "      --disabled-bg-color: #3B4455;\n",
              "      --disabled-fill-color: #666;\n",
              "  }\n",
              "\n",
              "  .colab-df-quickchart {\n",
              "    background-color: var(--bg-color);\n",
              "    border: none;\n",
              "    border-radius: 50%;\n",
              "    cursor: pointer;\n",
              "    display: none;\n",
              "    fill: var(--fill-color);\n",
              "    height: 32px;\n",
              "    padding: 0;\n",
              "    width: 32px;\n",
              "  }\n",
              "\n",
              "  .colab-df-quickchart:hover {\n",
              "    background-color: var(--hover-bg-color);\n",
              "    box-shadow: 0 1px 2px rgba(60, 64, 67, 0.3), 0 1px 3px 1px rgba(60, 64, 67, 0.15);\n",
              "    fill: var(--button-hover-fill-color);\n",
              "  }\n",
              "\n",
              "  .colab-df-quickchart-complete:disabled,\n",
              "  .colab-df-quickchart-complete:disabled:hover {\n",
              "    background-color: var(--disabled-bg-color);\n",
              "    fill: var(--disabled-fill-color);\n",
              "    box-shadow: none;\n",
              "  }\n",
              "\n",
              "  .colab-df-spinner {\n",
              "    border: 2px solid var(--fill-color);\n",
              "    border-color: transparent;\n",
              "    border-bottom-color: var(--fill-color);\n",
              "    animation:\n",
              "      spin 1s steps(1) infinite;\n",
              "  }\n",
              "\n",
              "  @keyframes spin {\n",
              "    0% {\n",
              "      border-color: transparent;\n",
              "      border-bottom-color: var(--fill-color);\n",
              "      border-left-color: var(--fill-color);\n",
              "    }\n",
              "    20% {\n",
              "      border-color: transparent;\n",
              "      border-left-color: var(--fill-color);\n",
              "      border-top-color: var(--fill-color);\n",
              "    }\n",
              "    30% {\n",
              "      border-color: transparent;\n",
              "      border-left-color: var(--fill-color);\n",
              "      border-top-color: var(--fill-color);\n",
              "      border-right-color: var(--fill-color);\n",
              "    }\n",
              "    40% {\n",
              "      border-color: transparent;\n",
              "      border-right-color: var(--fill-color);\n",
              "      border-top-color: var(--fill-color);\n",
              "    }\n",
              "    60% {\n",
              "      border-color: transparent;\n",
              "      border-right-color: var(--fill-color);\n",
              "    }\n",
              "    80% {\n",
              "      border-color: transparent;\n",
              "      border-right-color: var(--fill-color);\n",
              "      border-bottom-color: var(--fill-color);\n",
              "    }\n",
              "    90% {\n",
              "      border-color: transparent;\n",
              "      border-bottom-color: var(--fill-color);\n",
              "    }\n",
              "  }\n",
              "</style>\n",
              "\n",
              "  <script>\n",
              "    async function quickchart(key) {\n",
              "      const quickchartButtonEl =\n",
              "        document.querySelector('#' + key + ' button');\n",
              "      quickchartButtonEl.disabled = true;  // To prevent multiple clicks.\n",
              "      quickchartButtonEl.classList.add('colab-df-spinner');\n",
              "      try {\n",
              "        const charts = await google.colab.kernel.invokeFunction(\n",
              "            'suggestCharts', [key], {});\n",
              "      } catch (error) {\n",
              "        console.error('Error during call to suggestCharts:', error);\n",
              "      }\n",
              "      quickchartButtonEl.classList.remove('colab-df-spinner');\n",
              "      quickchartButtonEl.classList.add('colab-df-quickchart-complete');\n",
              "    }\n",
              "    (() => {\n",
              "      let quickchartButtonEl =\n",
              "        document.querySelector('#df-033288af-7859-42a0-a9c4-a4770ecfd1ff button');\n",
              "      quickchartButtonEl.style.display =\n",
              "        google.colab.kernel.accessAllowed ? 'block' : 'none';\n",
              "    })();\n",
              "  </script>\n",
              "</div>\n",
              "\n",
              "    </div>\n",
              "  </div>\n"
            ],
            "application/vnd.google.colaboratory.intrinsic+json": {
              "type": "dataframe",
              "summary": "{\n  \"name\": \"df\",\n  \"rows\": 8,\n  \"fields\": [\n    {\n      \"column\": \"Unnamed: 0\",\n      \"properties\": {\n        \"dtype\": \"number\",\n        \"std\": 66299.85506375325,\n        \"min\": 0.0,\n        \"max\": 183960.0,\n        \"num_unique_values\": 7,\n        \"samples\": [\n          183960.0,\n          91979.5,\n          137969.25\n        ],\n        \"semantic_type\": \"\",\n        \"description\": \"\"\n      }\n    },\n    {\n      \"column\": \"ghi\",\n      \"properties\": {\n        \"dtype\": \"number\",\n        \"std\": 65039.5763450409,\n        \"min\": 0.0,\n        \"max\": 183960.0,\n        \"num_unique_values\": 7,\n        \"samples\": [\n          183960.0,\n          0.21827050722983257,\n          0.4036445833333333\n        ],\n        \"semantic_type\": \"\",\n        \"description\": \"\"\n      }\n    },\n    {\n      \"column\": \"air_temperature\",\n      \"properties\": {\n        \"dtype\": \"number\",\n        \"std\": 65035.81933405087,\n        \"min\": -8.629999999999999,\n        \"max\": 183960.0,\n        \"num_unique_values\": 8,\n        \"samples\": [\n          11.59673725266362,\n          12.8025,\n          183960.0\n        ],\n        \"semantic_type\": \"\",\n        \"description\": \"\"\n      }\n    },\n    {\n      \"column\": \"deficit_energy\",\n      \"properties\": {\n        \"dtype\": \"number\",\n        \"std\": 945288.0799790676,\n        \"min\": -1302163.686601,\n        \"max\": 2140978.786505,\n        \"num_unique_values\": 8,\n        \"samples\": [\n          236368.63966439466,\n          194393.80584,\n          183960.0\n        ],\n        \"semantic_type\": \"\",\n        \"description\": \"\"\n      }\n    }\n  ]\n}"
            }
          },
          "metadata": {},
          "execution_count": 10
        }
      ],
      "source": [
        "df.describe()"
      ]
    },
    {
      "cell_type": "code",
      "source": [
        "only_deficit = df['deficit_energy'].to_numpy()\n",
        "only_deficit[only_deficit>0] = 0\n",
        "print(only_deficit.sum())\n",
        "total_deficit = -only_deficit.sum()\n",
        "total_deficit"
      ],
      "metadata": {
        "id": "8nqDwmCSlRtW",
        "outputId": "2868f21a-1fb9-4199-8f9a-782845f218b3",
        "colab": {
          "base_uri": "https://localhost:8080/"
        }
      },
      "execution_count": null,
      "outputs": [
        {
          "output_type": "stream",
          "name": "stdout",
          "text": [
            "-16409703649.624172\n"
          ]
        },
        {
          "output_type": "execute_result",
          "data": {
            "text/plain": [
              "16409703649.624172"
            ]
          },
          "metadata": {},
          "execution_count": 11
        }
      ]
    },
    {
      "cell_type": "code",
      "execution_count": null,
      "metadata": {
        "colab": {
          "base_uri": "https://localhost:8080/"
        },
        "id": "cQXVkSLIcC9n",
        "outputId": "2e12fcc7-2da1-486c-b7e4-3b645798644f"
      },
      "outputs": [
        {
          "output_type": "execute_result",
          "data": {
            "text/plain": [
              "-16409703649.624172"
            ]
          },
          "metadata": {},
          "execution_count": 12
        }
      ],
      "source": [
        "df['deficit_energy'].sum()"
      ]
    },
    {
      "cell_type": "code",
      "execution_count": null,
      "metadata": {
        "id": "C8NkzT04KT4S"
      },
      "outputs": [],
      "source": [
        "'''\n",
        "    All the necessary constants required for modeling.\n",
        "'''\n",
        "N = 20 # project_life\n",
        "i = 0.06 # interest_rate\n",
        "\n",
        "solar_cost_unit = 727 # usd/kW(capex)\n",
        "solar_OM = 4 # usd/kW.year(opex)\n",
        "\n",
        "CRF = (i*((1+i)**N))/(((1+i)**N)-1) # capital recovery factor\n",
        "d_f = 0.88 #derating_factor\n",
        "Gt_stc = 1 #kw/m2\n",
        "ap = -0.0035 #solar mod temp coeff of power(%/oC)\n",
        "T_cstc = 25 #oC standard temp\n",
        "NOCT = 45 #oC\n",
        "n_bat = 0.92 #round trip efficieny\n",
        "\n",
        "gasifier_cost_unit = 2300 # usd/kW(capex)\n",
        "gasifier_OM = 2 # usd/kW.year(opex)\n",
        "gasifier_CUF = 0.55 # capacity utilization factor\n",
        "\n",
        "battery_cost_unit = 223.24 # usd/kW(capex)\n",
        "battery_OM_per = 1.5 # 1.5% of capex annuity(opex)"
      ]
    },
    {
      "cell_type": "code",
      "execution_count": null,
      "metadata": {
        "id": "i7ghEDS5NH1S"
      },
      "outputs": [],
      "source": [
        "'''\n",
        "    Calculating the Annualized system cost(ASC) and the levelised cost of energy(LCOE)\n",
        "'''\n",
        "def cost_pv(solar):\n",
        "  solar_cost = solar*((CRF*solar_cost_unit)+solar_OM)\n",
        "  return solar_cost\n",
        "\n",
        "def cost_gasifier(gasifier):\n",
        "  gasifier_cost = gasifier*((CRF*gasifier_cost_unit)+gasifier_OM)\n",
        "  return gasifier_cost\n",
        "\n",
        "def cost_battery(battery):\n",
        "  battery_cap = battery*battery_cost_unit\n",
        "  battery_op = battery_cap*CRF*battery_OM_per/100\n",
        "  battery_cost = battery_cap*CRF+battery_op\n",
        "  return battery_cost\n",
        "\n",
        "# def LCOE(total_energy_prod, solar, gasifier, battery):\n",
        "def LCOE(total_deficit, solar, gasifier, battery):\n",
        "  ASC = cost_pv(solar)+cost_gasifier(gasifier)+cost_battery(battery)\n",
        "  energy_prod_per_year = total_deficit/N\n",
        "  lcoe = ASC/(energy_prod_per_year)\n",
        "  return ASC, lcoe"
      ]
    },
    {
      "cell_type": "code",
      "execution_count": null,
      "metadata": {
        "id": "6jcJHrh3OkjJ"
      },
      "outputs": [],
      "source": [
        "'''\n",
        "    Calculating the energy produced by the solar panel and gasifier.\n",
        "'''\n",
        "def solar_ene_prod(solar_rate, solar_rad, temp):\n",
        "  T_cell = temp+Gt_stc*((NOCT-20)/0.8)\n",
        "  p_op = solar_rate*d_f*(solar_rad/Gt_stc)*(1+ap*(T_cell-T_cstc))\n",
        "  return p_op\n",
        "\n",
        "def gasifier_ene_prod(gasifier_rate):\n",
        "  return gasifier_rate*gasifier_CUF"
      ]
    },
    {
      "cell_type": "code",
      "execution_count": null,
      "metadata": {
        "id": "xEYLfwTHOzbk"
      },
      "outputs": [],
      "source": [
        "'''\n",
        "    Hybrid Energy system operational strategy\n",
        "'''\n",
        "def Energy_prod_(energy_def, battery_E, battery_max, solar_rate, solar_rad, gasifier_rate, temp):\n",
        "  energy_def=-energy_def\n",
        "  energy_prod = 0\n",
        "  energy_served = 0\n",
        "  solar_energy = 0\n",
        "  gasifier_energy = 0\n",
        "  battery_E_up = battery_E\n",
        "  battery_supply = 0\n",
        "  solar_energy = solar_ene_prod(solar_rate, solar_rad, temp)\n",
        "\n",
        "  if energy_def>0:\n",
        "    '''\n",
        "    Energy deficit strategy\n",
        "    '''\n",
        "    if solar_energy-energy_def<0:\n",
        "      '''\n",
        "      Solar cannot fulfill the energy deficit.\n",
        "      Run battery and gasifier.\n",
        "      '''\n",
        "      # req_energy needs to be addressed by gasifier and battery\n",
        "      req_energy = energy_def-solar_energy\n",
        "      energy_served+=solar_energy\n",
        "\n",
        "      if battery_E>battery_max*0.3:\n",
        "        if req_energy<=(battery_E-battery_max*0.3):\n",
        "          '''\n",
        "          req_energy met by only battery\n",
        "          '''\n",
        "          battery_supply = req_energy\n",
        "          battery_E_up = battery_E-req_energy\n",
        "          energy_served+=battery_supply\n",
        "\n",
        "        else:\n",
        "          '''\n",
        "          req_energy met by battery and gasifier\n",
        "          '''\n",
        "          gasifier_E_req = req_energy-(battery_E-battery_max*0.3)\n",
        "          battery_supply = battery_E-0.3*battery_max\n",
        "          energy_served+=battery_supply\n",
        "          battery_E_up = 0.3*battery_max\n",
        "          gasifier_energy_op = gasifier_ene_prod(gasifier_rate)\n",
        "\n",
        "          if gasifier_energy_op>gasifier_E_req:\n",
        "            gasifier_energy = gasifier_E_req\n",
        "            energy_served+=gasifier_energy\n",
        "\n",
        "          else:\n",
        "            pass\n",
        "            '''\n",
        "            Hybrid energy system cannot fulfill the energy deficit.\n",
        "            New hybrid combination required.\n",
        "            '''\n",
        "            # print(\"# THE CURRENT SYSTEM RATING ISN'T ABLE TO FULLFIL THE DEFECIT, NEW HYBRID COMBINATION REQUIRED\")\n",
        "\n",
        "      else:\n",
        "        '''\n",
        "        req_energy met only by gasifier\n",
        "        '''\n",
        "        gasifier_energy_op = gasifier_ene_prod(gasifier_rate)\n",
        "\n",
        "        if req_energy<gasifier_energy_op:\n",
        "          gasifier_energy = req_energy\n",
        "          energy_served+=gasifier_energy\n",
        "        else:\n",
        "          pass\n",
        "          '''\n",
        "          Hybrid energy system cannot fulfill the energy deficit.\n",
        "          New hybrid combination required.\n",
        "          '''\n",
        "          # print(\"THE CURRENT SYSTEM RATING ISN'T ABLE TO FULLFIL THE DEFECIT, NEW HYBRID COMBINATION REQUIRED\")\n",
        "\n",
        "    else:\n",
        "      '''\n",
        "      Solar can fulfill the energy deficit.\n",
        "      Extra energy from the solar panel is used to charge the battery.\n",
        "      '''\n",
        "      energy_served+=energy_def # solar panel served the entire deficit energy\n",
        "      Pch_t = solar_energy-energy_def # extra energy from solar used for charging battery\n",
        "      Ech_t = Pch_t*n_bat\n",
        "\n",
        "      if Ech_t<=battery_max-battery_E:\n",
        "        #battery isn't fully charged\n",
        "        battery_E_up = battery_E+Ech_t\n",
        "\n",
        "      else:\n",
        "        #battery gets fully charged, E_dump is the remaining energy served to the grid\n",
        "        battery_E_up = battery_max\n",
        "        E_dump = Ech_t - (battery_max-battery_E)\n",
        "        energy_served+=(E_dump/n_bat)\n",
        "        Ech_t = battery_max-battery_E\n",
        "\n",
        "    energy_prod = solar_energy + gasifier_energy\n",
        "\n",
        "  else :\n",
        "    '''\n",
        "    Energy surplus strategy\n",
        "    '''\n",
        "    energy_prod=solar_energy+gasifier_energy\n",
        "    surplus_ene = abs(energy_def)\n",
        "\n",
        "    Pch_t = solar_energy\n",
        "    Ech_t = Pch_t*n_bat\n",
        "\n",
        "    if Ech_t<=battery_max-battery_E:\n",
        "      battery_E_up = battery_E+Ech_t\n",
        "\n",
        "    else:\n",
        "      battery_E_up = battery_max\n",
        "      E_dump = Ech_t - (battery_max-battery_E)\n",
        "      energy_served+=(E_dump/n_bat)\n",
        "      Ech_t = battery_max-battery_E\n",
        "\n",
        "  return energy_served, battery_supply, battery_E_up, solar_energy, gasifier_energy"
      ]
    },
    {
      "cell_type": "code",
      "execution_count": null,
      "metadata": {
        "id": "gSeOk1Y1UXlY"
      },
      "outputs": [],
      "source": [
        "'''\n",
        "    Optimization for minimizing the LCOE.\n",
        "'''\n",
        "class ProblemWrapper(Problem):\n",
        "  def _evaluate(self, designs, out, *args, **kwargs):\n",
        "    res = []\n",
        "    res1 =[]\n",
        "    for design in designs:\n",
        "\n",
        "      solar, gasifier, battery = design\n",
        "\n",
        "      count = 0\n",
        "      Energy_prod_N = 0 #total energy throughout the project life produced\n",
        "      battery_E = battery\n",
        "\n",
        "      for i in range(len(df)):\n",
        "        n_battery_E = battery_E\n",
        "        Energy_served,battery_supply, battery_E, _, _ = Energy_prod_(energy_def=df['deficit_energy'][i] ,battery_E=battery_E ,battery_max=battery, solar_rate=solar, solar_rad=df['ghi'][i], gasifier_rate=gasifier, temp=df['air_temperature'][i])\n",
        "        Energy_prod_N += Energy_served\n",
        "        energy_tot = df['deficit_energy'][i]+Energy_served\n",
        "        energy_tot = round(energy_tot, 4)\n",
        "\n",
        "        if energy_tot<0 and count!=1:\n",
        "          count = 1\n",
        "          break\n",
        "\n",
        "      asc, lcoe = LCOE(total_deficit, solar, gasifier, battery)\n",
        "      res.append(lcoe)\n",
        "      res1.append(count)\n",
        "    out['F']=np.array(res)\n",
        "    out['H']=np.array(res1)\n",
        "\n",
        "problem = ProblemWrapper(n_var=3, n_obj=1, n_eq_constr=1, xl=[0, 0, 0], xu=[7440937, 2360000, 7440937],vtype=int)"
      ]
    },
    {
      "cell_type": "code",
      "execution_count": null,
      "metadata": {
        "id": "p6uXTZcbVemk"
      },
      "outputs": [],
      "source": [
        "from pymoo.algorithms.soo.nonconvex.ga import GA\n",
        "from pymoo.operators.sampling.rnd import IntegerRandomSampling\n",
        "from pymoo.operators.crossover.sbx import SBX\n",
        "from pymoo.operators.mutation.pm import PM\n",
        "from pymoo.operators.repair.rounding import RoundingRepair\n",
        "algorithm = GA(pop_size=20,\n",
        "               sampling=IntegerRandomSampling(),\n",
        "               crossover=SBX(prob=1.0, eta=3.0, vtype=int, repair=RoundingRepair()),\n",
        "               mutation=PM(prob=1.0, eta=3.0, vtype=int, repair=RoundingRepair()),\n",
        "               eliminate_duplicate=True)\n",
        "stop_criteria = ('n_gen', 50)"
      ]
    },
    {
      "cell_type": "code",
      "execution_count": null,
      "metadata": {
        "colab": {
          "base_uri": "https://localhost:8080/"
        },
        "id": "x6ciiRrwV1Mp",
        "outputId": "24f19d8e-c2bf-4fb6-e0b9-c15e9af4d470"
      },
      "outputs": [
        {
          "output_type": "stream",
          "name": "stdout",
          "text": [
            "=================================================================================\n",
            "n_gen  |  n_eval  |     cv_min    |     cv_avg    |     f_avg     |     f_min    \n",
            "=================================================================================\n",
            "     1 |       20 |  0.000000E+00 |  0.9499050000 |  1.2198360444 |  1.2198360444\n",
            "     2 |       40 |  0.000000E+00 |  0.8999100000 |  1.2704055266 |  1.2198360444\n",
            "     3 |       60 |  0.000000E+00 |  0.7999200000 |  1.2443539962 |  1.1998831138\n",
            "     4 |       80 |  0.000000E+00 |  0.5999400000 |  1.2243329164 |  1.1184066988\n",
            "     5 |      100 |  0.000000E+00 |  0.2499750000 |  1.2265286758 |  1.0997043725\n",
            "     6 |      120 |  0.000000E+00 |  0.000000E+00 |  1.1819142822 |  1.0831043246\n",
            "     7 |      140 |  0.000000E+00 |  0.000000E+00 |  1.1241670171 |  1.0682835585\n",
            "     8 |      160 |  0.000000E+00 |  0.000000E+00 |  1.0926903176 |  0.9986275802\n",
            "     9 |      180 |  0.000000E+00 |  0.000000E+00 |  1.0772375813 |  0.9986275802\n",
            "    10 |      200 |  0.000000E+00 |  0.000000E+00 |  1.0614460477 |  0.9338312745\n",
            "    11 |      220 |  0.000000E+00 |  0.000000E+00 |  1.0477818899 |  0.9338312745\n",
            "    12 |      240 |  0.000000E+00 |  0.000000E+00 |  1.0028576963 |  0.8985659544\n",
            "    13 |      260 |  0.000000E+00 |  0.000000E+00 |  0.9869390825 |  0.8985659544\n",
            "    14 |      280 |  0.000000E+00 |  0.000000E+00 |  0.9631718819 |  0.8985659544\n",
            "    15 |      300 |  0.000000E+00 |  0.000000E+00 |  0.9499838437 |  0.8985659544\n",
            "    16 |      320 |  0.000000E+00 |  0.000000E+00 |  0.9309055753 |  0.8978566564\n",
            "    17 |      340 |  0.000000E+00 |  0.000000E+00 |  0.9277575915 |  0.8978566564\n",
            "    18 |      360 |  0.000000E+00 |  0.000000E+00 |  0.9193295398 |  0.8974389970\n",
            "    19 |      380 |  0.000000E+00 |  0.000000E+00 |  0.9121060481 |  0.8974389970\n",
            "    20 |      400 |  0.000000E+00 |  0.000000E+00 |  0.9055246014 |  0.8943938004\n",
            "    21 |      420 |  0.000000E+00 |  0.000000E+00 |  0.9027286205 |  0.8943938004\n",
            "    22 |      440 |  0.000000E+00 |  0.000000E+00 |  0.8994070621 |  0.8943938004\n",
            "    23 |      460 |  0.000000E+00 |  0.000000E+00 |  0.8984222357 |  0.8943938004\n",
            "    24 |      480 |  0.000000E+00 |  0.000000E+00 |  0.8976816458 |  0.8941993514\n",
            "    25 |      500 |  0.000000E+00 |  0.000000E+00 |  0.8968671703 |  0.8941993514\n",
            "    26 |      520 |  0.000000E+00 |  0.000000E+00 |  0.8963519700 |  0.8941993514\n",
            "    27 |      540 |  0.000000E+00 |  0.000000E+00 |  0.8959551930 |  0.8941993514\n",
            "    28 |      560 |  0.000000E+00 |  0.000000E+00 |  0.8954985688 |  0.8938345226\n",
            "    29 |      580 |  0.000000E+00 |  0.000000E+00 |  0.8950338924 |  0.8938345226\n",
            "    30 |      600 |  0.000000E+00 |  0.000000E+00 |  0.8944814044 |  0.8938345226\n",
            "    31 |      620 |  0.000000E+00 |  0.000000E+00 |  0.8942098186 |  0.8938266493\n",
            "    32 |      640 |  0.000000E+00 |  0.000000E+00 |  0.8941069521 |  0.8938266493\n",
            "    33 |      660 |  0.000000E+00 |  0.000000E+00 |  0.8940263642 |  0.8938266493\n",
            "    34 |      680 |  0.000000E+00 |  0.000000E+00 |  0.8940025102 |  0.8938023404\n",
            "    35 |      700 |  0.000000E+00 |  0.000000E+00 |  0.8939354283 |  0.8938023404\n",
            "    36 |      720 |  0.000000E+00 |  0.000000E+00 |  0.8938520706 |  0.8930840029\n",
            "    37 |      740 |  0.000000E+00 |  0.000000E+00 |  0.8937812391 |  0.8926321346\n",
            "    38 |      760 |  0.000000E+00 |  0.000000E+00 |  0.8937481597 |  0.8926321346\n",
            "    39 |      780 |  0.000000E+00 |  0.000000E+00 |  0.8937391598 |  0.8926321346\n",
            "    40 |      800 |  0.000000E+00 |  0.000000E+00 |  0.8936159639 |  0.8926321346\n",
            "    41 |      820 |  0.000000E+00 |  0.000000E+00 |  0.8935586042 |  0.8926321346\n",
            "    42 |      840 |  0.000000E+00 |  0.000000E+00 |  0.8933310920 |  0.8926321346\n",
            "    43 |      860 |  0.000000E+00 |  0.000000E+00 |  0.8931093028 |  0.8926321346\n",
            "    44 |      880 |  0.000000E+00 |  0.000000E+00 |  0.8928537475 |  0.8926125530\n",
            "    45 |      900 |  0.000000E+00 |  0.000000E+00 |  0.8926980795 |  0.8926125530\n",
            "    46 |      920 |  0.000000E+00 |  0.000000E+00 |  0.8926629718 |  0.8926125530\n",
            "    47 |      940 |  0.000000E+00 |  0.000000E+00 |  0.8926423766 |  0.8926125530\n",
            "    48 |      960 |  0.000000E+00 |  0.000000E+00 |  0.8926358940 |  0.8926125530\n",
            "    49 |      980 |  0.000000E+00 |  0.000000E+00 |  0.8926205875 |  0.8926063817\n",
            "    50 |     1000 |  0.000000E+00 |  0.000000E+00 |  0.8926175185 |  0.8926063817\n",
            "CPU times: user 1h 9min 39s, sys: 10.1 s, total: 1h 9min 49s\n",
            "Wall time: 1h 10min 21s\n"
          ]
        }
      ],
      "source": [
        "%%time\n",
        "results = minimize(problem=problem,\n",
        "                   algorithm=algorithm,\n",
        "                   termination=stop_criteria,\n",
        "                   verbose=True,\n",
        "                   seed=42,\n",
        "                   save_history=True)"
      ]
    },
    {
      "cell_type": "code",
      "execution_count": null,
      "metadata": {
        "colab": {
          "base_uri": "https://localhost:8080/"
        },
        "id": "HDUBuiJkWG7g",
        "outputId": "93ad6179-3239-4889-c190-1b9eef45a07e"
      },
      "outputs": [
        {
          "output_type": "stream",
          "name": "stdout",
          "text": [
            "Solar:2907308KW, Gasifier: 2214020KW, Battery: 4458279KWh || LCOE: [0.89260638]USD/KWh\n"
          ]
        }
      ],
      "source": [
        "'''\n",
        "Optimized results for SOO.\n",
        "'''\n",
        "solar, gasifier, battery = results.X\n",
        "print(f\"Solar:{solar}KW, Gasifier: {gasifier}KW, Battery: {battery}KWh || LCOE: {results.F}USD/KWh\")"
      ]
    },
    {
      "cell_type": "code",
      "execution_count": null,
      "metadata": {
        "colab": {
          "base_uri": "https://localhost:8080/",
          "height": 472
        },
        "id": "E_YUTSPji4_o",
        "outputId": "3d48b439-364f-4ea7-dfb0-fe6ae99b6d61"
      },
      "outputs": [
        {
          "output_type": "display_data",
          "data": {
            "text/plain": [
              "<Figure size 640x480 with 1 Axes>"
            ],
            "image/png": "[encoded data removed]"
          },
          "metadata": {}
        }
      ],
      "source": [
        "'''\n",
        "Convergence plot for SOO.\n",
        "'''\n",
        "import numpy as np\n",
        "import matplotlib.pyplot as plt\n",
        "\n",
        "n_evals = np.array([e.evaluator.n_eval for e in results.history])\n",
        "opt = np.array([e.opt[0].F for e in results.history])\n",
        "\n",
        "plt.title(\"Convergence\")\n",
        "plt.plot(n_evals[2:], opt[2:], \"--\")\n",
        "plt.xlabel(\"number of function evaluations\")\n",
        "plt.ylabel(\"LCOE(USD/KWh)\")\n",
        "plt.show()"
      ]
    },
    {
      "cell_type": "code",
      "execution_count": null,
      "metadata": {
        "colab": {
          "base_uri": "https://localhost:8080/"
        },
        "id": "wCH4XnqjWRox",
        "outputId": "6ef360d1-51ef-49d7-b3dc-d64b96de7ec2"
      },
      "outputs": [
        {
          "output_type": "stream",
          "name": "stdout",
          "text": [
            "1710\n",
            "652537344.4901885\n",
            "785912711.3029149 2.48182536396141\n"
          ]
        }
      ],
      "source": [
        "'''\n",
        "Viewing the operation of the optimized hybrid energy system.\n",
        "'''\n",
        "# solar, gasifier, battery = results.X\n",
        "solar, gasifier, battery = 3717620.230751795, 2209925.35022830, 4446649.505009017\n",
        "\n",
        "# Solar:3717620.230751795KW, Gasifier: 2209925.350228307KW, Battery: 4446649.505009017KWh || LCOE: [0.12784646]USD/KWh\n",
        "\n",
        "solar_array = []\n",
        "gasifier_array = []\n",
        "battery_array = []\n",
        "battery_supply_array = []\n",
        "deficit_array = []\n",
        "\n",
        "total_supply = []\n",
        "\n",
        "count = 0\n",
        "gasifier_up_hr = 0\n",
        "gasifier_energy = 0\n",
        "Energy_prod_N = 0\n",
        "battery_E = battery\n",
        "# for i in range(len(df)):\n",
        "for i in range(8760):\n",
        "\n",
        "  # Energy_produced = Energy_prod(solar_rate=solar, solar_rad=df['ghi'][i], gasifier_rate=gasifier, temp=df['air_temperature'][i])\n",
        "  Energy_served, battery_supply, battery_E, solar_ene, gasifier_ene = Energy_prod_(energy_def=df['deficit_energy'][i] ,battery_E=battery_E ,battery_max=battery, solar_rate=solar, solar_rad=df['ghi'][i], gasifier_rate=gasifier, temp=df['air_temperature'][i])\n",
        "  Energy_prod_N += Energy_served\n",
        "  gasifier_energy+=gasifier_ene\n",
        "\n",
        "  if round(gasifier_ene, 2)>0:\n",
        "    # print(gasifier_ene)\n",
        "    # print(i)\n",
        "\n",
        "\n",
        "    gasifier_up_hr+=1\n",
        "\n",
        "  deficit_array.append(df['deficit_energy'][i])\n",
        "  solar_array.append(solar_ene)\n",
        "  gasifier_array.append(gasifier_ene)\n",
        "  battery_supply_array.append(battery_supply)\n",
        "  battery_array.append(battery_E)\n",
        "  total_supply.append(battery_supply+gasifier_ene+solar_ene)\n",
        "print(gasifier_up_hr)\n",
        "print(gasifier_energy)\n",
        "asc, lcoe = LCOE(Energy_prod_N, solar, gasifier, battery)\n",
        "print(asc, lcoe)"
      ]
    },
    {
      "cell_type": "code",
      "execution_count": null,
      "metadata": {
        "id": "M4toG3X9kn9B",
        "outputId": "7e45332f-13d8-42a4-9b8d-026dcb31305a"
      },
      "outputs": [
        {
          "data": {
            "text/plain": [
              "232895515.4184573"
            ]
          },
          "execution_count": 328,
          "metadata": {},
          "output_type": "execute_result"
        }
      ],
      "source": [
        "640462667.4007576/2.75\n"
      ]
    },
    {
      "cell_type": "code",
      "execution_count": null,
      "metadata": {
        "colab": {
          "base_uri": "https://localhost:8080/",
          "height": 482
        },
        "id": "kmno2eoNZOIQ",
        "outputId": "8fc80733-36ef-4b6b-f286-d25a89008bf9"
      },
      "outputs": [
        {
          "output_type": "execute_result",
          "data": {
            "text/plain": [
              "<matplotlib.legend.Legend at 0x7b50dbc57f40>"
            ]
          },
          "metadata": {},
          "execution_count": 47
        },
        {
          "output_type": "display_data",
          "data": {
            "text/plain": [
              "<Figure size 640x480 with 1 Axes>"
            ],
            "image/png": "[encoded data removed]"
          },
          "metadata": {}
        }
      ],
      "source": [
        "'''\n",
        "Viewing the operation of the optimized hybrid energy system.\n",
        "'''\n",
        "i = 0 # start hour\n",
        "j = 8760 # end hour\n",
        "x = np.arange(i,j)\n",
        "plt.plot(x,solar_array[i:j], label='solar')\n",
        "plt.plot(x,gasifier_array[i:j], label='gasifier')\n",
        "# plt.plot(x,battery_array[i:j], label = 'battery-SOC')\n",
        "# plt.plot(x,battery_supply_array[i:j], label = 'battery')\n",
        "# plt.plot(x,-np.array(deficit_array[i:j]), label = 'deficit')\n",
        "# plt.plot(x,-np.array(deficit_array[i:j]), label = 'deficit/surplus')\n",
        "# plt.plot(x,np.array(deficit_array[i:j]), label = 'surplus')\n",
        "plt.xlabel(\"hour\")\n",
        "plt.ylabel(\"KW\")\n",
        "# plt.plot(x,total_supply[i:j], label = 'total')\n",
        "plt.grid()\n",
        "plt.legend(loc='upper right',bbox_to_anchor=(1.2,0.5))"
      ]
    },
    {
      "cell_type": "code",
      "execution_count": null,
      "metadata": {
        "id": "S340Xe6b9Rgg"
      },
      "outputs": [],
      "source": []
    }
  ],
  "metadata": {
    "colab": {
      "provenance": [],
      "include_colab_link": true
    },
    "kernelspec": {
      "display_name": "Python 3",
      "name": "python3"
    },
    "language_info": {
      "codemirror_mode": {
        "name": "ipython",
        "version": 3
      },
      "file_extension": ".py",
      "mimetype": "text/x-python",
      "name": "python",
      "nbconvert_exporter": "python",
      "pygments_lexer": "ipython3",
      "version": "3.11.5"
    }
  },
  "nbformat": 4,
  "nbformat_minor": 0
}